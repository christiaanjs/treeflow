{
 "cells": [
  {
   "cell_type": "code",
   "execution_count": 1,
   "metadata": {},
   "outputs": [],
   "source": [
    "newick_file = '../libsbn/data/hello_singleton.nwk'\n",
    "fasta_file = '../libsbn/data/hello.fasta'"
   ]
  },
  {
   "cell_type": "code",
   "execution_count": 2,
   "metadata": {},
   "outputs": [
    {
     "data": {
      "text/plain": [
       "[array([[ 1.        ,  1.96078432,  0.        ,  0.47058824],\n",
       "        [ 1.        , -2.04081631,  0.46938777,  0.        ],\n",
       "        [ 1.        ,  1.96078432,  0.        , -0.52941179],\n",
       "        [ 1.        , -2.04081631, -0.53061223,  0.        ]]),\n",
       " array([ 0.        , -1.00180328, -1.49268687, -1.51272285]),\n",
       " array([[ 0.27  ,  0.26  ,  0.24  ,  0.23  ],\n",
       "        [ 0.1323, -0.1326,  0.1176, -0.1173],\n",
       "        [ 0.    ,  1.    ,  0.    , -1.    ],\n",
       "        [ 1.    ,  0.    , -1.    ,  0.    ]])]"
      ]
     },
     "execution_count": 2,
     "metadata": {},
     "output_type": "execute_result"
    }
   ],
   "source": [
    "import substitution_model\n",
    "import numpy as np\n",
    "import tensorflow as tf\n",
    "\n",
    "kappa = np.array(2.)\n",
    "pi = np.array([0.27, 0.26, 0.24, 0.23])\n",
    "eigendecomp = [x.numpy() for x in substitution_model.hky_eigendecomposition(pi, kappa)]\n",
    "eigendecomp"
   ]
  },
  {
   "cell_type": "markdown",
   "metadata": {},
   "source": [
    "### Likelihood value"
   ]
  },
  {
   "cell_type": "code",
   "execution_count": 3,
   "metadata": {},
   "outputs": [
    {
     "data": {
      "text/plain": [
       "-84.5624981081271"
      ]
     },
     "execution_count": 3,
     "metadata": {},
     "output_type": "execute_result"
    }
   ],
   "source": [
    "import tensorflow_scan_likelihood\n",
    "from importlib import reload\n",
    "reload(tensorflow_scan_likelihood)\n",
    "\n",
    "tf_likelihood = tensorflow_scan_likelihood.TensorflowScanLikelihood(newick_file=newick_file, fasta_file=fasta_file)\n",
    "branch_lengths = tf_likelihood.get_init_branch_lengths()\n",
    "tf_likelihood.compute_likelihood(branch_lengths, pi, eigendecomp)"
   ]
  },
  {
   "cell_type": "markdown",
   "metadata": {},
   "source": [
    "### Full parameter gradients"
   ]
  },
  {
   "cell_type": "code",
   "execution_count": 4,
   "metadata": {},
   "outputs": [
    {
     "name": "stdout",
     "output_type": "stream",
     "text": [
      "WARNING:tensorflow:From /home/christiaanjs/miniconda3/envs/libsbn/lib/python3.7/site-packages/tensorflow_core/python/ops/math_grad.py:281: setdiff1d (from tensorflow.python.ops.array_ops) is deprecated and will be removed after 2018-11-30.\n",
      "Instructions for updating:\n",
      "This op will be removed after the deprecation date. Please switch to tf.sets.difference().\n"
     ]
    },
    {
     "data": {
      "text/plain": [
       "[<tf.Tensor: id=859, shape=(4,), dtype=float64, numpy=array([ 21.13854016,  -5.43991438, -17.56636543, -17.56636543])>,\n",
       " <tf.Tensor: id=1190, shape=(), dtype=float64, numpy=-0.1310531416474613>,\n",
       " <tf.Tensor: id=1191, shape=(4,), dtype=float64, numpy=array([145.36954667, 139.26020098, 179.57984775, 128.4783711 ])>]"
      ]
     },
     "execution_count": 4,
     "metadata": {},
     "output_type": "execute_result"
    }
   ],
   "source": [
    "with tf.GradientTape() as t:\n",
    "    branch_lengths = tf.convert_to_tensor(branch_lengths)\n",
    "    kappa = tf.convert_to_tensor(kappa)\n",
    "    pi = tf.convert_to_tensor(pi)\n",
    "    t.watch(branch_lengths)\n",
    "    t.watch(kappa)\n",
    "    t.watch(pi)\n",
    "    eigendecomp = substitution_model.hky_eigendecomposition(pi, kappa)\n",
    "    likelihood = tf_likelihood.compute_likelihood_tf(branch_lengths, pi, eigendecomp)\n",
    "t.gradient(likelihood, [branch_lengths, kappa, pi])"
   ]
  },
  {
   "cell_type": "markdown",
   "metadata": {},
   "source": [
    "### Q gradient - HKY"
   ]
  },
  {
   "cell_type": "code",
   "execution_count": 138,
   "metadata": {},
   "outputs": [
    {
     "data": {
      "text/plain": [
       "[<tf.Tensor: id=13500, shape=(4, 4), dtype=float64, numpy=\n",
       " array([[-0.24,  0.  ,  0.24,  0.  ],\n",
       "        [ 0.  , -0.23,  0.  ,  0.23],\n",
       "        [ 0.27,  0.  , -0.27,  0.  ],\n",
       "        [ 0.  ,  0.26,  0.  , -0.26]])>,\n",
       " <tf.Tensor: id=13508, shape=(4, 4, 4), dtype=float64, numpy=\n",
       " array([[[ 0., -1., -2., -1.],\n",
       "         [ 0.,  1.,  0.,  0.],\n",
       "         [ 0.,  0.,  2.,  0.],\n",
       "         [ 0.,  0.,  0.,  1.]],\n",
       " \n",
       "        [[ 1.,  0.,  0.,  0.],\n",
       "         [-1.,  0., -1., -2.],\n",
       "         [ 0.,  0.,  1.,  0.],\n",
       "         [ 0.,  0.,  0.,  2.]],\n",
       " \n",
       "        [[ 2.,  0.,  0.,  0.],\n",
       "         [ 0.,  1.,  0.,  0.],\n",
       "         [-2., -1.,  0., -1.],\n",
       "         [ 0.,  0.,  0.,  1.]],\n",
       " \n",
       "        [[ 1.,  0.,  0.,  0.],\n",
       "         [ 0.,  2.,  0.,  0.],\n",
       "         [ 0.,  0.,  1.,  0.],\n",
       "         [-1., -2., -1.,  0.]]])>]"
      ]
     },
     "execution_count": 138,
     "metadata": {},
     "output_type": "execute_result"
    }
   ],
   "source": [
    "with tf.GradientTape() as t:\n",
    "    t.watch(kappa)\n",
    "    t.watch(pi)\n",
    "    hky_q = substitution_model.hky_q_matrix(pi, kappa)\n",
    "t.jacobian(hky_q, [kappa, pi])"
   ]
  },
  {
   "cell_type": "markdown",
   "metadata": {},
   "source": [
    "#### Kappa"
   ]
  },
  {
   "cell_type": "code",
   "execution_count": 144,
   "metadata": {},
   "outputs": [
    {
     "data": {
      "text/plain": [
       "<tf.Tensor: id=14776, shape=(4, 4), dtype=float64, numpy=\n",
       "array([[-0.24,  0.  ,  0.24,  0.  ],\n",
       "       [ 0.  , -0.23,  0.  ,  0.23],\n",
       "       [ 0.27,  0.  , -0.27,  0.  ],\n",
       "       [ 0.  ,  0.26,  0.  , -0.26]])>"
      ]
     },
     "execution_count": 144,
     "metadata": {},
     "output_type": "execute_result"
    }
   ],
   "source": [
    "reload(substitution_model)\n",
    "\n",
    "hky_kappa_differential = substitution_model.hky_kappa_differential(pi)\n",
    "hky_kappa_differential"
   ]
  },
  {
   "cell_type": "markdown",
   "metadata": {},
   "source": [
    "#### Frequencies"
   ]
  },
  {
   "cell_type": "markdown",
   "metadata": {},
   "source": [
    "### Normalisation gradient"
   ]
  },
  {
   "cell_type": "code",
   "execution_count": 145,
   "metadata": {},
   "outputs": [
    {
     "data": {
      "text/plain": [
       "[<tf.Tensor: id=15627, shape=(4, 4), dtype=float64, numpy=\n",
       " array([[ 0.00216378, -0.06502588,  0.120385  , -0.0575229 ],\n",
       "        [-0.06752688,  0.01218182, -0.06002389,  0.11536895],\n",
       "        [ 0.13543312, -0.06502588, -0.01288434, -0.0575229 ],\n",
       "        [-0.06752688,  0.13041708, -0.06002389, -0.00286631]])>]"
      ]
     },
     "execution_count": 145,
     "metadata": {},
     "output_type": "execute_result"
    }
   ],
   "source": [
    "with tf.GradientTape() as t:\n",
    "    t.watch(kappa)\n",
    "    t.watch(pi)\n",
    "    hky_q = substitution_model.hky_q_matrix(pi, kappa)\n",
    "    hky_norm_const = substitution_model.normalising_constant(hky_q, pi)\n",
    "    hky_q_norm = hky_q / hky_norm_const\n",
    "t.jacobian(hky_q_norm, [kappa])"
   ]
  },
  {
   "cell_type": "code",
   "execution_count": 146,
   "metadata": {},
   "outputs": [
    {
     "data": {
      "text/plain": [
       "<tf.Tensor: id=15635, shape=(4, 4), dtype=float64, numpy=\n",
       "array([[ 0.00216378, -0.06502588,  0.120385  , -0.0575229 ],\n",
       "       [-0.06752688,  0.01218182, -0.06002389,  0.11536895],\n",
       "       [ 0.13543312, -0.06502588, -0.01288434, -0.0575229 ],\n",
       "       [-0.06752688,  0.13041708, -0.06002389, -0.00286631]])>"
      ]
     },
     "execution_count": 146,
     "metadata": {},
     "output_type": "execute_result"
    }
   ],
   "source": [
    "substitution_model.normalised_differential(hky_kappa_differential, hky_q_norm, hky_norm_const, pi)"
   ]
  },
  {
   "cell_type": "markdown",
   "metadata": {},
   "source": [
    "### Transition probability gradient"
   ]
  },
  {
   "cell_type": "code",
   "execution_count": 170,
   "metadata": {},
   "outputs": [
    {
     "data": {
      "text/plain": [
       "<tf.Tensor: id=21279, shape=(2, 4, 4), dtype=float64, numpy=\n",
       "array([[[ 0.00021638, -0.00650259,  0.0120385 , -0.00575229],\n",
       "        [-0.00675269,  0.00121818, -0.00600239,  0.0115369 ],\n",
       "        [ 0.01354331, -0.00650259, -0.00128843, -0.00575229],\n",
       "        [-0.00675269,  0.01304171, -0.00600239, -0.00028663]],\n",
       "\n",
       "       [[ 0.00021638, -0.00650259,  0.0120385 , -0.00575229],\n",
       "        [-0.00675269,  0.00121818, -0.00600239,  0.0115369 ],\n",
       "        [ 0.01354331, -0.00650259, -0.00128843, -0.00575229],\n",
       "        [-0.00675269,  0.01304171, -0.00600239, -0.00028663]]])>"
      ]
     },
     "execution_count": 170,
     "metadata": {},
     "output_type": "execute_result"
    }
   ],
   "source": [
    "with tf.GradientTape() as t:\n",
    "    t.watch(kappa)\n",
    "    t.watch(pi)\n",
    "    eigendecomp = substitution_model.hky_eigendecomposition(pi, kappa)\n",
    "    transition_probs_2 = substitution_model.transition_probs(eigendecomp, branch_lengths[:2])\n",
    "\n",
    "transition_probs_inv = tf.linalg.inv(substitution_model.transition_probs(eigendecomp, branch_lengths[:2]))\n",
    "tf.linalg.matmul(transition_probs_inv, t.jacobian(transition_probs_2, [kappa])[0])"
   ]
  },
  {
   "cell_type": "code",
   "execution_count": 163,
   "metadata": {},
   "outputs": [
    {
     "data": {
      "text/plain": [
       "<tf.Tensor: id=16953, shape=(2, 4, 4), dtype=float64, numpy=\n",
       "array([[[ 0.00021638, -0.00650259,  0.0120385 , -0.00575229],\n",
       "        [-0.00675269,  0.00121818, -0.00600239,  0.0115369 ],\n",
       "        [ 0.01354331, -0.00650259, -0.00128843, -0.00575229],\n",
       "        [-0.00675269,  0.01304171, -0.00600239, -0.00028663]],\n",
       "\n",
       "       [[ 0.00021638, -0.00650259,  0.0120385 , -0.00575229],\n",
       "        [-0.00675269,  0.00121818, -0.00600239,  0.0115369 ],\n",
       "        [ 0.01354331, -0.00650259, -0.00128843, -0.00575229],\n",
       "        [-0.00675269,  0.01304171, -0.00600239, -0.00028663]]])>"
      ]
     },
     "execution_count": 163,
     "metadata": {},
     "output_type": "execute_result"
    }
   ],
   "source": [
    "reload(substitution_model)\n",
    "\n",
    "q_diff_norm = substitution_model.normalised_differential(hky_kappa_differential, hky_q_norm, hky_norm_const, pi)\n",
    "substitution_model.transition_probs_differential(q_diff_norm, eigendecomp, branch_lengths[:2])"
   ]
  },
  {
   "cell_type": "markdown",
   "metadata": {},
   "source": [
    "### Sum-product gradient"
   ]
  },
  {
   "cell_type": "code",
   "execution_count": 181,
   "metadata": {},
   "outputs": [],
   "source": [
    "import tensorflow_scan_likelihood\n",
    "from importlib import reload\n",
    "reload(tensorflow_scan_likelihood)\n",
    "\n",
    "tf_scan_likelihood = tensorflow_scan_likelihood.TensorflowScanLikelihood(newick_file=newick_file, fasta_file=fasta_file)\n",
    "tf_scan_likelihood.init_postorder_partials(fasta_file)\n",
    "tf_scan_likelihood.compute_postorder_partials(transition_probs)\n",
    "tf_scan_likelihood.init_preorder_partials(pi)\n",
    "tf_scan_likelihood.compute_preorder_partials(transition_probs)"
   ]
  },
  {
   "cell_type": "markdown",
   "metadata": {},
   "source": [
    "#### Branch length gradient"
   ]
  },
  {
   "cell_type": "code",
   "execution_count": 191,
   "metadata": {},
   "outputs": [
    {
     "data": {
      "text/plain": [
       "<tf.Tensor: id=23052, shape=(4, 4), dtype=float64, numpy=\n",
       "array([[-0.97174915,  0.26046884,  0.48086556,  0.23041475],\n",
       "       [ 0.27048688, -0.97174915,  0.24043278,  0.46082949],\n",
       "       [ 0.54097375,  0.26046884, -1.03185734,  0.23041475],\n",
       "       [ 0.27048688,  0.52093769,  0.24043278, -1.03185734]])>"
      ]
     },
     "execution_count": 191,
     "metadata": {},
     "output_type": "execute_result"
    }
   ],
   "source": [
    "reload(substitution_model)\n",
    "\n",
    "hky_q = substitution_model.normalise(substitution_model.hky_q_matrix(pi, kappa), pi)\n",
    "hky_q"
   ]
  },
  {
   "cell_type": "code",
   "execution_count": 174,
   "metadata": {},
   "outputs": [
    {
     "data": {
      "text/plain": [
       "<tf.Tensor: id=21533, shape=(4,), dtype=float64, numpy=array([ 18.75984318,  -4.54135731, -17.46598446, -17.37293861])>"
      ]
     },
     "execution_count": 174,
     "metadata": {},
     "output_type": "execute_result"
    }
   ],
   "source": [
    "tf_scan_likelihood.compute_edge_derivatives(tf.expand_dims(hky_q, 0))"
   ]
  },
  {
   "cell_type": "markdown",
   "metadata": {},
   "source": [
    "#### Kappa gradient"
   ]
  },
  {
   "cell_type": "code",
   "execution_count": 182,
   "metadata": {},
   "outputs": [
    {
     "data": {
      "text/plain": [
       "<tf.Tensor: id=22482, shape=(), dtype=float64, numpy=-0.1310531416474617>"
      ]
     },
     "execution_count": 182,
     "metadata": {},
     "output_type": "execute_result"
    }
   ],
   "source": [
    "transition_prob_differentials = substitution_model.transition_probs_differential(q_diff_norm, eigendecomp, branch_lengths)\n",
    "tf.reduce_sum(tf_scan_likelihood.compute_edge_derivatives(transition_prob_differentials))"
   ]
  },
  {
   "cell_type": "markdown",
   "metadata": {},
   "source": [
    "#### Frequencies gradients"
   ]
  },
  {
   "cell_type": "code",
   "execution_count": 204,
   "metadata": {},
   "outputs": [
    {
     "data": {
      "text/plain": [
       "<tf.Tensor: id=23281, shape=(), dtype=float64, numpy=25.16083296428147>"
      ]
     },
     "execution_count": 204,
     "metadata": {},
     "output_type": "execute_result"
    }
   ],
   "source": [
    "site_likelihoods = tf.reduce_sum(tf_scan_likelihood.postorder_partials[-1] * tf_scan_likelihood.preorder_partials[-1], axis=1)\n",
    "tf.reduce_sum(tf_scan_likelihood.postorder_partials[-1, :, 0] * tf_scan_likelihood.pattern_counts / site_likelihoods)"
   ]
  },
  {
   "cell_type": "code",
   "execution_count": 192,
   "metadata": {},
   "outputs": [
    {
     "data": {
      "text/plain": [
       "<tf.Tensor: id=23155, shape=(), dtype=float64, numpy=3.640960580759664>"
      ]
     },
     "execution_count": 192,
     "metadata": {},
     "output_type": "execute_result"
    }
   ],
   "source": [
    "pi_diff = substitution_model.hky_frequencies_differential(kappa)[0]\n",
    "pi_diff_norm = substitution_model.normalised_differential(pi_diff, hky_q_norm, hky_norm_const, pi)\n",
    "freq_transition_prob_differentials = substitution_model.transition_probs_differential(pi_diff_norm, eigendecomp, branch_lengths)\n",
    "tf.reduce_sum(tf_scan_likelihood.compute_edge_derivatives(freq_transition_prob_differentials))"
   ]
  }
 ],
 "metadata": {
  "kernelspec": {
   "display_name": "Python 3",
   "language": "python",
   "name": "python3"
  },
  "language_info": {
   "codemirror_mode": {
    "name": "ipython",
    "version": 3
   },
   "file_extension": ".py",
   "mimetype": "text/x-python",
   "name": "python",
   "nbconvert_exporter": "python",
   "pygments_lexer": "ipython3",
   "version": "3.7.3"
  }
 },
 "nbformat": 4,
 "nbformat_minor": 2
}
