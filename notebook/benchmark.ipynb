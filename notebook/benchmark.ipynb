{
 "cells": [
  {
   "cell_type": "code",
   "execution_count": 1,
   "metadata": {},
   "outputs": [],
   "source": [
    "import treeflow.libsbn\n",
    "import treeflow.model\n",
    "import numpy as np\n",
    "\n",
    "newick_file = 'demo-data/dengue.newick'\n",
    "fasta_file = 'demo-data/dengue.fasta'\n",
    "\n",
    "inst = treeflow.libsbn.get_instance(newick_file)\n",
    "q_tree = treeflow.model.construct_tree_approximation(newick_file, inst=inst)"
   ]
  },
  {
   "cell_type": "code",
   "execution_count": 2,
   "metadata": {},
   "outputs": [
    {
     "data": {
      "text/plain": [
       "{'topology': {'parent_indices': <tf.Tensor: shape=(32,), dtype=int64, numpy=\n",
       "  array([17, 17, 18, 19, 19, 20, 22, 23, 23, 24, 25, 26, 27, 28, 29, 30, 31,\n",
       "         18, 21, 20, 21, 22, 32, 24, 25, 26, 27, 28, 29, 30, 31, 32])>},\n",
       " 'heights': <tf.Tensor: shape=(33,), dtype=float32, numpy=\n",
       " array([10.00009 , 16.00008 , 16.00009 , 30.00009 , 10.00011 , 38.0001  ,\n",
       "        31.00009 , 12.00005 , 11.00005 , 13.00006 , 10.00005 ,  8.00005 ,\n",
       "         0.      , 15.00005 ,  9.00005 , 17.00005 , 18.00005 , 23.016   ,\n",
       "        26.43827 , 30.754513, 37.13909 , 35.153713, 33.361156, 12.340055,\n",
       "        13.376332, 14.045527, 14.802625, 14.860653, 15.832997, 17.9914  ,\n",
       "        18.56426 , 18.726286, 33.327686], dtype=float32)>}"
      ]
     },
     "execution_count": 2,
     "metadata": {},
     "output_type": "execute_result"
    }
   ],
   "source": [
    "q_tree.sample()"
   ]
  },
  {
   "cell_type": "code",
   "execution_count": 3,
   "metadata": {},
   "outputs": [
    {
     "data": {
      "text/plain": [
       "(<tf.Tensor: shape=(16,), dtype=float32, numpy=\n",
       " array([20.252815, 40.39217 , 47.1811  , 68.60814 , 84.813896, 86.27825 ,\n",
       "        14.002418, 14.195272, 15.632719, 20.261486, 20.363136, 20.842209,\n",
       "        22.383423, 27.433018, 32.275726, 86.63322 ], dtype=float32)>,\n",
       " array([10.        , 16.        , 16.        , 30.        , 10.        ,\n",
       "        38.        , 31.        , 12.        , 11.        , 13.        ,\n",
       "        10.        ,  8.        ,  0.        , 15.        ,  9.        ,\n",
       "        17.        , 18.        , 23.01600077, 26.43827119, 30.75451352,\n",
       "        37.13909298, 35.15371438, 33.36115766, 12.34005559, 13.37633239,\n",
       "        14.04552767, 14.80262507, 14.86065326, 15.83299728, 17.99140003,\n",
       "        18.56426073, 18.72628665, 33.32768631]))"
      ]
     },
     "execution_count": 3,
     "metadata": {},
     "output_type": "execute_result"
    }
   ],
   "source": [
    "bij = q_tree.model['heights'].distributions[1].bijector.bijectors[0]\n",
    "init_heights = np.array(bij.tree.node_heights)\n",
    "to_ratios = q_tree.model['heights'].distributions[1].bijector.bijectors[1]\n",
    "base = q_tree.model['heights'].distributions[1].distribution\n",
    "ratio_sample = to_ratios.forward(base.sample())\n",
    "bij.forward(ratio_sample), init_heights"
   ]
  },
  {
   "cell_type": "code",
   "execution_count": 4,
   "metadata": {},
   "outputs": [
    {
     "data": {
      "text/plain": [
       "<tf.Tensor: shape=(16,), dtype=float32, numpy=\n",
       "array([  550.92737 ,  4144.6045  ,  3881.131   , 19220.996   ,\n",
       "       22935.514   , 23490.318   ,    80.898125,   179.72    ,\n",
       "         251.0769  ,   457.78253 ,  1072.3301  ,   926.7661  ,\n",
       "        2899.6716  ,  1639.7069  , 28310.908   ,   530.0461  ],\n",
       "      dtype=float32)>"
      ]
     },
     "execution_count": 4,
     "metadata": {},
     "output_type": "execute_result"
    }
   ],
   "source": [
    "import tensorflow as tf\n",
    "\n",
    "with tf.GradientTape() as t:\n",
    "    t.watch(ratio_sample)\n",
    "    heights = bij.forward(ratio_sample)\n",
    "    res = tf.reduce_sum(heights * heights)\n",
    "    \n",
    "t.gradient(res, ratio_sample)"
   ]
  }
 ],
 "metadata": {
  "kernelspec": {
   "display_name": "Python 3",
   "language": "python",
   "name": "python3"
  },
  "language_info": {
   "codemirror_mode": {
    "name": "ipython",
    "version": 3
   },
   "file_extension": ".py",
   "mimetype": "text/x-python",
   "name": "python",
   "nbconvert_exporter": "python",
   "pygments_lexer": "ipython3",
   "version": "3.7.7"
  }
 },
 "nbformat": 4,
 "nbformat_minor": 4
}
