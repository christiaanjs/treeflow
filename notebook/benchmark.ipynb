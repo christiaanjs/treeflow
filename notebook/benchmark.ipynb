{
 "cells": [
  {
   "cell_type": "code",
   "execution_count": 1,
   "metadata": {},
   "outputs": [],
   "source": [
    "import treeflow.libsbn\n",
    "import treeflow.model\n",
    "import numpy as np\n",
    "\n",
    "newick_file = 'demo-data/dengue.newick'\n",
    "fasta_file = 'demo-data/dengue.fasta'\n",
    "\n",
    "inst = treeflow.libsbn.get_instance(newick_file)\n",
    "q_tree = treeflow.model.construct_tree_approximation(newick_file, inst=inst)"
   ]
  },
  {
   "cell_type": "code",
   "execution_count": 2,
   "metadata": {},
   "outputs": [
    {
     "data": {
      "text/plain": [
       "{'topology': {'parent_indices': <tf.Tensor: shape=(32,), dtype=int64, numpy=\n",
       "  array([17, 17, 18, 19, 19, 20, 22, 23, 23, 24, 25, 26, 27, 28, 29, 30, 31,\n",
       "         18, 21, 20, 21, 22, 32, 24, 25, 26, 27, 28, 29, 30, 31, 32])>},\n",
       " 'heights': <tf.Tensor: shape=(33,), dtype=float32, numpy=\n",
       " array([ 10.00009 ,  16.00008 ,  16.00009 ,  30.00009 ,  10.00011 ,\n",
       "         38.0001  ,  31.00009 ,  12.00005 ,  11.00005 ,  13.00006 ,\n",
       "         10.00005 ,   8.00005 ,   0.      ,  15.00005 ,   9.00005 ,\n",
       "         17.00005 ,  18.00005 ,  28.507296,  86.97663 ,  52.00375 ,\n",
       "         58.61163 , 132.61856 , 147.09761 ,  12.63696 ,  13.148711,\n",
       "         13.399259,  13.446976,  13.450745,  16.130322,  16.45659 ,\n",
       "         47.743423,  48.965336, 149.92657 ], dtype=float32)>}"
      ]
     },
     "execution_count": 2,
     "metadata": {},
     "output_type": "execute_result"
    }
   ],
   "source": [
    "q_tree.sample()"
   ]
  },
  {
   "cell_type": "code",
   "execution_count": 3,
   "metadata": {},
   "outputs": [
    {
     "data": {
      "text/plain": [
       "(<tf.Tensor: shape=(16,), dtype=float32, numpy=\n",
       " array([26.448656 , 29.608915 , 33.911022 , 37.23276  , 34.81719  ,\n",
       "        23.277449 , 12.619947 , 13.302016 , 13.857838 , 14.881178 ,\n",
       "        14.889234 , 15.5048485, 15.545942 , 18.184803 , 18.219877 ,\n",
       "        23.220041 ], dtype=float32)>,\n",
       " array([ 10.        ,  16.        ,  16.        ,  30.        ,\n",
       "         10.        ,  38.        ,  31.        ,  12.        ,\n",
       "         11.        ,  13.        ,  10.        ,   8.        ,\n",
       "          0.        ,  15.        ,   9.        ,  17.        ,\n",
       "         18.        ,  28.50729511,  86.97663387,  52.00374891,\n",
       "         58.61162827, 132.61856657, 147.09761809,  12.63695975,\n",
       "         13.14871087,  13.39925901,  13.44697533,  13.45074424,\n",
       "         16.13032169,  16.45659145,  47.74342179,  48.96533664,\n",
       "        149.92657471]))"
      ]
     },
     "execution_count": 3,
     "metadata": {},
     "output_type": "execute_result"
    }
   ],
   "source": [
    "chain_bijector = q_tree.height_distribution.node_height_distribution.bijector\n",
    "height_to_ratio_bijector = chain_bijector.ratio_bijector\n",
    "real_to_ratio_bijector = chain_bijector.to_ratio_bijector\n",
    "init_heights = np.array(height_to_ratio_bijector.tree.node_heights)\n",
    "base_distribution = q_tree.height_distribution.node_height_distribution.distribution\n",
    "ratio_sample = real_to_ratio_bijector.forward(base_distribution.sample())\n",
    "height_to_ratio_bijector.forward(ratio_sample), init_heights"
   ]
  },
  {
   "cell_type": "code",
   "execution_count": 4,
   "metadata": {},
   "outputs": [
    {
     "data": {
      "text/plain": [
       "<tf.Tensor: shape=(16,), dtype=float32, numpy=\n",
       "array([ 1767.6508  ,  2628.5437  ,   634.99524 ,  -299.1271  ,\n",
       "        -826.0055  , -1234.8271  ,    22.573204,    32.886696,\n",
       "          62.076458,    96.65865 ,   217.3868  ,    53.682484,\n",
       "         164.80824 ,    72.58271 ,   245.53429 ,   190.28377 ],\n",
       "      dtype=float32)>"
      ]
     },
     "execution_count": 4,
     "metadata": {},
     "output_type": "execute_result"
    }
   ],
   "source": [
    "import tensorflow as tf\n",
    "\n",
    "with tf.GradientTape() as t:\n",
    "    t.watch(ratio_sample)\n",
    "    heights = height_to_ratio_bijector.forward(ratio_sample)\n",
    "    res = tf.reduce_sum(heights * heights)\n",
    "    \n",
    "t.gradient(res, ratio_sample)"
   ]
  }
 ],
 "metadata": {
  "kernelspec": {
   "display_name": "Python 3",
   "language": "python",
   "name": "python3"
  },
  "language_info": {
   "codemirror_mode": {
    "name": "ipython",
    "version": 3
   },
   "file_extension": ".py",
   "mimetype": "text/x-python",
   "name": "python",
   "nbconvert_exporter": "python",
   "pygments_lexer": "ipython3",
   "version": "3.7.7"
  }
 },
 "nbformat": 4,
 "nbformat_minor": 4
}
