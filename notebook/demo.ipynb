{
 "cells": [
  {
   "cell_type": "markdown",
   "metadata": {
    "slideshow": {
     "slide_type": "slide"
    }
   },
   "source": [
    "# Tensorflow Probability & Treeflow Demo\n",
    "Author: Christiaan Swanepoel"
   ]
  },
  {
   "cell_type": "code",
   "execution_count": 1,
   "metadata": {},
   "outputs": [],
   "source": [
    "import numpy as np\n",
    "import tensorflow as tf\n",
    "import tensorflow_probability as tfp\n",
    "tfd = tfp.distributions\n",
    "import matplotlib.pyplot as plt"
   ]
  },
  {
   "cell_type": "markdown",
   "metadata": {
    "slideshow": {
     "slide_type": "slide"
    }
   },
   "source": [
    "## Tensorflow Probability distributions\n",
    "Represents distributions on `tf.Tensor` (or nested structures of tensors)\n",
    "\n",
    "### Properties\n",
    "* `dtype`\n",
    "* `reparameterization_type`\n",
    "\n",
    "### Core methods\n",
    "* `log_prob`\n",
    "* `sample`\n",
    "\n",
    "### Shape\n",
    "\n",
    "* **Event shape** - shape of a single draw (may or may not be dependent across dimensions)\n",
    "* **Batch shape** - independent samples from a collection of distributions (may or may not be i.i.d.)\n",
    "* **Sample shape** - i.i.d draws - specific to `log_prob` / `sample` call"
   ]
  },
  {
   "cell_type": "code",
   "execution_count": 2,
   "metadata": {
    "slideshow": {
     "slide_type": "subslide"
    }
   },
   "outputs": [
    {
     "data": {
      "text/plain": [
       "(<tfp.distributions.Normal 'Normal' batch_shape=[3, 2] event_shape=[] dtype=float64>,\n",
       " <tfp.distributions.Sample 'SampleNormal' batch_shape=[3, 2] event_shape=[4] dtype=float64>,\n",
       " <tfp.distributions.Independent 'IndependentNormal' batch_shape=[3] event_shape=[2] dtype=float64>,\n",
       " <tfp.distributions.Dirichlet 'Dirichlet' batch_shape=[3] event_shape=[2] dtype=float64>)"
      ]
     },
     "execution_count": 2,
     "metadata": {},
     "output_type": "execute_result"
    }
   ],
   "source": [
    "mus = np.random.normal(size=(3, 2))\n",
    "norm = tfd.Normal(mus, 1.0)\n",
    "dirichlet = tfd.Dirichlet(np.exp(mus))\n",
    "dists = norm, tfd.Sample(norm, sample_shape=4), tfd.Independent(norm, reinterpreted_batch_ndims=1), dirichlet\n",
    "dists"
   ]
  },
  {
   "cell_type": "code",
   "execution_count": 3,
   "metadata": {},
   "outputs": [
    {
     "data": {
      "text/plain": [
       "[TensorShape([3, 2]),\n",
       " TensorShape([3, 2, 4]),\n",
       " TensorShape([3, 2]),\n",
       " TensorShape([3, 2])]"
      ]
     },
     "execution_count": 3,
     "metadata": {},
     "output_type": "execute_result"
    }
   ],
   "source": [
    "[dist.sample().shape for dist in dists]"
   ]
  },
  {
   "cell_type": "markdown",
   "metadata": {
    "slideshow": {
     "slide_type": "slide"
    }
   },
   "source": [
    "## Automatic differentiation"
   ]
  },
  {
   "cell_type": "code",
   "execution_count": 4,
   "metadata": {},
   "outputs": [
    {
     "data": {
      "text/plain": [
       "(<tf.Tensor: shape=(), dtype=float32, numpy=-1.2389385>,\n",
       " <tf.Tensor: shape=(), dtype=float32, numpy=-0.79999995>)"
      ]
     },
     "execution_count": 4,
     "metadata": {},
     "output_type": "execute_result"
    }
   ],
   "source": [
    "mu = tf.convert_to_tensor(2.0)\n",
    "\n",
    "with tf.GradientTape() as t:\n",
    "    t.watch(mu)\n",
    "    dist = tfd.Normal(mu, 1.0)\n",
    "    logp = dist.log_prob(1.2)\n",
    "    \n",
    "logp, t.gradient(logp, mu)"
   ]
  },
  {
   "cell_type": "markdown",
   "metadata": {
    "slideshow": {
     "slide_type": "subslide"
    }
   },
   "source": [
    "### Reparameterization trick"
   ]
  },
  {
   "cell_type": "code",
   "execution_count": 5,
   "metadata": {},
   "outputs": [
    {
     "data": {
      "text/plain": [
       "(<tf.Tensor: shape=(), dtype=float32, numpy=2.800584>,\n",
       " <tf.Tensor: shape=(), dtype=float32, numpy=3.333795>)"
      ]
     },
     "execution_count": 5,
     "metadata": {},
     "output_type": "execute_result"
    }
   ],
   "source": [
    "with tf.GradientTape() as t:\n",
    "    t.watch(mu)\n",
    "    dist = tfd.Normal(mu, 1.0)\n",
    "    samples = dist.sample(2)\n",
    "    res = tfp.monte_carlo.expectation(lambda x: x ** 2.0, samples, log_prob=dist.log_prob)\n",
    "    \n",
    "res, t.gradient(res, mu)"
   ]
  },
  {
   "cell_type": "markdown",
   "metadata": {
    "slideshow": {
     "slide_type": "slide"
    }
   },
   "source": [
    "## Distributions on trees\n",
    "* Distribution on (nested) dictionary of tensors\n",
    "  * Topology\n",
    "  * Heights\n",
    "    * Leaf heights included in \"data\" - not clear what the right decision is\n",
    "* [`treeflow.tree`](https://github.com/christiaanjs/treeflow/blob/master/treeflow/tree.py) - Base class `TreeDistribution`\n",
    "* [`treeflow.coalescent`](https://github.com/christiaanjs/treeflow/blob/master/treeflow/coalescent.py)\n",
    "* [`treeflow.birthdeath`](https://github.com/christiaanjs/treeflow/blob/master/treeflow/birthdeath.py)\n",
    "* (sampling not yet implemented)"
   ]
  },
  {
   "cell_type": "code",
   "execution_count": 6,
   "metadata": {
    "slideshow": {
     "slide_type": "-"
    }
   },
   "outputs": [
    {
     "name": "stderr",
     "output_type": "stream",
     "text": [
      "/mnt/c/chris/git/treeflow/treeflow/coalescent.py:70: UserWarning: Dummy sampling\n",
      "  warnings.warn('Dummy sampling')\n"
     ]
    },
    {
     "data": {
      "text/plain": [
       "{'heights': <tf.Tensor: shape=(5,), dtype=float32, numpy=array([0., 0., 0., 0., 0.], dtype=float32)>,\n",
       " 'topology': {'parent_indices': <tf.Tensor: shape=(4,), dtype=int32, numpy=array([0, 0, 0, 0], dtype=int32)>}}"
      ]
     },
     "execution_count": 6,
     "metadata": {},
     "output_type": "execute_result"
    }
   ],
   "source": [
    "from treeflow.coalescent import ConstantCoalescent\n",
    "\n",
    "coalescent = ConstantCoalescent(3, 10.0, np.zeros(3))\n",
    "# Some problem with shape functions - using sample to show shape\n",
    "coalescent.sample()"
   ]
  },
  {
   "cell_type": "code",
   "execution_count": 7,
   "metadata": {
    "slideshow": {
     "slide_type": "subslide"
    }
   },
   "outputs": [
    {
     "data": {
      "text/plain": [
       "<tf.Tensor: shape=(2,), dtype=float32, numpy=array([-5.0051703, -4.9851704], dtype=float32)>"
      ]
     },
     "execution_count": 7,
     "metadata": {},
     "output_type": "execute_result"
    }
   ],
   "source": [
    "parent_indices = [3, 3, 4, 4]\n",
    "\n",
    "coalescent.log_prob({\n",
    "    'heights': tf.convert_to_tensor([[0, 0, 0, 1.0, 2.0], [0, 0, 0, 0.8, 2.2]]),\n",
    "    'topology': { 'parent_indices': tf.convert_to_tensor([parent_indices, parent_indices])  }\n",
    "})"
   ]
  },
  {
   "cell_type": "markdown",
   "metadata": {
    "slideshow": {
     "slide_type": "slide"
    }
   },
   "source": [
    "## Tensorflow Probability bijectors\n",
    "Transformations of distributions\n",
    "* Works with `TransformedDistribution`\n",
    "* Simple transformations like `Exp`, `Sigmoid`\n",
    "* Trainable transformations like `MaskedAutoregressiveFlow`\n",
    "* Compositions like `Chain`, `Blockwise`\n",
    "### Core methods\n",
    "* `forward`\n",
    "* `inverse`\n",
    "* `log_det_jacobian` (of inverse)"
   ]
  },
  {
   "cell_type": "code",
   "execution_count": 8,
   "metadata": {},
   "outputs": [
    {
     "data": {
      "text/plain": [
       "<tf.Tensor: shape=(3, 2), dtype=float64, numpy=\n",
       "array([[0.34713657, 0.52498975],\n",
       "       [0.50576806, 2.66180444],\n",
       "       [0.1391849 , 0.75679807]])>"
      ]
     },
     "execution_count": 8,
     "metadata": {},
     "output_type": "execute_result"
    }
   ],
   "source": [
    "log_normal = tfd.TransformedDistribution(norm, tfp.bijectors.Exp())\n",
    "log_normal.sample()"
   ]
  },
  {
   "cell_type": "markdown",
   "metadata": {
    "slideshow": {
     "slide_type": "slide"
    }
   },
   "source": [
    "## Bijectors for trees\n",
    "* [`treeflow.tree_transform`](https://github.com/christiaanjs/treeflow/blob/master/treeflow/tree_transform.py)\n",
    "  * Note: indexing conventions are not very standardised\n",
    "* Distributions on node heights constructed in  [`treeflow.model`](https://github.com/christiaanjs/treeflow/blob/master/treeflow/model.py)"
   ]
  },
  {
   "cell_type": "code",
   "execution_count": 9,
   "metadata": {},
   "outputs": [
    {
     "data": {
      "text/plain": [
       "<tf.Tensor: shape=(2,), dtype=float32, numpy=array([0.6165414, 0.7045766], dtype=float32)>"
      ]
     },
     "execution_count": 9,
     "metadata": {},
     "output_type": "execute_result"
    }
   ],
   "source": [
    "from treeflow.tree_transform import BranchBreaking\n",
    "\n",
    "base_dist = tfd.Independent(tfd.Normal(tf.zeros(2), 1.0), reinterpreted_batch_ndims=1)\n",
    "\n",
    "ratio_dist = tfd.TransformedDistribution(base_dist, tfp.bijectors.Sigmoid())\n",
    "\n",
    "preorder_node_indices = [0]\n",
    "tree_bij = BranchBreaking(tf.convert_to_tensor(parent_indices[3:]) - 3, tf.convert_to_tensor(preorder_node_indices))\n",
    "height_dist = tfd.TransformedDistribution(ratio_dist, tree_bij)\n",
    "\n",
    "height_dist.sample()"
   ]
  },
  {
   "cell_type": "code",
   "execution_count": 10,
   "metadata": {
    "slideshow": {
     "slide_type": "subslide"
    }
   },
   "outputs": [
    {
     "data": {
      "image/png": "[encoded data removed]",
      "text/plain": [
       "<Figure size 1080x360 with 3 Axes>"
      ]
     },
     "metadata": {
      "needs_background": "light"
     },
     "output_type": "display_data"
    }
   ],
   "source": [
    "dists = {\n",
    "    'base': base_dist,\n",
    "    'ratio': ratio_dist,\n",
    "    'heights': height_dist\n",
    "}\n",
    "\n",
    "fig, axs = plt.subplots(ncols=len(dists), figsize=(15, 5))\n",
    "for (name, dist), ax in zip(dists.items(), axs):\n",
    "    samples = dist.sample(1000)\n",
    "    ax.scatter(samples[:, 0], samples[:, 1])\n",
    "    ax.set_title(name)\n",
    "    ax.set_xlabel('Child')\n",
    "    ax.set_ylabel('Root')"
   ]
  },
  {
   "cell_type": "markdown",
   "metadata": {
    "slideshow": {
     "slide_type": "slide"
    }
   },
   "source": [
    "## Tensorflow Probability Joint distributions\n",
    "Build structured distributions by composing other distributions\n",
    "### Phylogenetic prior\n",
    "* [`treeflow.tree_processing`](https://github.com/christiaanjs/treeflow/blob/master/treeflow/tree_processing.py) - Building Tensor representations of trees"
   ]
  },
  {
   "cell_type": "code",
   "execution_count": 11,
   "metadata": {},
   "outputs": [
    {
     "data": {
      "text/plain": [
       "{'pop_size': <tf.Tensor: shape=(), dtype=float32, numpy=0.022739943>,\n",
       " 'tree': {'heights': <tf.Tensor: shape=(33,), dtype=float32, numpy=\n",
       "  array([0., 0., 0., 0., 0., 0., 0., 0., 0., 0., 0., 0., 0., 0., 0., 0., 0.,\n",
       "         0., 0., 0., 0., 0., 0., 0., 0., 0., 0., 0., 0., 0., 0., 0., 0.],\n",
       "        dtype=float32)>,\n",
       "  'topology': {'parent_indices': <tf.Tensor: shape=(32,), dtype=int32, numpy=\n",
       "   array([0, 0, 0, 0, 0, 0, 0, 0, 0, 0, 0, 0, 0, 0, 0, 0, 0, 0, 0, 0, 0, 0,\n",
       "          0, 0, 0, 0, 0, 0, 0, 0, 0, 0], dtype=int32)>}},\n",
       " 'clock_rate': <tf.Tensor: shape=(), dtype=float32, numpy=0.8237112>}"
      ]
     },
     "execution_count": 11,
     "metadata": {},
     "output_type": "execute_result"
    }
   ],
   "source": [
    "import treeflow.tree_processing\n",
    "\n",
    "newick_file = 'demo-data/dengue.newick'\n",
    "\n",
    "tree, taxon_names = treeflow.tree_processing.parse_newick(newick_file)\n",
    "topology = treeflow.tree_processing.update_topology_dict(tree['topology'])\n",
    "taxon_count = len(taxon_names)\n",
    "sampling_times = tf.convert_to_tensor(tree['heights'][:taxon_count], dtype=tf.float32)\n",
    "\n",
    "prior = tfd.JointDistributionNamed(dict(\n",
    "    clock_rate=tfd.LogNormal(loc=0.0, scale=3.0),\n",
    "    pop_size=tfd.LogNormal(0.0, 3.0),\n",
    "    tree=lambda pop_size: ConstantCoalescent(taxon_count, pop_size, sampling_times)\n",
    "))\n",
    "prior.sample()"
   ]
  },
  {
   "cell_type": "markdown",
   "metadata": {
    "slideshow": {
     "slide_type": "slide"
    }
   },
   "source": [
    "## Approximate phylogenetic posteriors\n",
    "\n",
    "* [`treeflow.model`](https://github.com/christiaanjs/treeflow/blob/master/treeflow/model.py) - automatic construction of variational approximations"
   ]
  },
  {
   "cell_type": "code",
   "execution_count": 12,
   "metadata": {},
   "outputs": [
    {
     "data": {
      "text/plain": [
       "{'tree': {'topology': {'parent_indices': <tf.Tensor: shape=(32,), dtype=int64, numpy=\n",
       "   array([17, 17, 18, 19, 19, 20, 22, 23, 23, 24, 25, 26, 27, 28, 29, 30, 31,\n",
       "          18, 21, 20, 21, 22, 32, 24, 25, 26, 27, 28, 29, 30, 31, 32])>},\n",
       "  'heights': <tf.Tensor: shape=(33,), dtype=float32, numpy=\n",
       "  array([10.00009 , 16.00008 , 16.00009 , 30.00009 , 10.00011 , 38.0001  ,\n",
       "         31.00009 , 12.00005 , 11.00005 , 13.00006 , 10.00005 ,  8.00005 ,\n",
       "          0.      , 15.00005 ,  9.00005 , 17.00005 , 18.00005 , 17.974895,\n",
       "         24.98233 , 32.986904, 41.523155, 43.545727, 46.389427, 14.583817,\n",
       "         15.105373, 15.96782 , 16.523455, 16.770082, 17.13952 , 17.315035,\n",
       "         19.114027, 19.668095, 46.68746 ], dtype=float32)>},\n",
       " 'pop_size': <tf.Tensor: shape=(), dtype=float32, numpy=0.9362236>,\n",
       " 'clock_rate': <tf.Tensor: shape=(), dtype=float32, numpy=1.7840626>}"
      ]
     },
     "execution_count": 12,
     "metadata": {},
     "output_type": "execute_result"
    }
   ],
   "source": [
    "import treeflow.model\n",
    "\n",
    "rate_mean = 1e-3\n",
    "\n",
    "q_prior = treeflow.model.construct_prior_approximation(prior)\n",
    "q_tree = treeflow.model.construct_tree_approximation(newick_file)\n",
    "q = tfd.JointDistributionNamed(dict(tree=q_tree, **q_prior))\n",
    "q.sample()"
   ]
  },
  {
   "cell_type": "code",
   "execution_count": 13,
   "metadata": {
    "slideshow": {
     "slide_type": "subslide"
    }
   },
   "outputs": [
    {
     "data": {
      "text/plain": [
       "(<tf.Variable 'q_tree_loc:0' shape=(16,) dtype=float32, numpy=\n",
       " array([-0.787627  ,  0.06899995, -0.33211875, -0.91774   ,  0.6150109 ,\n",
       "         4.448606  ,  0.8150513 , -0.56784046,  0.36707997,  3.4415805 ,\n",
       "         0.82001513,  1.8319874 , -0.4479922 ,  2.5579515 , -2.404662  ,\n",
       "         3.7897913 ], dtype=float32)>,\n",
       " <tf.Variable 'q_tree_scale:0' shape=(16,) dtype=float32, numpy=\n",
       " array([1., 1., 1., 1., 1., 1., 1., 1., 1., 1., 1., 1., 1., 1., 1., 1.],\n",
       "       dtype=float32)>,\n",
       " <tf.Variable 'q_pop_size_loc:0' shape=() dtype=float32, numpy=0.0>,\n",
       " <tf.Variable 'q_pop_size_scale:0' shape=() dtype=float32, numpy=0.54132485>,\n",
       " <tf.Variable 'q_clock_rate_loc:0' shape=() dtype=float32, numpy=0.0>,\n",
       " <tf.Variable 'q_clock_rate_scale:0' shape=() dtype=float32, numpy=0.54132485>)"
      ]
     },
     "execution_count": 13,
     "metadata": {},
     "output_type": "execute_result"
    }
   ],
   "source": [
    "q.trainable_variables"
   ]
  },
  {
   "cell_type": "markdown",
   "metadata": {
    "slideshow": {
     "slide_type": "slide"
    }
   },
   "source": [
    "## Phylogenetic likelihoods with Beagle\n",
    "* [`treeflow.beagle`](https://github.com/christiaanjs/treeflow/blob/master/treeflow/beagle.py) - Phylogenetic likelihood calculation with Beagle using `libsbn`\n",
    "* [`treeflow.substitution_model`](https://github.com/christiaanjs/treeflow/blob/master/treeflow/substitution_model.py) - Includes differential matrices for calculating substitution model parameter gradients\n",
    "* [`treeflow.sequences`](https://github.com/christiaanjs/treeflow/blob/master/treeflow/sequences.py) - Tensor representations of alignments, plugging likelihoods into the Tensorflow graph\n",
    "\n",
    "Substitution model parameter gradients not yet implemented so they're fixed for now (values from maximum likelihood)."
   ]
  },
  {
   "cell_type": "code",
   "execution_count": 14,
   "metadata": {
    "slideshow": {
     "slide_type": "subslide"
    }
   },
   "outputs": [
    {
     "data": {
      "text/plain": [
       "<tf.Tensor: shape=(), dtype=float32, numpy=-33869.52>"
      ]
     },
     "execution_count": 14,
     "metadata": {},
     "output_type": "execute_result"
    }
   ],
   "source": [
    "import treeflow.beagle\n",
    "import treeflow.substitution_model\n",
    "import treeflow.sequences\n",
    "\n",
    "subst_model = treeflow.substitution_model.HKY()\n",
    "likelihood, instance = treeflow.beagle.log_prob_conditioned_branch_only(\n",
    "    'demo-data/dengue.fasta',\n",
    "    subst_model,\n",
    "    np.array([0.293402, 0.20491, 0.256425, 0.245264]),\n",
    "    kappa=20.065921,\n",
    "    rescaling=True,\n",
    "    newick_file=newick_file)\n",
    "\n",
    "wrapped_likelihood = lambda z: likelihood(treeflow.sequences.get_branch_lengths(z['tree']) * tf.expand_dims(z['clock_rate'], -1))\n",
    "wrapped_likelihood(q.sample())"
   ]
  },
  {
   "cell_type": "markdown",
   "metadata": {
    "slideshow": {
     "slide_type": "slide"
    }
   },
   "source": [
    "## Variational inference"
   ]
  },
  {
   "cell_type": "code",
   "execution_count": 15,
   "metadata": {},
   "outputs": [
    {
     "data": {
      "text/plain": [
       "<tf.Tensor: shape=(), dtype=float32, numpy=-31832.271>"
      ]
     },
     "execution_count": 15,
     "metadata": {},
     "output_type": "execute_result"
    }
   ],
   "source": [
    "log_posterior = lambda **z: (prior.log_prob(z) + wrapped_likelihood(z))\n",
    "log_posterior(**q.sample())"
   ]
  },
  {
   "cell_type": "code",
   "execution_count": 16,
   "metadata": {},
   "outputs": [
    {
     "name": "stdout",
     "output_type": "stream",
     "text": [
      "WARNING:tensorflow:From /home/christiaanjs/miniconda3/envs/libsbn/lib/python3.7/site-packages/tensorflow/python/util/deprecation.py:574: calling map_fn_v2 (from tensorflow.python.ops.map_fn) with dtype is deprecated and will be removed in a future version.\n",
      "Instructions for updating:\n",
      "Use fn_output_signature instead\n"
     ]
    },
    {
     "data": {
      "text/plain": [
       "[<matplotlib.lines.Line2D at 0x7f63580b4e90>]"
      ]
     },
     "execution_count": 16,
     "metadata": {},
     "output_type": "execute_result"
    },
    {
     "data": {
      "image/png": "[encoded data removed]",
      "text/plain": [
       "<Figure size 432x288 with 1 Axes>"
      ]
     },
     "metadata": {
      "needs_background": "light"
     },
     "output_type": "display_data"
    }
   ],
   "source": [
    "loss = tfp.vi.fit_surrogate_posterior(log_posterior, q, tf.optimizers.Adam(learning_rate=0.01), 2000)\n",
    "plt.plot(loss)"
   ]
  },
  {
   "cell_type": "markdown",
   "metadata": {
    "slideshow": {
     "slide_type": "slide"
    }
   },
   "source": [
    "## Other bits of Treeflow\n",
    "* [`treeflow.tensorflow_likelihood`](https://github.com/christiaanjs/treeflow/blob/master/treeflow/tensorflow_likelihood.py) - Phylogenetic likelihood calculation with [Xiang et al. 2020 method](https://academic.oup.com/mbe/advance-article-abstract/doi/10.1093/molbev/msaa130/5847600)\n",
    "* [`treeflow.site_model`](https://github.com/christiaanjs/treeflow/blob/master/treeflow/site_model.py) - Works with Tensorflow likelihood implementation\n",
    "\n",
    "## Things to do\n",
    "[Github issues](https://github.com/christiaanjs/treeflow/issues)"
   ]
  }
 ],
 "metadata": {
  "celltoolbar": "Slideshow",
  "kernelspec": {
   "display_name": "Python 3",
   "language": "python",
   "name": "python3"
  },
  "language_info": {
   "codemirror_mode": {
    "name": "ipython",
    "version": 3
   },
   "file_extension": ".py",
   "mimetype": "text/x-python",
   "name": "python",
   "nbconvert_exporter": "python",
   "pygments_lexer": "ipython3",
   "version": "3.7.7"
  }
 },
 "nbformat": 4,
 "nbformat_minor": 4
}
