{
 "cells": [
  {
   "cell_type": "code",
   "execution_count": 69,
   "metadata": {},
   "outputs": [
    {
     "data": {
      "text/plain": [
       "(100,\n",
       " dict_keys(['postorder_node_indices', 'child_indices', 'preorder_indices', 'preorder_node_indices', 'sibling_indices', 'parent_indices']))"
      ]
     },
     "execution_count": 69,
     "metadata": {},
     "output_type": "execute_result"
    }
   ],
   "source": [
    "from importlib import reload\n",
    "\n",
    "import treeflow.tree_processing\n",
    "reload(treeflow.tree_processing)\n",
    "import treeflow.sequences\n",
    "newick_file = '../data/analysis-tree.nwk'\n",
    "fasta_file = '../data/sim-seq.fasta'\n",
    "\n",
    "tree, taxon_names = treeflow.tree_processing.parse_newick(newick_file)\n",
    "topology = treeflow.tree_processing.update_topology_dict(tree['topology'])\n",
    "taxon_count = len(taxon_names)\n",
    "taxon_count, topology.keys()"
   ]
  },
  {
   "cell_type": "markdown",
   "metadata": {},
   "source": [
    "# Variational approximation"
   ]
  },
  {
   "cell_type": "code",
   "execution_count": 124,
   "metadata": {},
   "outputs": [
    {
     "data": {
      "text/plain": [
       "<tf.Tensor: shape=(99,), dtype=float32, numpy=\n",
       "array([3.1539671e-02, 3.1707361e-02, 3.3669174e-02, 3.4416940e-02,\n",
       "       3.9227877e-02, 1.5278661e-01, 2.9281050e-02, 2.9817760e-02,\n",
       "       3.7698522e-02, 4.8394915e-02, 1.5825930e-01, 2.6414979e-02,\n",
       "       7.7069672e-03, 6.1014064e-02, 2.0218240e-01, 1.4398035e-04,\n",
       "       1.4903551e-04, 2.7377141e-04, 6.4432633e-04, 5.5112112e-03,\n",
       "       2.5158632e-03, 3.3314901e-03, 1.5429773e-04, 2.3408523e-03,\n",
       "       3.3783810e-03, 4.7703835e-04, 3.4068779e-03, 4.7521075e-04,\n",
       "       7.9969846e-04, 4.3903253e-04, 1.1855022e-03, 4.8249131e-03,\n",
       "       2.2244620e-05, 4.4834309e-05, 9.2090648e-03, 1.0347679e-02,\n",
       "       1.0375109e-02, 1.0400512e-02, 1.6186960e-02, 2.5360838e-01,\n",
       "       3.5788448e-04, 2.6304787e-03, 2.6559769e-03, 5.1066480e-03,\n",
       "       5.2306899e-03, 7.5522349e-03, 1.6772324e-03, 4.7495305e-03,\n",
       "       5.0779567e-05, 7.6526627e-03, 8.6520808e-03, 2.0652513e-03,\n",
       "       1.5676182e-02, 4.5067526e-04, 9.9393108e-04, 2.0179862e-02,\n",
       "       6.7376328e-04, 6.6349967e-03, 1.8141149e-03, 2.0758430e-03,\n",
       "       2.6426882e-02, 2.4328097e-03, 8.0345944e-03, 2.6542159e-02,\n",
       "       2.6917275e-02, 2.6961947e-02, 4.8504114e-02, 9.2899371e-03,\n",
       "       2.5212923e-02, 4.4996068e-02, 5.2045282e-02, 6.2865868e-02,\n",
       "       6.8134226e-02, 6.9025576e-02, 1.5413316e-04, 1.0011178e-03,\n",
       "       4.1307490e-03, 1.0671147e-02, 1.1683230e-02, 1.2413702e-02,\n",
       "       7.0524558e-02, 1.1512445e-02, 7.5203560e-02, 1.5941933e-02,\n",
       "       2.4323562e-02, 8.3734030e-03, 9.0675894e-03, 9.6158665e-03,\n",
       "       1.0603972e-02, 2.2361994e-02, 2.3638545e-02, 4.3178838e-02,\n",
       "       3.5272210e-03, 3.5942309e-03, 4.1565564e-03, 5.8675975e-02,\n",
       "       8.5561119e-02, 1.1069602e-01, 3.1917953e-01], dtype=float32)>"
      ]
     },
     "execution_count": 124,
     "metadata": {},
     "output_type": "execute_result"
    }
   ],
   "source": [
    "height_dist.sample([])[100:]"
   ]
  },
  {
   "cell_type": "code",
   "execution_count": 108,
   "metadata": {},
   "outputs": [
    {
     "data": {
      "text/plain": [
       "{'tree': {'topology': {'parent_indices': <tf.Tensor: shape=(198,), dtype=int64, numpy=\n",
       "   array([100, 100, 101, 102, 103, 104, 105, 106, 106, 107, 108, 109, 111,\n",
       "          111, 112, 112, 115, 115, 116, 117, 118, 118, 120, 120, 121, 122,\n",
       "          122, 123, 125, 125, 127, 127, 128, 128, 129, 129, 130, 132, 132,\n",
       "          133, 136, 140, 140, 141, 141, 142, 144, 145, 146, 146, 147, 148,\n",
       "          148, 151, 151, 153, 153, 154, 156, 156, 157, 158, 158, 159, 161,\n",
       "          161, 162, 164, 165, 166, 167, 167, 168, 169, 170, 173, 174, 174,\n",
       "          175, 176, 177, 177, 179, 181, 181, 183, 183, 184, 185, 185, 186,\n",
       "          186, 187, 188, 189, 190, 192, 192, 193, 194, 101, 102, 103, 104,\n",
       "          105, 110, 107, 108, 109, 110, 114, 113, 113, 114, 139, 116, 117,\n",
       "          119, 119, 138, 121, 124, 123, 124, 126, 126, 137, 135, 131, 130,\n",
       "          131, 134, 133, 134, 135, 136, 137, 138, 139, 198, 143, 142, 143,\n",
       "          144, 145, 150, 147, 149, 149, 150, 152, 152, 155, 154, 155, 172,\n",
       "          157, 160, 159, 160, 163, 162, 163, 164, 165, 166, 171, 168, 169,\n",
       "          170, 171, 172, 173, 180, 175, 176, 178, 178, 179, 180, 182, 182,\n",
       "          197, 184, 196, 191, 187, 188, 189, 190, 191, 195, 193, 194, 195,\n",
       "          196, 197, 198])>},\n",
       "  'heights': <tf.Tensor: shape=(199,), dtype=float32, numpy=\n",
       "  array([9.99999975e-06, 9.99999975e-06, 9.99999975e-06, 9.99999975e-06,\n",
       "         9.99999975e-06, 9.99999975e-06, 9.99999975e-06, 0.00000000e+00,\n",
       "         0.00000000e+00, 0.00000000e+00, 9.99999975e-06, 9.99999975e-06,\n",
       "         1.99999995e-05, 1.99999995e-05, 1.99999995e-05, 1.99999995e-05,\n",
       "         1.99999995e-05, 1.99999995e-05, 1.99999995e-05, 1.99999995e-05,\n",
       "         1.99999995e-05, 1.99999995e-05, 9.99999975e-06, 9.99999975e-06,\n",
       "         9.99999975e-06, 9.99999975e-06, 9.99999975e-06, 1.99999995e-05,\n",
       "         9.99999975e-06, 9.99999975e-06, 1.99999995e-05, 1.99999995e-05,\n",
       "         9.99999975e-06, 9.99999975e-06, 1.99999995e-05, 1.99999995e-05,\n",
       "         1.99999995e-05, 1.99999995e-05, 1.99999995e-05, 1.99999995e-05,\n",
       "         9.99999975e-06, 9.99999975e-06, 9.99999975e-06, 1.99999995e-05,\n",
       "         1.99999995e-05, 1.99999995e-05, 1.99999995e-05, 1.99999995e-05,\n",
       "         9.99999975e-06, 9.99999975e-06, 9.99999975e-06, 1.99999995e-05,\n",
       "         1.99999995e-05, 1.99999995e-05, 1.99999995e-05, 1.99999995e-05,\n",
       "         1.99999995e-05, 9.99999975e-06, 9.99999975e-06, 9.99999975e-06,\n",
       "         9.99999975e-06, 9.99999975e-06, 9.99999975e-06, 9.99999975e-06,\n",
       "         9.99999975e-06, 9.99999975e-06, 9.99999975e-06, 9.99999975e-06,\n",
       "         9.99999975e-06, 1.99999995e-05, 1.99999995e-05, 1.99999995e-05,\n",
       "         1.99999995e-05, 2.99999992e-05, 1.99999995e-05, 9.99999975e-06,\n",
       "         1.99999995e-05, 1.99999995e-05, 1.99999995e-05, 1.99999995e-05,\n",
       "         9.99999975e-06, 9.99999975e-06, 1.99999995e-05, 9.99999975e-06,\n",
       "         9.99999975e-06, 1.99999995e-05, 1.99999995e-05, 1.99999995e-05,\n",
       "         1.99999995e-05, 1.99999995e-05, 1.99999995e-05, 1.99999995e-05,\n",
       "         1.99999995e-05, 1.99999995e-05, 1.99999995e-05, 1.99999995e-05,\n",
       "         1.99999995e-05, 1.99999995e-05, 1.99999995e-05, 1.99999995e-05,\n",
       "         1.44866720e-01, 1.75126761e-01, 1.76269904e-01, 1.77266955e-01,\n",
       "         2.13648587e-01, 3.86947632e-01, 6.16990700e-02, 7.66673163e-02,\n",
       "         1.18234389e-01, 3.45925540e-01, 6.13246381e-01, 4.00182486e+00,\n",
       "         3.26973796e+00, 4.34873772e+00, 5.50293398e+00, 1.19577661e-01,\n",
       "         1.24854036e-01, 1.58173668e+00, 6.63581491e-01, 4.81793547e+00,\n",
       "         1.69396675e+00, 3.28905272e+00, 5.55129759e-02, 3.11084151e+00,\n",
       "         3.41853666e+00, 1.12388206e+00, 3.63805914e+00, 1.59240627e+00,\n",
       "         1.03575981e+00, 2.13273734e-01, 6.65964365e-01, 1.18480194e+00,\n",
       "         1.69421658e-02, 2.31433466e-01, 3.60868287e+00, 4.60315609e+00,\n",
       "         4.65270281e+00, 4.84132290e+00, 5.36538839e+00, 8.93006516e+00,\n",
       "         5.47561189e-03, 3.82044390e-02, 3.85436229e-02, 1.24219365e-01,\n",
       "         2.33440235e-01, 3.28185976e-01, 4.50188220e-02, 1.27978355e-01,\n",
       "         1.47243775e-02, 5.11532784e-01, 5.99197805e-01, 8.53725299e-02,\n",
       "         6.53473198e-01, 3.13001685e-02, 4.77529392e-02, 9.98369873e-01,\n",
       "         4.49267104e-02, 2.56722957e-01, 1.94285914e-01, 1.98415384e-01,\n",
       "         1.39231205e+00, 1.32094072e-02, 2.83427052e-02, 1.41927111e+00,\n",
       "         1.44051743e+00, 1.46272659e+00, 1.75446570e+00, 1.23949148e-01,\n",
       "         1.87992796e-01, 2.38163084e-01, 4.12757903e-01, 1.82376850e+00,\n",
       "         2.33665633e+00, 2.35435224e+00, 3.29098129e-03, 5.29121328e-03,\n",
       "         7.82829337e-03, 5.04180826e-02, 6.65529892e-02, 8.04640949e-02,\n",
       "         2.71290016e+00, 5.70626259e-01, 3.08426714e+00, 4.48090345e-01,\n",
       "         8.67027819e-01, 2.66463280e-01, 5.15300371e-02, 5.33886775e-02,\n",
       "         7.23533630e-02, 7.29105771e-02, 1.68166101e-01, 3.01400840e-01,\n",
       "         3.65553573e-02, 3.79509702e-02, 4.03078459e-02, 1.33334255e+00,\n",
       "         1.34599471e+00, 3.30742598e+00, 1.10342274e+01], dtype=float32)>},\n",
       " 'pop_size': <tf.Tensor: shape=(), dtype=float32, numpy=0.11900229>,\n",
       " 'kappa': <tf.Tensor: shape=(), dtype=float32, numpy=2.1001606>,\n",
       " 'frequencies': <tf.Tensor: shape=(4,), dtype=float32, numpy=array([0.27378467, 0.12365773, 0.44553864, 0.157019  ], dtype=float32)>}"
      ]
     },
     "execution_count": 108,
     "metadata": {},
     "output_type": "execute_result"
    }
   ],
   "source": [
    "import treeflow.tree_transform\n",
    "import tensorflow as tf\n",
    "import tensorflow_probability as tfp\n",
    "tfd = tfp.distributions\n",
    "\n",
    "\n",
    "import treeflow.tf_util\n",
    "reload(treeflow.tf_util)\n",
    "\n",
    "reload(treeflow.tree_transform)\n",
    "\n",
    "anchor_heights = treeflow.tree_processing.get_node_anchor_heights(tree['heights'], topology['postorder_node_indices'], topology['child_indices'])\n",
    "anchor_heights = tf.convert_to_tensor(anchor_heights, dtype=tf.float32)\n",
    "tree_chain = treeflow.tree_transform.TreeChain(\n",
    "    topology['parent_indices'][taxon_count:] - taxon_count,\n",
    "    topology['preorder_node_indices'][1:] - taxon_count,\n",
    "    anchor_heights=anchor_heights)\n",
    "init_heights = tf.convert_to_tensor(tree['heights'][taxon_count:], dtype=tf.float32)\n",
    "init_heights_trans = tree_chain.inverse(init_heights)\n",
    "leaf_heights = tf.convert_to_tensor(tree['heights'][:taxon_count], dtype=tf.float32)\n",
    "\n",
    "height_dist = tfd.Blockwise([\n",
    "    tfd.Independent(tfd.Deterministic(leaf_heights), reinterpreted_batch_ndims=1),\n",
    "    tfd.TransformedDistribution(\n",
    "        distribution=tfd.Independent(tfd.Normal(\n",
    "            loc=tf.Variable(init_heights_trans, name='q_tree_loc'),\n",
    "            scale=tfp.util.DeferredTensor(tf.Variable(tf.ones_like(init_heights_trans), name='q_tree_scale'), tf.nn.softplus)\n",
    "        ), reinterpreted_batch_ndims=1),\n",
    "        bijector=tree_chain\n",
    "    )\n",
    "])\n",
    "\n",
    "q = tfd.JointDistributionNamed(dict(\n",
    "    tree=treeflow.tree_transform.FixedTopologyDistribution(\n",
    "        height_distribution=height_dist,\n",
    "        topology=tree['topology']\n",
    "    ),\n",
    "    kappa=tfd.LogNormal(\n",
    "        loc=tf.Variable(0.0, name='q_kappa_loc'),\n",
    "        scale=tfp.util.DeferredTensor(tf.Variable(1.0, name='q_kappa_scale'), tf.nn.softplus)\n",
    "    ),\n",
    "    pop_size=tfd.LogNormal(\n",
    "        loc=tf.Variable(0.0, name='q_pop_size_loc'),\n",
    "        scale=tfp.util.DeferredTensor(tf.Variable(1.0, name='q_pop_size_scale'), tf.nn.softplus)\n",
    "    ),\n",
    "    frequencies=tfd.Dirichlet(concentration=tfp.util.DeferredTensor(tf.Variable([4.0, 4.0, 4.0, 4.0], name='q_frequencies_concentration'), tf.nn.softplus))\n",
    "))\n",
    "#[(var.name, var.shape) for var in q.trainable_variables]\n",
    "q.sample()"
   ]
  },
  {
   "cell_type": "code",
   "execution_count": 105,
   "metadata": {},
   "outputs": [
    {
     "data": {
      "text/plain": [
       "<tf.Tensor: shape=(99,), dtype=float32, numpy=\n",
       "array([2.4701494e-01, 2.5051275e-01, 2.5805616e-01, 2.6389703e-01,\n",
       "       1.2491179e+00, 1.2598920e+00, 5.1959977e-02, 5.3044010e-02,\n",
       "       1.3607390e-01, 1.9051033e-01, 1.2734506e+00, 8.2185483e-01,\n",
       "       6.2938839e-02, 8.7663782e-01, 1.3883339e+00, 6.2352832e-02,\n",
       "       6.2751278e-02, 8.4064581e-02, 7.4938230e-02, 2.1831986e-01,\n",
       "       1.0403266e-01, 2.4199279e-01, 1.4445517e-02, 1.9211520e-01,\n",
       "       2.4791346e-01, 9.1138603e-03, 2.5324798e-01, 6.9000679e-03,\n",
       "       9.7703710e-03, 1.4617580e-03, 9.0584056e-03, 4.1126110e-02,\n",
       "       2.2871705e-04, 1.5981584e-03, 1.3067338e-01, 2.6684505e-01,\n",
       "       2.6752871e-01, 2.6927808e-01, 3.6579776e-01, 1.4862388e+00,\n",
       "       5.9798913e-05, 1.9644253e-04, 2.2881065e-04, 6.7917989e-03,\n",
       "       6.8735857e-03, 6.9430331e-03, 5.9544323e-03, 7.9437215e-03,\n",
       "       2.3122560e-04, 1.2245171e-02, 1.8292863e-02, 1.1881910e-03,\n",
       "       1.8488785e-02, 8.0205789e-03, 1.0253385e-02, 8.3345525e-02,\n",
       "       7.1356879e-03, 9.1633536e-03, 1.5274137e-03, 1.5640851e-03,\n",
       "       5.2537479e-02, 1.3358946e-03, 2.1542113e-03, 5.3503297e-02,\n",
       "       5.4482419e-02, 5.4663416e-02, 1.5128212e-01, 3.0619695e-03,\n",
       "       4.7176159e-03, 1.8894047e-02, 1.4442803e-01, 1.5338399e-01,\n",
       "       3.2113552e-01, 3.7937728e-01, 5.2241785e-03, 8.2907323e-03,\n",
       "       9.5196282e-03, 1.4161185e-02, 4.6292685e-02, 7.3408641e-02,\n",
       "       4.1428772e-01, 5.2486029e-02, 7.7789778e-01, 7.2228119e-02,\n",
       "       2.6122499e-01, 1.0088061e-02, 4.0687057e-03, 4.4741207e-03,\n",
       "       4.5865779e-03, 1.3249584e-02, 1.6779372e-02, 2.5349971e-02,\n",
       "       1.2982904e-02, 1.4183800e-02, 1.4748609e-02, 1.1692764e-01,\n",
       "       8.1688333e-01, 1.1423575e+00, 2.1956596e+00], dtype=float32)>"
      ]
     },
     "execution_count": 105,
     "metadata": {},
     "output_type": "execute_result"
    }
   ],
   "source": [
    "q.sample()['tree']['heights'][100:]"
   ]
  },
  {
   "cell_type": "code",
   "execution_count": 109,
   "metadata": {},
   "outputs": [
    {
     "data": {
      "text/plain": [
       "<tf.Tensor: shape=(2, 99), dtype=float32, numpy=\n",
       "array([[0.00000000e+00, 5.40370196e-02, 5.56325652e-02, 5.59946708e-02,\n",
       "        9.71427932e-02, 1.09501719e-01, 5.55291921e-02, 6.17635213e-02,\n",
       "        7.41885975e-02, 7.77562931e-02, 1.36586905e-01, 1.96162865e-01,\n",
       "        8.39406550e-02, 2.06706226e-01, 5.30979753e-01, 2.04794784e-03,\n",
       "        2.07947195e-03, 4.84392699e-03, 2.89720669e-03, 1.43276781e-01,\n",
       "        9.43046808e-02, 3.06958348e-01, 5.95356226e-02, 2.89564699e-01,\n",
       "        3.11019272e-01, 1.79498002e-01, 3.59149456e-01, 1.58389658e-01,\n",
       "        1.25046158e-02, 2.08654515e-02, 2.37081684e-02, 1.17660820e-01,\n",
       "        1.63848512e-02, 2.02537104e-02, 2.59631842e-01, 3.62676233e-01,\n",
       "        3.63451779e-01, 3.72169137e-01, 4.11159933e-01, 6.44824028e-01,\n",
       "        1.28994114e-03, 4.30126786e-02, 4.34185527e-02, 5.09298034e-02,\n",
       "        5.10673672e-02, 5.27621210e-02, 7.95562565e-03, 3.34477536e-02,\n",
       "        4.32543573e-04, 5.39242513e-02, 5.70423715e-02, 3.77675742e-02,\n",
       "        8.60176161e-02, 2.68934518e-02, 4.13995720e-02, 4.73454863e-01,\n",
       "        1.10203303e-01, 1.79365322e-01, 7.77270570e-02, 8.02971423e-02,\n",
       "        1.86399132e-01, 2.30483841e-02, 6.33168072e-02, 1.87093377e-01,\n",
       "        1.91323131e-01, 1.92861304e-01, 2.45408013e-01, 7.28810579e-02,\n",
       "        7.51352757e-02, 1.22620650e-01, 2.32838497e-01, 2.56830573e-01,\n",
       "        5.82414269e-01, 6.42335474e-01, 9.27556903e-05, 3.06686008e-04,\n",
       "        4.17812640e-04, 1.03304470e-02, 3.21192518e-02, 1.05005383e-01,\n",
       "        7.67263532e-01, 4.92393523e-02, 9.77215886e-01, 6.63313866e-02,\n",
       "        6.99838325e-02, 1.25526533e-01, 1.36613538e-02, 1.61298215e-02,\n",
       "        2.82107331e-02, 2.86369417e-02, 2.27331787e-01, 2.94524223e-01,\n",
       "        1.08491346e-01, 1.10537857e-01, 1.15498543e-01, 3.71176779e-01,\n",
       "        4.71149951e-01, 9.91682589e-01, 1.76019025e+00],\n",
       "       [0.00000000e+00, 1.25237303e-02, 1.30227441e-02, 1.32224737e-02,\n",
       "        6.97771981e-02, 1.45069823e-01, 6.55919686e-02, 6.78076372e-02,\n",
       "        8.55574012e-02, 8.82285833e-02, 1.67813718e-01, 8.34870338e-02,\n",
       "        6.23256825e-02, 8.80211666e-02, 3.17551792e-01, 1.94947061e-03,\n",
       "        2.04210123e-03, 2.88206362e-03, 4.59722104e-03, 1.37140956e-02,\n",
       "        4.33302522e-02, 6.67375326e-02, 4.23010672e-03, 4.18101996e-02,\n",
       "        6.96878210e-02, 3.23597230e-02, 7.05781579e-02, 3.32810022e-02,\n",
       "        1.40516767e-02, 5.16972912e-04, 5.59348892e-03, 3.84577811e-02,\n",
       "        2.49726436e-04, 3.31532065e-04, 6.27700537e-02, 7.63053820e-02,\n",
       "        7.64762089e-02, 7.66416639e-02, 1.12629093e-01, 3.46308142e-01,\n",
       "        1.84917699e-05, 7.79533642e-04, 8.61688168e-04, 9.98415519e-04,\n",
       "        1.01179129e-03, 1.02247961e-03, 4.79949173e-04, 1.08168961e-03,\n",
       "        9.63071216e-05, 3.83313792e-03, 3.93571192e-03, 6.15746016e-04,\n",
       "        1.11041870e-02, 1.62326731e-02, 1.86760314e-02, 5.21649793e-02,\n",
       "        9.42585059e-03, 5.65882474e-02, 2.23779678e-03, 2.29842775e-03,\n",
       "        6.52913153e-02, 3.90035493e-05, 1.22286903e-03, 6.55564442e-02,\n",
       "        6.59087375e-02, 6.63546920e-02, 8.04478154e-02, 1.50452158e-03,\n",
       "        1.06645068e-02, 2.13536769e-02, 8.03066343e-02, 8.76827464e-02,\n",
       "        9.85521078e-02, 9.96257961e-02, 7.54467546e-05, 3.51618655e-04,\n",
       "        7.33397319e-04, 4.12421487e-03, 1.25204660e-02, 1.63967479e-02,\n",
       "        1.17125064e-01, 2.03503575e-02, 1.28944814e-01, 6.14136271e-03,\n",
       "        6.95345877e-03, 1.67700239e-02, 2.10312800e-03, 2.28384649e-03,\n",
       "        9.19032656e-03, 9.36516933e-03, 1.07421251e-02, 1.70650836e-02,\n",
       "        1.38494268e-03, 1.43975136e-03, 1.49568857e-03, 6.76756278e-02,\n",
       "        1.10662892e-01, 1.50072843e-01, 7.42600083e-01]], dtype=float32)>"
      ]
     },
     "execution_count": 109,
     "metadata": {},
     "output_type": "execute_result"
    }
   ],
   "source": [
    "q_sample['tree']['heights'][:, 100:]"
   ]
  },
  {
   "cell_type": "code",
   "execution_count": 44,
   "metadata": {},
   "outputs": [
    {
     "data": {
      "text/plain": [
       "<tf.Tensor: shape=(2,), dtype=float32, numpy=array([nan, nan], dtype=float32)>"
      ]
     },
     "execution_count": 44,
     "metadata": {},
     "output_type": "execute_result"
    }
   ],
   "source": [
    "tree_chain.inverse_log_det_jacobian(q_sample['tree']['heights'][:, 100:], 1)"
   ]
  },
  {
   "cell_type": "code",
   "execution_count": 42,
   "metadata": {},
   "outputs": [
    {
     "data": {
      "text/plain": [
       "<tf.Tensor: shape=(2, 99), dtype=float32, numpy=\n",
       "array([[            nan,  3.52226877e+00,  5.03440905e+00,\n",
       "         3.07899654e-01,  2.06170034e+00,  1.39686203e+00,\n",
       "         2.18683791e+00,  1.60359633e+00,  3.03455567e+00,\n",
       "         2.78788567e-01, -1.06045961e+00,  2.92334676e+00,\n",
       "        -3.80404830e-01, -4.50385511e-01,  1.53985465e+00,\n",
       "         4.16402721e+00, -2.94393718e-01, -3.35679698e+00,\n",
       "        -3.88753009e+00, -6.25912189e-01, -8.13240051e-01,\n",
       "         4.32527018e+00, -1.35179877e+00,  2.60237169e+00,\n",
       "         1.86588120e+00, -9.10162926e-04,  3.31722045e+00,\n",
       "        -2.54591882e-01, -2.13014913e+00,  1.99237549e+00,\n",
       "        -1.37781525e+00, -1.87986791e-01,  1.44217610e+00,\n",
       "        -2.47069430e+00,  9.24027801e-01,  6.14763689e+00,\n",
       "         3.73027444e+00,  2.25596905e+00,  5.65049231e-01,\n",
       "        -5.47991633e-01, -3.65798020e+00,  4.66274023e+00,\n",
       "         1.75402379e+00,  5.91371584e+00,  3.40521741e+00,\n",
       "         2.51140332e+00, -1.16574812e+00,  4.90408003e-01,\n",
       "        -4.86494017e+00,  2.84997940e+00,  6.77001834e-01,\n",
       "        -2.45475590e-01, -1.50523424e+00,  6.16568446e-01,\n",
       "        -2.34576631e+00,  1.46903944e+00,  4.65784371e-01,\n",
       "         3.23864007e+00,  3.40913630e+00, -2.78791308e-01,\n",
       "         5.59277201e+00, -5.58405995e-01, -6.70485258e-01,\n",
       "         3.78940916e+00,  4.82331848e+00,  1.30021703e+00,\n",
       "         3.06725049e+00,  3.47575140e+00,  4.58602130e-01,\n",
       "         1.06391788e-01,  2.27249336e+00, -2.37319827e-01,\n",
       "         2.27410007e+00,  1.63732612e+00, -1.07854319e+00,\n",
       "         9.47717190e-01, -4.37813616e+00, -7.47269273e-01,\n",
       "        -8.20065737e-01, -1.84183431e+00,  1.29591060e+00,\n",
       "        -2.93651652e+00,  4.21282721e+00,  2.89896441e+00,\n",
       "        -1.74639714e+00, -2.97527194e-01,  1.70950794e+00,\n",
       "         2.87802398e-01,  4.19181871e+00, -1.93777120e+00,\n",
       "         1.21876168e+00,  1.34601021e+00,  3.97034836e+00,\n",
       "         3.10363245e+00, -7.94834971e-01,  1.31172264e+00,\n",
       "        -9.97184515e-02,  2.54922390e-01,  5.65404832e-01],\n",
       "       [            nan,  3.22194815e+00,  4.17671967e+00,\n",
       "        -1.45404732e+00, -7.62181878e-02,  1.85284936e+00,\n",
       "         3.38789892e+00,  1.34030271e+00,  3.46654868e+00,\n",
       "         1.02990210e-01,  1.13907635e-01,  2.91281748e+00,\n",
       "         8.85737300e-01, -9.58686471e-01,  2.40171957e+00,\n",
       "         3.03637981e+00,  8.78535509e-01, -1.33096468e+00,\n",
       "        -6.89035058e-01, -1.97729611e+00,  6.15573049e-01,\n",
       "         3.11871552e+00, -2.18661404e+00,  4.04837489e-01,\n",
       "         4.35989428e+00, -1.66712523e-01,  2.45414925e+00,\n",
       "        -2.57381380e-01, -5.52803457e-01, -2.32384491e+00,\n",
       "        -1.77436543e+00,  4.58059400e-01,  1.03254306e+00,\n",
       "        -5.30043554e+00,  1.53385615e+00,  6.10157251e+00,\n",
       "         6.13578320e+00,  7.55710185e-01, -7.30026126e-01,\n",
       "        -1.34879827e-01, -4.74837732e+00,  2.22410274e+00,\n",
       "         1.81742156e+00,  4.29248714e+00,  4.53035927e+00,\n",
       "        -1.06678665e+00, -2.47201681e-01, -9.42890823e-01,\n",
       "        -3.89122701e+00,  3.61562657e+00, -6.04695857e-01,\n",
       "        -2.86821461e+00, -1.30953419e+00,  1.89241993e+00,\n",
       "        -5.85045934e-01,  1.17005885e-01, -1.61120236e+00,\n",
       "         1.87194920e+00,  3.60396171e+00, -3.31515694e+00,\n",
       "         5.50624752e+00, -3.70912194e+00, -3.97109318e+00,\n",
       "         5.22604656e+00,  4.99565554e+00,  1.54917693e+00,\n",
       "         2.40843964e+00, -1.81975198e+00, -4.18716669e-03,\n",
       "        -1.01692176e+00,  2.38723230e+00,  2.08743501e+00,\n",
       "         4.51918173e+00,  1.73896074e+00, -1.60560024e+00,\n",
       "        -1.40855372e-01, -2.80471992e+00, -7.13337302e-01,\n",
       "         1.17088926e+00, -1.81656444e+00,  2.29321384e+00,\n",
       "        -1.67501354e+00,  1.80855131e+00,  2.01992154e+00,\n",
       "        -2.70523453e+00,  4.03897619e+00,  2.44468522e+00,\n",
       "        -1.11539459e+00,  3.95984125e+00,  1.91498446e+00,\n",
       "         5.28122067e-01, -1.08829820e+00,  3.21501875e+00,\n",
       "         3.23400784e+00, -3.80325270e+00,  4.53526825e-01,\n",
       "         1.03228951e+00, -1.37347591e+00, -2.97637999e-01]], dtype=float32)>"
      ]
     },
     "execution_count": 42,
     "metadata": {},
     "output_type": "execute_result"
    }
   ],
   "source": [
    "q_sample = q.sample(sample_shape=[2])\n",
    "tree_chain.inverse(q_sample['tree']['heights'][:, 100:])"
   ]
  },
  {
   "cell_type": "code",
   "execution_count": 32,
   "metadata": {},
   "outputs": [
    {
     "data": {
      "text/plain": [
       "{'tree': <tf.Tensor: shape=(2,), dtype=float32, numpy=array([nan, nan], dtype=float32)>,\n",
       " 'pop_size': <tf.Tensor: shape=(2,), dtype=float32, numpy=array([-0.5874181, -0.7373816], dtype=float32)>,\n",
       " 'kappa': <tf.Tensor: shape=(2,), dtype=float32, numpy=array([-0.78352123, -4.596287  ], dtype=float32)>,\n",
       " 'frequencies': <tf.Tensor: shape=(2,), dtype=float32, numpy=array([2.3719292, 3.7056866], dtype=float32)>}"
      ]
     },
     "execution_count": 32,
     "metadata": {},
     "output_type": "execute_result"
    }
   ],
   "source": [
    "q.log_prob_parts(q.sample(sample_shape=[2]))"
   ]
  },
  {
   "cell_type": "code",
   "execution_count": 23,
   "metadata": {},
   "outputs": [
    {
     "data": {
      "text/plain": [
       "{'tree': <tf.Tensor: shape=(), dtype=float32, numpy=nan>,\n",
       " 'pop_size': <tf.Tensor: shape=(), dtype=float32, numpy=nan>,\n",
       " 'kappa': <tf.Tensor: shape=(), dtype=float32, numpy=-1.2846406>,\n",
       " 'frequencies': <tf.Tensor: shape=(), dtype=float32, numpy=3.9390087>}"
      ]
     },
     "execution_count": 23,
     "metadata": {},
     "output_type": "execute_result"
    }
   ],
   "source": [
    "q.log_prob_parts(q.sample())"
   ]
  },
  {
   "cell_type": "markdown",
   "metadata": {},
   "source": [
    "# Model\n",
    "## Prior"
   ]
  },
  {
   "cell_type": "code",
   "execution_count": 3,
   "metadata": {},
   "outputs": [
    {
     "data": {
      "text/plain": [
       "{'pop_size': <tf.Tensor: shape=(2,), dtype=float32, numpy=array([-2.0272362, -9.440367 ], dtype=float32)>,\n",
       " 'tree': <tf.Tensor: shape=(2,), dtype=float32, numpy=array([-217.77231, -326.9209 ], dtype=float32)>,\n",
       " 'kappa': <tf.Tensor: shape=(2,), dtype=float32, numpy=array([-0.6592641, -3.6463604], dtype=float32)>,\n",
       " 'frequencies': <tf.Tensor: shape=(2,), dtype=float32, numpy=array([2.6924534, 3.4355507], dtype=float32)>}"
      ]
     },
     "execution_count": 3,
     "metadata": {},
     "output_type": "execute_result"
    }
   ],
   "source": [
    "import treeflow.coalescent\n",
    "reload(treeflow.coalescent)\n",
    "\n",
    "sampling_times = tf.convert_to_tensor(tree['heights'][:taxon_count], dtype=tf.float32)\n",
    "\n",
    "prior = tfd.JointDistributionNamed(dict(\n",
    "    frequencies=tfd.Dirichlet(concentration=[4,4,4,4]),\n",
    "    kappa=tfd.LogNormal(loc=0, scale=1),\n",
    "    pop_size=tfd.LogNormal(loc=0, scale=1),\n",
    "    #site_alpha=tfd.LogNormal(loc=0, scale=1),\n",
    "    #clock_rate=tfd.LogNormal(loc=0, scale=1),\n",
    "    tree=lambda pop_size: treeflow.coalescent.ConstantCoalescent(pop_size=pop_size, sampling_times=sampling_times)\n",
    "))\n",
    "\n",
    "prior.log_prob_parts(q.sample(sample_shape=[2]))"
   ]
  },
  {
   "cell_type": "code",
   "execution_count": 9,
   "metadata": {},
   "outputs": [
    {
     "data": {
      "text/plain": [
       "<tf.Tensor: shape=(), dtype=float32, numpy=nan>"
      ]
     },
     "execution_count": 9,
     "metadata": {},
     "output_type": "execute_result"
    }
   ],
   "source": [
    "q.log_prob(q.sample())"
   ]
  },
  {
   "cell_type": "code",
   "execution_count": 8,
   "metadata": {},
   "outputs": [
    {
     "data": {
      "text/plain": [
       "<tf.Tensor: shape=(), dtype=float32, numpy=nan>"
      ]
     },
     "execution_count": 8,
     "metadata": {},
     "output_type": "execute_result"
    }
   ],
   "source": [
    "def kl():\n",
    "    q_samples = q.sample()\n",
    "    return q.log_prob(q_sample) - prior.log_prob(q_samples)\n",
    "\n",
    "kl()"
   ]
  },
  {
   "cell_type": "code",
   "execution_count": 4,
   "metadata": {},
   "outputs": [
    {
     "name": "stderr",
     "output_type": "stream",
     "text": [
      "/mnt/c/chris/git/treeflow/treeflow/coalescent.py:75: UserWarning: Dummy sampling\n",
      "  warnings.warn('Dummy sampling')\n"
     ]
    },
    {
     "data": {
      "text/plain": [
       "<tf.Tensor: shape=(10,), dtype=float32, numpy=array([nan, nan, nan, nan, nan, nan, nan, nan, nan, nan], dtype=float32)>"
      ]
     },
     "execution_count": 4,
     "metadata": {},
     "output_type": "execute_result"
    }
   ],
   "source": [
    "tfp.vi.fit_surrogate_posterior(prior.log_prob, q, tf.optimizers.Adam(), 10)"
   ]
  },
  {
   "cell_type": "code",
   "execution_count": 5,
   "metadata": {},
   "outputs": [
    {
     "data": {
      "text/plain": [
       "<tf.Tensor: shape=(10,), dtype=float32, numpy=array([nan, nan, nan, nan, nan, nan, nan, nan, nan, nan], dtype=float32)>"
      ]
     },
     "execution_count": 5,
     "metadata": {},
     "output_type": "execute_result"
    }
   ],
   "source": [
    "import treeflow.vi\n",
    "from importlib import reload\n",
    "reload(treeflow.vi)\n",
    "\n",
    "treeflow.vi.fit_surrogate_posterior(prior.log_prob, q, tf.optimizers.Adam(), 10)"
   ]
  },
  {
   "cell_type": "code",
   "execution_count": 6,
   "metadata": {},
   "outputs": [
    {
     "data": {
      "text/plain": [
       "1"
      ]
     },
     "execution_count": 6,
     "metadata": {},
     "output_type": "execute_result"
    }
   ],
   "source": [
    "1"
   ]
  },
  {
   "cell_type": "markdown",
   "metadata": {},
   "source": [
    "## Likelihood"
   ]
  },
  {
   "cell_type": "code",
   "execution_count": 7,
   "metadata": {},
   "outputs": [
    {
     "data": {
      "text/plain": [
       "<tf.Tensor: shape=(), dtype=float32, numpy=nan>"
      ]
     },
     "execution_count": 7,
     "metadata": {},
     "output_type": "execute_result"
    }
   ],
   "source": [
    "import treeflow.sequences\n",
    "reload(treeflow.sequences)\n",
    "import treeflow.substitution_model\n",
    "\n",
    "subst_model = treeflow.substitution_model.HKY()\n",
    "category_weights = tf.ones(1)\n",
    "category_rates = tf.ones(1)\n",
    "\n",
    "alignment = treeflow.sequences.get_encoded_sequences(fasta_file, taxon_names)\n",
    "log_prob_conditioned = treeflow.sequences.log_prob_conditioned(alignment, tree['topology'], 1)\n",
    "                 \n",
    "def log_likelihood(tree, kappa, frequencies):  \n",
    "    return log_prob_conditioned(\n",
    "        subst_model=subst_model,\n",
    "        category_weights=category_weights,\n",
    "        category_rates=category_rates,\n",
    "        branch_lengths=treeflow.sequences.get_branch_lengths(tree, ),\n",
    "        frequencies=frequencies,\n",
    "        kappa=kappa\n",
    "    )\n",
    "                 \n",
    "q_sample = q.sample()\n",
    "                 \n",
    "log_likelihood(q_sample['tree'], q_sample['kappa'], q_sample['frequencies'])"
   ]
  }
 ],
 "metadata": {
  "kernelspec": {
   "display_name": "Python 3",
   "language": "python",
   "name": "python3"
  },
  "language_info": {
   "codemirror_mode": {
    "name": "ipython",
    "version": 3
   },
   "file_extension": ".py",
   "mimetype": "text/x-python",
   "name": "python",
   "nbconvert_exporter": "python",
   "pygments_lexer": "ipython3",
   "version": "3.7.6"
  }
 },
 "nbformat": 4,
 "nbformat_minor": 2
}
