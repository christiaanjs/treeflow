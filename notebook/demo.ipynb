{
 "cells": [
  {
   "cell_type": "code",
   "execution_count": 1,
   "metadata": {},
   "outputs": [
    {
     "data": {
      "text/plain": [
       "(100,\n",
       " dict_keys(['postorder_node_indices', 'child_indices', 'preorder_indices', 'preorder_node_indices', 'sibling_indices', 'parent_indices']))"
      ]
     },
     "execution_count": 1,
     "metadata": {},
     "output_type": "execute_result"
    }
   ],
   "source": [
    "import treeflow.tree_processing\n",
    "import treeflow.sequences\n",
    "newick_file = '../data/analysis-tree.nwk'\n",
    "fasta_file = '../data/sim-seq.fasta'\n",
    "\n",
    "tree, taxon_names = treeflow.tree_processing.parse_newick(newick_file)\n",
    "topology = treeflow.tree_processing.update_topology_dict(tree['topology'])\n",
    "taxon_count = len(taxon_names)\n",
    "taxon_count, topology.keys()"
   ]
  },
  {
   "cell_type": "markdown",
   "metadata": {},
   "source": [
    "# Variational approximation"
   ]
  },
  {
   "cell_type": "code",
   "execution_count": 48,
   "metadata": {},
   "outputs": [
    {
     "data": {
      "text/plain": [
       "[('q_tree_loc:0', TensorShape([99])),\n",
       " ('q_tree_scale:0', TensorShape([99])),\n",
       " ('q_pop_size_loc:0', TensorShape([])),\n",
       " ('q_pop_size_scale:0', TensorShape([])),\n",
       " ('q_kappa_loc:0', TensorShape([])),\n",
       " ('q_kappa_scale:0', TensorShape([])),\n",
       " ('q_frequencies_concentration:0', TensorShape([4]))]"
      ]
     },
     "execution_count": 48,
     "metadata": {},
     "output_type": "execute_result"
    }
   ],
   "source": [
    "# import treeflow.tree_transform\n",
    "import tensorflow as tf\n",
    "import tensorflow_probability as tfp\n",
    "tfd = tfp.distributions\n",
    "\n",
    "from importlib import reload\n",
    "reload(treeflow.tree_transform)\n",
    "\n",
    "anchor_heights = treeflow.tree_processing.get_node_anchor_heights(tree['heights'], topology['postorder_node_indices'], topology['child_indices'])\n",
    "anchor_heights = tf.convert_to_tensor(anchor_heights, dtype=tf.float32)\n",
    "tree_chain = treeflow.tree_transform.TreeChain(\n",
    "    topology['parent_indices'][taxon_count:] - taxon_count,\n",
    "    topology['preorder_node_indices'][1:] - taxon_count,\n",
    "    anchor_heights=anchor_heights)\n",
    "init_heights = tf.convert_to_tensor(tree['heights'][taxon_count:], dtype=tf.float32)\n",
    "init_heights_trans = tree_chain.inverse(init_heights)\n",
    "\n",
    "q = tfd.JointDistributionNamed(dict(\n",
    "    tree=treeflow.tree_transform.FixedTopologyDistribution(\n",
    "        height_distribution=tfd.TransformedDistribution(\n",
    "            distribution=tfd.Independent(tfd.Normal(\n",
    "                loc=tf.Variable(init_heights_trans, name='q_tree_loc'),\n",
    "                scale=tfp.util.DeferredTensor(tf.Variable(tf.ones_like(init_heights_trans), name='q_tree_scale'), tf.nn.softplus)\n",
    "            ), reinterpreted_batch_ndims=1),\n",
    "            bijector=tree_chain),\n",
    "        topology=tree['topology']\n",
    "    ),\n",
    "    kappa=tfd.LogNormal(\n",
    "        loc=tf.Variable(0.0, name='q_kappa_loc'),\n",
    "        scale=tfp.util.DeferredTensor(tf.Variable(1.0, name='q_kappa_scale'), tf.nn.softplus)\n",
    "    ),\n",
    "    pop_size=tfd.LogNormal(\n",
    "        loc=tf.Variable(0.0, name='q_pop_size_loc'),\n",
    "        scale=tfp.util.DeferredTensor(tf.Variable(1.0, name='q_pop_size_scale'), tf.nn.softplus)\n",
    "    ),\n",
    "    frequencies=tfd.Dirichlet(concentration=tfp.util.DeferredTensor(tf.Variable([4.0, 4.0, 4.0, 4.0], name='q_frequencies_concentration'), tf.nn.softplus))\n",
    "))\n",
    "[(var.name, var.shape) for var in q.trainable_variables]"
   ]
  },
  {
   "cell_type": "markdown",
   "metadata": {},
   "source": [
    "# Model\n",
    "## Prior"
   ]
  },
  {
   "cell_type": "code",
   "execution_count": 61,
   "metadata": {},
   "outputs": [
    {
     "name": "stderr",
     "output_type": "stream",
     "text": [
      "/mnt/c/chris/git/treeflow/treeflow/coalescent.py:58: UserWarning: Dummy sampling\n",
      "  warnings.warn('Dummy sampling')\n"
     ]
    },
    {
     "data": {
      "text/plain": [
       "<tf.Tensor: shape=(), dtype=float32, numpy=-165.01146>"
      ]
     },
     "execution_count": 61,
     "metadata": {},
     "output_type": "execute_result"
    }
   ],
   "source": [
    "import treeflow.coalescent\n",
    "\n",
    "sampling_times = tf.convert_to_tensor(tree['heights'][:taxon_count], dtype=tf.float32)\n",
    "\n",
    "prior = tfd.JointDistributionNamed(dict(\n",
    "    frequencies=tfd.Dirichlet(concentration=[4,4,4,4]),\n",
    "    kappa=tfd.LogNormal(loc=0, scale=1),\n",
    "    pop_size=tfd.LogNormal(loc=0, scale=1),\n",
    "    #site_alpha=tfd.LogNormal(loc=0, scale=1),\n",
    "    #clock_rate=tfd.LogNormal(loc=0, scale=1),\n",
    "    tree=lambda pop_size: treeflow.coalescent.ConstantCoalescent(pop_size=pop_size, sampling_times=sampling_times)\n",
    "))\n",
    "\n",
    "prior.log_prob(q.sample())"
   ]
  },
  {
   "cell_type": "code",
   "execution_count": 63,
   "metadata": {},
   "outputs": [
    {
     "data": {
      "text/plain": [
       "<tf.Tensor: shape=(10,), dtype=float32, numpy=\n",
       "array([642.9984 , 567.2519 , 539.5065 , 492.2849 , 495.64697, 617.4895 ,\n",
       "       553.4367 , 483.0504 , 482.4903 , 689.27985], dtype=float32)>"
      ]
     },
     "execution_count": 63,
     "metadata": {},
     "output_type": "execute_result"
    }
   ],
   "source": [
    "import treeflow.vi\n",
    "from importlib import reload\n",
    "reload(treeflow.vi)\n",
    "\n",
    "treeflow.vi.fit_surrogate_posterior(prior.log_prob, q, tf.optimizers.Adam(), 10)"
   ]
  },
  {
   "cell_type": "markdown",
   "metadata": {},
   "source": [
    "## Likelihood"
   ]
  },
  {
   "cell_type": "markdown",
   "metadata": {},
   "source": [
    "## Joint density function (conditioned)"
   ]
  }
 ],
 "metadata": {
  "kernelspec": {
   "display_name": "Python 3",
   "language": "python",
   "name": "python3"
  },
  "language_info": {
   "codemirror_mode": {
    "name": "ipython",
    "version": 3
   },
   "file_extension": ".py",
   "mimetype": "text/x-python",
   "name": "python",
   "nbconvert_exporter": "python",
   "pygments_lexer": "ipython3",
   "version": "3.7.6"
  }
 },
 "nbformat": 4,
 "nbformat_minor": 2
}
