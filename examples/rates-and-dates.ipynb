{
 "cells": [
  {
   "cell_type": "markdown",
   "id": "012724f8",
   "metadata": {},
   "source": [
    "# Estimating rates and dates from time-stamped sequences\n",
    "Data and models from the [BEAST documentation](https://beast.community/rates_and_dates),\n",
    "though we tweak priors."
   ]
  },
  {
   "cell_type": "code",
   "execution_count": 1,
   "id": "e06471b4",
   "metadata": {},
   "outputs": [
    {
     "name": "stdout",
     "output_type": "stream",
     "text": [
      "Silencing TensorFlow...\n"
     ]
    },
    {
     "data": {
      "text/plain": [
       "Alignment(taxon_count=71, pattern_count=654)"
      ]
     },
     "execution_count": 1,
     "metadata": {},
     "output_type": "execute_result"
    }
   ],
   "source": [
    "from treeflow import Alignment, AlignmentFormat\n",
    "\n",
    "alignment = Alignment(\"demo-data/YFV.nex\", format=AlignmentFormat.NEXUS)\n",
    "alignment"
   ]
  },
  {
   "cell_type": "code",
   "execution_count": 2,
   "id": "37e230cc-1c74-4b63-8657-b8b38bd0066f",
   "metadata": {},
   "outputs": [
    {
     "data": {
      "text/plain": [
       "TensorShape([654, 71, 4])"
      ]
     },
     "execution_count": 2,
     "metadata": {},
     "output_type": "execute_result"
    }
   ],
   "source": [
    "from treeflow import parse_newick\n",
    "\n",
    "starting_tree = parse_newick(\"demo-data/YFV.newick\")\n",
    "sequence_tensor = alignment.get_encoded_sequence_tensor(starting_tree.taxon_set)\n",
    "sequence_tensor.shape"
   ]
  },
  {
   "cell_type": "markdown",
   "id": "ef552641-795a-4d0a-804a-de3714edd61a",
   "metadata": {},
   "source": [
    "We define a model using [TreeFlow's YAML model definition format](https://github.com/christiaanjs/treeflow/blob/master/docs/model-definition.md). We then parse this into a nested dictionary using Python's `yaml` library, and pass that to TreeFlow's `PhyloModel` class constructor. This class is converted into a TensorFlow Probability's `JointDistribution` using `phylo_model_to_joint_distribution`. This joint distribution class implements methods like `log_prob` and `sample`. The final statement of this code block examines the composition of samples from this joint distribution; it is a nested structure of Tensors which represent the variables of the model.\n",
    "\n",
    "* TODO: Describe tree structure\n",
    "* TODO: Mention dummy sampling"
   ]
  },
  {
   "cell_type": "code",
   "execution_count": 3,
   "id": "fcde9a16-9045-479d-9304-24d7c4b884f6",
   "metadata": {},
   "outputs": [
    {
     "name": "stderr",
     "output_type": "stream",
     "text": [
      "/home/christiaan/uni/treeflow/treeflow/distributions/tree/coalescent/constant_coalescent.py:133: UserWarning: Dummy sampling\n",
      "  warnings.warn(\"Dummy sampling\")\n",
      "/home/christiaan/uni/treeflow/treeflow/tf_util/attrs.py:7: UserWarning: Temporary hotfix\n",
      "  warnings.warn(\"Temporary hotfix\")\n",
      "/home/christiaan/uni/treeflow/treeflow/distributions/leaf_ctmc.py:62: UserWarning: Dummy sampling of alignment\n",
      "  warnings.warn(\"Dummy sampling of alignment\")\n"
     ]
    },
    {
     "data": {
      "text/plain": [
       "StructTuple(\n",
       "  pop_size=TensorShape([]),\n",
       "  tree=TensorflowRootedTree(node_heights=TensorShape([70]), sampling_times=TensorShape([71]), topology=TensorflowTreeTopology(parent_indices=TensorShape([140]), child_indices=TensorShape([141, 2]), preorder_indices=TensorShape([141]))),\n",
       "  kappa=TensorShape([]),\n",
       "  frequencies=TensorShape([4]),\n",
       "  clock_rate=TensorShape([]),\n",
       "  site_gamma_shape=TensorShape([]),\n",
       "  alignment=TensorShape([654, 71, 4])\n",
       ")"
      ]
     },
     "execution_count": 3,
     "metadata": {},
     "output_type": "execute_result"
    }
   ],
   "source": [
    "import yaml\n",
    "import tensorflow as tf\n",
    "from treeflow import (\n",
    "    PhyloModel,\n",
    "    convert_tree_to_tensor,\n",
    "    phylo_model_to_joint_distribution\n",
    ")\n",
    "\n",
    "model_string = \"\"\"\n",
    "clock:\n",
    "  strict:\n",
    "    clock_rate:\n",
    "      lognormal:\n",
    "        loc: -2.0\n",
    "        scale: 2.0\n",
    "site:\n",
    "  discrete_gamma:\n",
    "    category_count: 4\n",
    "    site_gamma_shape:\n",
    "      lognormal:\n",
    "        loc: 0.0\n",
    "        scale: 1.0\n",
    "substitution:\n",
    "  hky:\n",
    "    kappa:\n",
    "      lognormal:\n",
    "        loc: 1.0\n",
    "        scale: 1.25\n",
    "    frequencies:\n",
    "      dirichlet:\n",
    "        concentration:\n",
    "        - 2.0\n",
    "        - 2.0\n",
    "        - 2.0\n",
    "        - 2.0\n",
    "tree:\n",
    "  coalescent:\n",
    "    pop_size:\n",
    "      lognormal:\n",
    "        loc: 1.0\n",
    "        scale: 1.5\n",
    "\"\"\"\n",
    "\n",
    "model_dict = yaml.safe_load(model_string)\n",
    "model = PhyloModel(model_dict)\n",
    "starting_tensor_tree = convert_tree_to_tensor(starting_tree)\n",
    "model_dist = phylo_model_to_joint_distribution(model, starting_tensor_tree, alignment)\n",
    "model_dist_sample = model_dist.sample()\n",
    "tf.nest.map_structure(lambda x: x.shape, model_dist_sample)"
   ]
  },
  {
   "cell_type": "code",
   "execution_count": 4,
   "id": "c6d2b556-faba-4ae2-a114-6d69230a66bd",
   "metadata": {},
   "outputs": [
    {
     "name": "stderr",
     "output_type": "stream",
     "text": [
      "/home/christiaan/uni/treeflow/treeflow/tf_util/attrs.py:7: UserWarning: Temporary hotfix\n",
      "  warnings.warn(\"Temporary hotfix\")\n",
      "100%|████████████████████████████████████████████████████████████████████████████████████████████████████████████████████████████████████████████████████████████████████| 100/100 [00:12<00:00,  7.91it/s]\n"
     ]
    },
    {
     "data": {
      "text/plain": [
       "[<matplotlib.lines.Line2D at 0x7f2736ed78e0>]"
      ]
     },
     "execution_count": 4,
     "metadata": {},
     "output_type": "execute_result"
    },
    {
     "data": {
      "image/png": "[encoded data removed]",
      "text/plain": [
       "<Figure size 432x288 with 1 Axes>"
      ]
     },
     "metadata": {
      "needs_background": "light"
     },
     "output_type": "display_data"
    }
   ],
   "source": [
    "from treeflow.vi import fit_fixed_topology_variational_approximation, RobustOptimizer\n",
    "from tqdm import tqdm\n",
    "import matplotlib.pyplot as plt\n",
    "\n",
    "model_dist_pinned = model_dist.experimental_pin(alignment=sequence_tensor)\n",
    "optimizer = RobustOptimizer(tf.optimizers.Adam(learning_rate=0.001))\n",
    "num_steps = 30000\n",
    "approx, (loss, approx_vars) = fit_fixed_topology_variational_approximation(\n",
    "    model_dist_pinned,\n",
    "    topologies=dict(tree=starting_tensor_tree.topology),\n",
    "    optimizer=optimizer,\n",
    "    num_steps=num_steps,\n",
    "    init_loc=dict(tree=starting_tensor_tree),\n",
    "    progress_bar=tqdm\n",
    ")\n",
    "plt.plot(loss)"
   ]
  },
  {
   "cell_type": "markdown",
   "id": "e302c5db-37de-452d-9ff8-e8aa68135f4d",
   "metadata": {},
   "source": [
    "### Try model with sequences partitioned into codon"
   ]
  },
  {
   "cell_type": "code",
   "execution_count": 5,
   "id": "f4e2455b-7c21-4b51-a86d-b378a867b57e",
   "metadata": {},
   "outputs": [
    {
     "data": {
      "text/plain": [
       "TensorShape([3, 218, 71, 4])"
      ]
     },
     "execution_count": 5,
     "metadata": {},
     "output_type": "execute_result"
    }
   ],
   "source": [
    "codon_partitioned_sequence_tensor = alignment.get_codon_partitioned_sequence_tensor(starting_tree.taxon_set)\n",
    "codon_partitioned_sequence_tensor.shape"
   ]
  },
  {
   "cell_type": "code",
   "execution_count": 6,
   "id": "2e55bced-ad0c-4da2-80e0-d55660b5d32b",
   "metadata": {},
   "outputs": [
    {
     "name": "stderr",
     "output_type": "stream",
     "text": [
      "/home/christiaan/uni/treeflow/treeflow/distributions/tree/coalescent/constant_coalescent.py:133: UserWarning: Dummy sampling\n",
      "  warnings.warn(\"Dummy sampling\")\n",
      "/home/christiaan/uni/treeflow/treeflow/distributions/leaf_ctmc.py:62: UserWarning: Dummy sampling of alignment\n",
      "  warnings.warn(\"Dummy sampling of alignment\")\n"
     ]
    },
    {
     "data": {
      "text/plain": [
       "{'pop_size': TensorShape([]),\n",
       " 'tree': TensorflowRootedTree(node_heights=TensorShape([70]), sampling_times=TensorShape([71]), topology=TensorflowTreeTopology(parent_indices=TensorShape([140]), child_indices=TensorShape([141, 2]), preorder_indices=TensorShape([141]))),\n",
       " 'site_gamma_shape': TensorShape([]),\n",
       " 'kappa': TensorShape([3]),\n",
       " 'frequencies': TensorShape([3, 4]),\n",
       " 'clock_rate': TensorShape([]),\n",
       " 'alignment': TensorShape([218, 3, 71, 4])}"
      ]
     },
     "execution_count": 6,
     "metadata": {},
     "output_type": "execute_result"
    }
   ],
   "source": [
    "import tensorflow_probability as tfp\n",
    "tfd = tfp.distributions\n",
    "from treeflow.distributions import DiscretizedDistribution, SampleWeighted, DiscreteParameterMixture, LeafCTMC\n",
    "from treeflow.evolution.substitution import HKY, get_transition_probabilities_tree\n",
    "from treeflow.distributions.tree import ConstantCoalescent\n",
    "\n",
    "codon_size = codon_partitioned_sequence_tensor.shape[0]\n",
    "dist_dict = { dist.name: dist for dist in model_dist._get_single_sample_distributions() }\n",
    "\n",
    "codon_size, codon_count, taxon_count, site_category_count = codon_partitioned_sequence_tensor.shape\n",
    "subst_model = HKY()\n",
    "\n",
    "def build_codon_alignment_distribution(kappa, frequencies, tree, clock_rate, site_gamma_shape):\n",
    "    distance_tree = tree.get_unrooted_tree() * clock_rate\n",
    "    site_rate_distribution = DiscretizedDistribution(\n",
    "        category_count=site_category_count,\n",
    "        distribution=tfd.Gamma(concentration=site_gamma_shape, rate=site_gamma_shape),\n",
    "    )\n",
    "    transition_probs_tree = get_transition_probabilities_tree(\n",
    "        distance_tree,\n",
    "        subst_model,\n",
    "        rate_categories=site_rate_distribution.normalised_support,\n",
    "        frequencies=frequencies,\n",
    "        kappa=kappa\n",
    "    )\n",
    "    batch_ctmc = LeafCTMC(\n",
    "        transition_probs_tree,\n",
    "        tf.expand_dims(frequencies, -2) # Add a dimension to frequencies to broadcast with site rate mixture\n",
    "    )\n",
    "    site_rate_mixture = DiscreteParameterMixture(\n",
    "        site_rate_distribution,\n",
    "        batch_ctmc,\n",
    "    )\n",
    "    single_site_dist = tfd.Independent(site_rate_mixture, reinterpreted_batch_ndims=1)\n",
    "    return tfd.Sample(\n",
    "        single_site_dist,\n",
    "        sample_shape=codon_count,\n",
    "    )\n",
    "\n",
    "codon_model_dist = tfd.JointDistributionNamed({\n",
    "    \"pop_size\": dist_dict[\"pop_size\"],\n",
    "    \"kappa\": tfd.Sample(dist_dict[\"kappa\"], sample_shape=codon_size),\n",
    "    \"frequencies\": tfd.Sample(dist_dict[\"frequencies\"], sample_shape=codon_size),\n",
    "    \"site_gamma_shape\": dist_dict[\"site_gamma_shape\"],\n",
    "    \"clock_rate\": dist_dict[\"clock_rate\"],\n",
    "    \"tree\": lambda pop_size: ConstantCoalescent(starting_tensor_tree.taxon_count, pop_size, starting_tensor_tree.sampling_times, tree_name=\"tree\"),\n",
    "    \"alignment\": build_codon_alignment_distribution\n",
    "})\n",
    "codon_model_dist.event_shape"
   ]
  },
  {
   "cell_type": "code",
   "execution_count": 7,
   "id": "863a5689-63ba-491b-9d59-434f7f9533db",
   "metadata": {},
   "outputs": [
    {
     "data": {
      "text/plain": [
       "<tf.Tensor: shape=(), dtype=float64, numpy=-148825.42973550508>"
      ]
     },
     "execution_count": 7,
     "metadata": {},
     "output_type": "execute_result"
    }
   ],
   "source": [
    "site_first_codon_sequence_tensor = tf.transpose(codon_partitioned_sequence_tensor, [1, 0, 2, 3])\n",
    "codon_model_dist_pinned = codon_model_dist.experimental_pin(alignment=site_first_codon_sequence_tensor)\n",
    "codon_prior_sample = codon_model_dist.sample()\n",
    "codon_prior_sample.pop(\"alignment\")\n",
    "codon_prior_sample[\"tree\"] = starting_tensor_tree\n",
    "codon_model_dist_pinned.log_prob(codon_prior_sample)"
   ]
  },
  {
   "cell_type": "code",
   "execution_count": 9,
   "id": "35ec651b-65e0-4dd1-888d-f3f53333fb60",
   "metadata": {},
   "outputs": [
    {
     "name": "stderr",
     "output_type": "stream",
     "text": [
      "/home/christiaan/uni/treeflow/treeflow/tf_util/attrs.py:7: UserWarning: Temporary hotfix\n",
      "  warnings.warn(\"Temporary hotfix\")\n",
      "100%|████████████████████████████████████████████████████████████████████████████████████████████████████████████████████████████████████████████████████████████████████| 100/100 [00:10<00:00,  9.39it/s]\n"
     ]
    },
    {
     "data": {
      "text/plain": [
       "[<matplotlib.lines.Line2D at 0x7f271f0cbd00>]"
      ]
     },
     "execution_count": 9,
     "metadata": {},
     "output_type": "execute_result"
    },
    {
     "data": {
      "image/png": "[encoded data removed]",
      "text/plain": [
       "<Figure size 432x288 with 1 Axes>"
      ]
     },
     "metadata": {
      "needs_background": "light"
     },
     "output_type": "display_data"
    }
   ],
   "source": [
    "codon_optimizer = RobustOptimizer(tf.optimizers.Adam(learning_rate=0.001))\n",
    "codon_approx, (codon_loss, codon_approx_vars) = fit_fixed_topology_variational_approximation(\n",
    "    codon_model_dist_pinned,\n",
    "    topologies=dict(tree=starting_tensor_tree.topology),\n",
    "    optimizer=codon_optimizer,\n",
    "    num_steps=num_steps,\n",
    "    init_loc=dict(tree=starting_tensor_tree),\n",
    "    progress_bar=tqdm,\n",
    "    approx_kwargs=dict(var_name_prefix=\"codon_\"),\n",
    ")\n",
    "plt.plot(codon_loss)"
   ]
  }
 ],
 "metadata": {
  "kernelspec": {
   "display_name": "Python 3 (ipykernel)",
   "language": "python",
   "name": "python3"
  },
  "language_info": {
   "codemirror_mode": {
    "name": "ipython",
    "version": 3
   },
   "file_extension": ".py",
   "mimetype": "text/x-python",
   "name": "python",
   "nbconvert_exporter": "python",
   "pygments_lexer": "ipython3",
   "version": "3.8.13"
  }
 },
 "nbformat": 4,
 "nbformat_minor": 5
}
