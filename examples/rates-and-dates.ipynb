{
 "cells": [
  {
   "cell_type": "markdown",
   "id": "012724f8",
   "metadata": {},
   "source": [
    "# Estimating rates and dates from time-stamped sequences\n",
    "Data and models from the [BEAST documentation](https://beast.community/rates_and_dates),\n",
    "though we tweak priors."
   ]
  },
  {
   "cell_type": "code",
   "execution_count": 1,
   "id": "e06471b4",
   "metadata": {},
   "outputs": [
    {
     "name": "stdout",
     "output_type": "stream",
     "text": [
      "Silencing TensorFlow...\n"
     ]
    },
    {
     "data": {
      "text/plain": [
       "Alignment(taxon_count=71, pattern_count=654)"
      ]
     },
     "execution_count": 1,
     "metadata": {},
     "output_type": "execute_result"
    }
   ],
   "source": [
    "from treeflow import Alignment, AlignmentFormat\n",
    "\n",
    "alignment = Alignment(\"demo-data/YFV.nex\", format=AlignmentFormat.NEXUS)\n",
    "alignment"
   ]
  },
  {
   "cell_type": "code",
   "execution_count": 5,
   "id": "37e230cc-1c74-4b63-8657-b8b38bd0066f",
   "metadata": {},
   "outputs": [
    {
     "data": {
      "text/plain": [
       "TensorShape([654, 71, 4])"
      ]
     },
     "execution_count": 5,
     "metadata": {},
     "output_type": "execute_result"
    }
   ],
   "source": [
    "from treeflow import parse_newick\n",
    "\n",
    "starting_tree = parse_newick(\"demo-data/YFV.newick\")\n",
    "sequence_tensor = alignment.get_encoded_sequence_tensor(starting_tree.taxon_set)\n",
    "sequence_tensor.shape"
   ]
  },
  {
   "cell_type": "markdown",
   "id": "ef552641-795a-4d0a-804a-de3714edd61a",
   "metadata": {},
   "source": [
    "We define a model using [TreeFlow's YAML model definition format](https://github.com/christiaanjs/treeflow/blob/master/docs/model-definition.md). We then parse this into a nested dictionary using Python's `yaml` library, and pass that to TreeFlow's `PhyloModel` class constructor. This class is converted into a TensorFlow Probability's `JointDistribution` using `phylo_model_to_joint_distribution`. This joint distribution class implements methods like `log_prob` and `sample`. The final statement of this code block examines the composition of samples from this joint distribution; it is a nested structure of Tensors which represent the variables of the model.\n",
    "\n",
    "* TODO: Describe tree structure\n",
    "* TODO: Mention dummy sampling"
   ]
  },
  {
   "cell_type": "code",
   "execution_count": 15,
   "id": "fcde9a16-9045-479d-9304-24d7c4b884f6",
   "metadata": {},
   "outputs": [
    {
     "data": {
      "text/plain": [
       "StructTuple(\n",
       "  pop_size=TensorShape([]),\n",
       "  tree=TensorflowRootedTree(node_heights=TensorShape([70]), sampling_times=TensorShape([71]), topology=TensorflowTreeTopology(parent_indices=TensorShape([140]), child_indices=TensorShape([141, 2]), preorder_indices=TensorShape([141]))),\n",
       "  kappa=TensorShape([]),\n",
       "  frequencies=TensorShape([4]),\n",
       "  clock_rate=TensorShape([]),\n",
       "  site_gamma_shape=TensorShape([]),\n",
       "  alignment=TensorShape([654, 71, 4])\n",
       ")"
      ]
     },
     "execution_count": 15,
     "metadata": {},
     "output_type": "execute_result"
    }
   ],
   "source": [
    "import yaml\n",
    "import tensorflow as tf\n",
    "from treeflow import (\n",
    "    PhyloModel,\n",
    "    convert_tree_to_tensor,\n",
    "    phylo_model_to_joint_distribution\n",
    ")\n",
    "\n",
    "model_string = \"\"\"\n",
    "clock:\n",
    "  strict:\n",
    "    clock_rate:\n",
    "      lognormal:\n",
    "        loc: -2.0\n",
    "        scale: 2.0\n",
    "site:\n",
    "  discrete_gamma:\n",
    "    category_count: 4\n",
    "    site_gamma_shape:\n",
    "      lognormal:\n",
    "        loc: 0.0\n",
    "        scale: 1.0\n",
    "substitution:\n",
    "  hky:\n",
    "    kappa:\n",
    "      lognormal:\n",
    "        loc: 1.0\n",
    "        scale: 1.25\n",
    "    frequencies:\n",
    "      dirichlet:\n",
    "        concentration:\n",
    "        - 2.0\n",
    "        - 2.0\n",
    "        - 2.0\n",
    "        - 2.0\n",
    "tree:\n",
    "  coalescent:\n",
    "    pop_size:\n",
    "      lognormal:\n",
    "        loc: 1.0\n",
    "        scale: 1.5\n",
    "\"\"\"\n",
    "\n",
    "model_dict = yaml.safe_load(model_string)\n",
    "model = PhyloModel(model_dict)\n",
    "starting_tensor_tree = convert_tree_to_tensor(starting_tree)\n",
    "model_dist = phylo_model_to_joint_distribution(model, starting_tensor_tree, alignment)\n",
    "model_dist_sample = model_dist.sample()\n",
    "tf.nest.map_structure(lambda x: x.shape, model_dist_sample)"
   ]
  },
  {
   "cell_type": "code",
   "execution_count": null,
   "id": "c6d2b556-faba-4ae2-a114-6d69230a66bd",
   "metadata": {},
   "outputs": [
    {
     "name": "stderr",
     "output_type": "stream",
     "text": [
      "  9%|██████████████▌                                                                                                                                                  | 2720/30000 [01:30<13:53, 32.73it/s]"
     ]
    }
   ],
   "source": [
    "from treeflow.vi import fit_fixed_topology_variational_approximation, RobustOptimizer\n",
    "from tqdm import tqdm\n",
    "import matplotlib.pyplot as plt\n",
    "\n",
    "model_dist_pinned = model_dist.experimental_pin(alignment=sequence_tensor)\n",
    "optimizer = RobustOptimizer(tf.optimizers.Adam(learning_rate=0.001))\n",
    "num_steps = 30000\n",
    "approx, (loss, approx_vars) = fit_fixed_topology_variational_approximation(\n",
    "    model_dist_pinned,\n",
    "    topologies=dict(tree=starting_tensor_tree.topology),\n",
    "    optimizer=optimizer,\n",
    "    num_steps=num_steps,\n",
    "    init_loc=dict(tree=starting_tensor_tree),\n",
    "    progress_bar=tqdm\n",
    ")\n",
    "plt.plot(loss)"
   ]
  },
  {
   "cell_type": "markdown",
   "id": "e302c5db-37de-452d-9ff8-e8aa68135f4d",
   "metadata": {},
   "source": [
    "### Try model with sequences partitioned into codon"
   ]
  },
  {
   "cell_type": "code",
   "execution_count": null,
   "id": "f4e2455b-7c21-4b51-a86d-b378a867b57e",
   "metadata": {},
   "outputs": [],
   "source": [
    "codon_partitioned_sequence_tensor = alignment.get_codon_partitioned_sequence_tensor(starting_tree.taxon_set)\n",
    "codon_partitioned_sequence_tensor.shape"
   ]
  }
 ],
 "metadata": {
  "kernelspec": {
   "display_name": "Python 3 (ipykernel)",
   "language": "python",
   "name": "python3"
  },
  "language_info": {
   "codemirror_mode": {
    "name": "ipython",
    "version": 3
   },
   "file_extension": ".py",
   "mimetype": "text/x-python",
   "name": "python",
   "nbconvert_exporter": "python",
   "pygments_lexer": "ipython3",
   "version": "3.8.13"
  }
 },
 "nbformat": 4,
 "nbformat_minor": 5
}
