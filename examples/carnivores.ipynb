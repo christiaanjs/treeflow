{
 "cells": [
  {
   "cell_type": "code",
   "execution_count": 1,
   "id": "ceade2d8",
   "metadata": {},
   "outputs": [
    {
     "name": "stderr",
     "output_type": "stream",
     "text": [
      "2022-04-26 21:51:38.057891: W tensorflow/stream_executor/platform/default/dso_loader.cc:64] Could not load dynamic library 'libcudart.so.11.0'; dlerror: libcudart.so.11.0: cannot open shared object file: No such file or directory\n",
      "2022-04-26 21:51:38.057916: I tensorflow/stream_executor/cuda/cudart_stub.cc:29] Ignore above cudart dlerror if you do not have a GPU set up on your machine.\n"
     ]
    }
   ],
   "source": [
    "%load_ext autoreload\n",
    "%autoreload 1\n",
    "%aimport treeflow\n",
    "%aimport treeflow.evolution.seqio\n",
    "%aimport treeflow.evolution.calibration.calibration"
   ]
  },
  {
   "cell_type": "markdown",
   "id": "87704f8d",
   "metadata": {},
   "source": [
    "# Treeflow example - carnivores data"
   ]
  },
  {
   "cell_type": "markdown",
   "id": "44a36356",
   "metadata": {},
   "source": [
    "Dataset from **Suchard, Marc A., and Andrew Rambaut. \"Many-core algorithms for statistical phylogenetics.\" *Bioinformatics* 25.11 (2009): 1370-1376.**\n",
    "\n",
    "Sequences accessed from [Beast examples on Github](https://github.com/beast-dev/beast-mcmc/blob/v1.10.4/examples/Benchmarks/benchmark2.xml)."
   ]
  },
  {
   "cell_type": "code",
   "execution_count": 2,
   "id": "f3290579",
   "metadata": {},
   "outputs": [],
   "source": [
    "import treeflow"
   ]
  },
  {
   "cell_type": "markdown",
   "id": "1aafc912",
   "metadata": {},
   "source": [
    "## Read input data"
   ]
  },
  {
   "cell_type": "code",
   "execution_count": 3,
   "id": "0910f049",
   "metadata": {},
   "outputs": [
    {
     "data": {
      "text/plain": [
       "('Puma_concolor_', 'Acinonyx_jubatus_', 'Lynx_canadensis_', 'Felis_silvestris_', 'Uncia_uncia_', 'Panthera_pardus_', 'Panthera_tigris_', 'Neofelis_nebulosa_', 'Herpestes_auropunctatus_', 'Leptonychotes_weddellii_', 'Hydrurga_leptonyx_', 'Ommatophoca_rossii_', 'Lobodon_carcinophaga_', 'Mirounga_leonina_', 'Mirounga_angustirostris_', 'Monachus_monachus_', 'Monachus_schauinslandi_', 'Phoca_fasciata_', 'Phoca_groenlandica_', 'Phoca_caspica_', 'Halichoerus_grypus_', 'Phoca_sibirica_', 'Phoca_largha_', 'Phoca_vitulina_', 'Phoca_hispida_', 'Cystophora_cristata_', 'Erignathus_barbatus_', 'Arctocephalus_forsteri_', 'Arctocephalus_australis_', 'Arctocephalus_townsendi_', 'Neophoca_cinerea_', 'Phocarctos_hookeri_', 'Arctocephalus_pusillus_', 'Otaria_byronia_', 'Zalophus_californianus_', 'Eumetopias_jubatus_', 'Callorhinus_ursinus_', 'Odobenus_rosmarus_', 'Enhydra_lutris_', 'Lontra_canadensis_', 'Mustela_vison_', 'Martes_melampus_', 'Martes_americana_', 'Gulo_gulo_', 'Meles_meles_', 'Taxidea_taxus_', 'Procyon_lotor_', 'Mephitis_mephitis_', 'Spilogale_putorius_', 'Ailurus_fulgens_', 'Ursus_thibetanus_', 'Ursus_americanus_', 'Helarctos_malayanus_', 'Ursus_arctos_', 'Ursus_maritimus_', 'Melursus_ursinus_', 'Tremarctos_ornatus_', 'Ailuropoda_melanoleuca_', 'Canis_latrans_', 'Canis_lupus_', 'Alopex_lagopus_', 'Vulpes_vulpes_')"
      ]
     },
     "execution_count": 3,
     "metadata": {},
     "output_type": "execute_result"
    }
   ],
   "source": [
    "tree = treeflow.parse_newick(\"demo-data/carnivores.newick\")\n",
    "tree.taxon_set"
   ]
  },
  {
   "cell_type": "code",
   "execution_count": 4,
   "id": "17586046",
   "metadata": {},
   "outputs": [
    {
     "data": {
      "text/plain": [
       "WeightedAlignment(taxon_count=62, pattern_count=5565)"
      ]
     },
     "execution_count": 4,
     "metadata": {},
     "output_type": "execute_result"
    }
   ],
   "source": [
    "alignment = treeflow.Alignment(\"demo-data/carnivores.fasta\").get_compressed_alignment()\n",
    "alignment"
   ]
  },
  {
   "cell_type": "markdown",
   "id": "da61ff27",
   "metadata": {},
   "source": [
    "Calibrations from **Hassanin, Alexandre, et al. \"Evolutionary history of Carnivora (Mammalia, Laurasiatheria) inferred from mitochondrial genomes.\" *PloS one* 16.2 (2021): e0240770.**"
   ]
  },
  {
   "cell_type": "code",
   "execution_count": 5,
   "id": "47b32e99",
   "metadata": {},
   "outputs": [
    {
     "data": {
      "text/plain": [
       "MRCACalibrationSet(MRCACalibration(name='Guloninae, Mustilinae', range=(12.2, 27.6)), MRCACalibration(name='Felidae', range=(14, 20)), MRCACalibration(name='Pinnipedia', range=(19, 34)))"
      ]
     },
     "execution_count": 5,
     "metadata": {},
     "output_type": "execute_result"
    }
   ],
   "source": [
    "import yaml\n",
    "with open(\"demo-data/carnivore-calibrations.yaml\") as f:\n",
    "    calibration_dict = yaml.safe_load(f)\n",
    "    \n",
    "calibration_set = treeflow.MRCACalibrationSet(calibration_dict)\n",
    "calibration_set"
   ]
  },
  {
   "cell_type": "markdown",
   "id": "b4b24719",
   "metadata": {},
   "source": [
    "## Model specification"
   ]
  },
  {
   "cell_type": "markdown",
   "id": "e1e6a0c7",
   "metadata": {},
   "source": [
    "### No site rate variation"
   ]
  },
  {
   "cell_type": "code",
   "execution_count": 6,
   "id": "0d27890e",
   "metadata": {},
   "outputs": [
    {
     "name": "stderr",
     "output_type": "stream",
     "text": [
      "2022-04-26 21:51:41.528483: W tensorflow/stream_executor/platform/default/dso_loader.cc:64] Could not load dynamic library 'libcuda.so.1'; dlerror: libcuda.so.1: cannot open shared object file: No such file or directory\n",
      "2022-04-26 21:51:41.528538: W tensorflow/stream_executor/cuda/cuda_driver.cc:269] failed call to cuInit: UNKNOWN ERROR (303)\n",
      "2022-04-26 21:51:41.528563: I tensorflow/stream_executor/cuda/cuda_diagnostics.cc:156] kernel driver does not appear to be running on this host (CS424460): /proc/driver/nvidia/version does not exist\n",
      "2022-04-26 21:51:41.529032: I tensorflow/core/platform/cpu_feature_guard.cc:151] This TensorFlow binary is optimized with oneAPI Deep Neural Network Library (oneDNN) to use the following CPU instructions in performance-critical operations:  AVX2 FMA\n",
      "To enable them in other operations, rebuild TensorFlow with the appropriate compiler flags.\n",
      "/home/cswa648/dev/treeflow/treeflow/distributions/tree/birthdeath/birth_death_contemporary_sampling.py:66: UserWarning: Dummy sampling\n",
      "  warnings.warn(\"Dummy sampling\")\n",
      "/home/cswa648/dev/treeflow/treeflow/tf_util/attrs.py:7: UserWarning: Temporary hotfix\n",
      "  warnings.warn(\"Temporary hotfix\")\n"
     ]
    },
    {
     "data": {
      "text/plain": [
       "{'birth_rate': <tf.Tensor: shape=(), dtype=float64, numpy=22.505263477593754>,\n",
       " 'tree': TensorflowRootedTree(node_heights=<tf.Tensor: shape=(61,), dtype=float64, numpy=\n",
       " array([0., 0., 0., 0., 0., 0., 0., 0., 0., 0., 0., 0., 0., 0., 0., 0., 0.,\n",
       "        0., 0., 0., 0., 0., 0., 0., 0., 0., 0., 0., 0., 0., 0., 0., 0., 0.,\n",
       "        0., 0., 0., 0., 0., 0., 0., 0., 0., 0., 0., 0., 0., 0., 0., 0., 0.,\n",
       "        0., 0., 0., 0., 0., 0., 0., 0., 0., 0.])>, sampling_times=<tf.Tensor: shape=(62,), dtype=float64, numpy=\n",
       " array([0., 0., 0., 0., 0., 0., 0., 0., 0., 0., 0., 0., 0., 0., 0., 0., 0.,\n",
       "        0., 0., 0., 0., 0., 0., 0., 0., 0., 0., 0., 0., 0., 0., 0., 0., 0.,\n",
       "        0., 0., 0., 0., 0., 0., 0., 0., 0., 0., 0., 0., 0., 0., 0., 0., 0.,\n",
       "        0., 0., 0., 0., 0., 0., 0., 0., 0., 0., 0.])>, topology=TensorflowTreeTopology(parent_indices=<tf.Tensor: shape=(122,), dtype=int32, numpy=\n",
       " array([0, 0, 0, 0, 0, 0, 0, 0, 0, 0, 0, 0, 0, 0, 0, 0, 0, 0, 0, 0, 0, 0,\n",
       "        0, 0, 0, 0, 0, 0, 0, 0, 0, 0, 0, 0, 0, 0, 0, 0, 0, 0, 0, 0, 0, 0,\n",
       "        0, 0, 0, 0, 0, 0, 0, 0, 0, 0, 0, 0, 0, 0, 0, 0, 0, 0, 0, 0, 0, 0,\n",
       "        0, 0, 0, 0, 0, 0, 0, 0, 0, 0, 0, 0, 0, 0, 0, 0, 0, 0, 0, 0, 0, 0,\n",
       "        0, 0, 0, 0, 0, 0, 0, 0, 0, 0, 0, 0, 0, 0, 0, 0, 0, 0, 0, 0, 0, 0,\n",
       "        0, 0, 0, 0, 0, 0, 0, 0, 0, 0, 0, 0], dtype=int32)>, child_indices=<tf.Tensor: shape=(123, 2), dtype=int32, numpy=\n",
       " array([[0, 0],\n",
       "        [0, 0],\n",
       "        [0, 0],\n",
       "        [0, 0],\n",
       "        [0, 0],\n",
       "        [0, 0],\n",
       "        [0, 0],\n",
       "        [0, 0],\n",
       "        [0, 0],\n",
       "        [0, 0],\n",
       "        [0, 0],\n",
       "        [0, 0],\n",
       "        [0, 0],\n",
       "        [0, 0],\n",
       "        [0, 0],\n",
       "        [0, 0],\n",
       "        [0, 0],\n",
       "        [0, 0],\n",
       "        [0, 0],\n",
       "        [0, 0],\n",
       "        [0, 0],\n",
       "        [0, 0],\n",
       "        [0, 0],\n",
       "        [0, 0],\n",
       "        [0, 0],\n",
       "        [0, 0],\n",
       "        [0, 0],\n",
       "        [0, 0],\n",
       "        [0, 0],\n",
       "        [0, 0],\n",
       "        [0, 0],\n",
       "        [0, 0],\n",
       "        [0, 0],\n",
       "        [0, 0],\n",
       "        [0, 0],\n",
       "        [0, 0],\n",
       "        [0, 0],\n",
       "        [0, 0],\n",
       "        [0, 0],\n",
       "        [0, 0],\n",
       "        [0, 0],\n",
       "        [0, 0],\n",
       "        [0, 0],\n",
       "        [0, 0],\n",
       "        [0, 0],\n",
       "        [0, 0],\n",
       "        [0, 0],\n",
       "        [0, 0],\n",
       "        [0, 0],\n",
       "        [0, 0],\n",
       "        [0, 0],\n",
       "        [0, 0],\n",
       "        [0, 0],\n",
       "        [0, 0],\n",
       "        [0, 0],\n",
       "        [0, 0],\n",
       "        [0, 0],\n",
       "        [0, 0],\n",
       "        [0, 0],\n",
       "        [0, 0],\n",
       "        [0, 0],\n",
       "        [0, 0],\n",
       "        [0, 0],\n",
       "        [0, 0],\n",
       "        [0, 0],\n",
       "        [0, 0],\n",
       "        [0, 0],\n",
       "        [0, 0],\n",
       "        [0, 0],\n",
       "        [0, 0],\n",
       "        [0, 0],\n",
       "        [0, 0],\n",
       "        [0, 0],\n",
       "        [0, 0],\n",
       "        [0, 0],\n",
       "        [0, 0],\n",
       "        [0, 0],\n",
       "        [0, 0],\n",
       "        [0, 0],\n",
       "        [0, 0],\n",
       "        [0, 0],\n",
       "        [0, 0],\n",
       "        [0, 0],\n",
       "        [0, 0],\n",
       "        [0, 0],\n",
       "        [0, 0],\n",
       "        [0, 0],\n",
       "        [0, 0],\n",
       "        [0, 0],\n",
       "        [0, 0],\n",
       "        [0, 0],\n",
       "        [0, 0],\n",
       "        [0, 0],\n",
       "        [0, 0],\n",
       "        [0, 0],\n",
       "        [0, 0],\n",
       "        [0, 0],\n",
       "        [0, 0],\n",
       "        [0, 0],\n",
       "        [0, 0],\n",
       "        [0, 0],\n",
       "        [0, 0],\n",
       "        [0, 0],\n",
       "        [0, 0],\n",
       "        [0, 0],\n",
       "        [0, 0],\n",
       "        [0, 0],\n",
       "        [0, 0],\n",
       "        [0, 0],\n",
       "        [0, 0],\n",
       "        [0, 0],\n",
       "        [0, 0],\n",
       "        [0, 0],\n",
       "        [0, 0],\n",
       "        [0, 0],\n",
       "        [0, 0],\n",
       "        [0, 0],\n",
       "        [0, 0],\n",
       "        [0, 0],\n",
       "        [0, 0],\n",
       "        [0, 0],\n",
       "        [0, 0],\n",
       "        [0, 0]], dtype=int32)>, preorder_indices=<tf.Tensor: shape=(123,), dtype=int32, numpy=\n",
       " array([0, 0, 0, 0, 0, 0, 0, 0, 0, 0, 0, 0, 0, 0, 0, 0, 0, 0, 0, 0, 0, 0,\n",
       "        0, 0, 0, 0, 0, 0, 0, 0, 0, 0, 0, 0, 0, 0, 0, 0, 0, 0, 0, 0, 0, 0,\n",
       "        0, 0, 0, 0, 0, 0, 0, 0, 0, 0, 0, 0, 0, 0, 0, 0, 0, 0, 0, 0, 0, 0,\n",
       "        0, 0, 0, 0, 0, 0, 0, 0, 0, 0, 0, 0, 0, 0, 0, 0, 0, 0, 0, 0, 0, 0,\n",
       "        0, 0, 0, 0, 0, 0, 0, 0, 0, 0, 0, 0, 0, 0, 0, 0, 0, 0, 0, 0, 0, 0,\n",
       "        0, 0, 0, 0, 0, 0, 0, 0, 0, 0, 0, 0, 0], dtype=int32)>))}"
      ]
     },
     "execution_count": 6,
     "metadata": {},
     "output_type": "execute_result"
    }
   ],
   "source": [
    "import tensorflow_probability as tfp\n",
    "from treeflow import float_constant as c\n",
    "\n",
    "base_model = tfp.distributions.JointDistributionNamed(dict(\n",
    "    birth_rate=tfp.distributions.LogNormal(c(1.0), c(1.5)),\n",
    "    tree=lambda birth_rate: treeflow.distributions.Yule(tree.taxon_count, birth_rate)\n",
    "))\n",
    "base_model.sample()"
   ]
  },
  {
   "cell_type": "markdown",
   "id": "acb40e6b",
   "metadata": {},
   "source": [
    "## Results visualisation\n"
   ]
  },
  {
   "cell_type": "markdown",
   "id": "24735a0a",
   "metadata": {},
   "source": [
    "* Use existing tree viz tools"
   ]
  }
 ],
 "metadata": {
  "kernelspec": {
   "display_name": "Python 3 (ipykernel)",
   "language": "python",
   "name": "python3"
  },
  "language_info": {
   "codemirror_mode": {
    "name": "ipython",
    "version": 3
   },
   "file_extension": ".py",
   "mimetype": "text/x-python",
   "name": "python",
   "nbconvert_exporter": "python",
   "pygments_lexer": "ipython3",
   "version": "3.10.2"
  }
 },
 "nbformat": 4,
 "nbformat_minor": 5
}
