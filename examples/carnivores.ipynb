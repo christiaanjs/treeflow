{
 "cells": [
  {
   "cell_type": "markdown",
   "id": "87704f8d",
   "metadata": {},
   "source": [
    "# Treeflow example - carnivores data"
   ]
  },
  {
   "cell_type": "markdown",
   "id": "44a36356",
   "metadata": {},
   "source": [
    "Dataset from **Suchard, Marc A., and Andrew Rambaut. \"Many-core algorithms for statistical phylogenetics.\" *Bioinformatics* 25.11 (2009): 1370-1376.**\n",
    "\n",
    "Sequences accessed from [Beast examples on Github](https://github.com/beast-dev/beast-mcmc/blob/v1.10.4/examples/Benchmarks/benchmark2.xml)."
   ]
  },
  {
   "cell_type": "code",
   "execution_count": 1,
   "id": "f3290579",
   "metadata": {},
   "outputs": [
    {
     "name": "stderr",
     "output_type": "stream",
     "text": [
      "2022-05-08 16:05:03.702803: W tensorflow/stream_executor/platform/default/dso_loader.cc:64] Could not load dynamic library 'libcudart.so.11.0'; dlerror: libcudart.so.11.0: cannot open shared object file: No such file or directory\n",
      "2022-05-08 16:05:03.702825: I tensorflow/stream_executor/cuda/cudart_stub.cc:29] Ignore above cudart dlerror if you do not have a GPU set up on your machine.\n"
     ]
    }
   ],
   "source": [
    "import treeflow"
   ]
  },
  {
   "cell_type": "markdown",
   "id": "02be5f3b",
   "metadata": {},
   "source": [
    "## Read input data"
   ]
  },
  {
   "cell_type": "code",
   "execution_count": 2,
   "id": "0910f049",
   "metadata": {},
   "outputs": [
    {
     "name": "stderr",
     "output_type": "stream",
     "text": [
      "2022-05-08 16:05:07.964339: W tensorflow/stream_executor/platform/default/dso_loader.cc:64] Could not load dynamic library 'libcuda.so.1'; dlerror: libcuda.so.1: cannot open shared object file: No such file or directory\n",
      "2022-05-08 16:05:07.964362: W tensorflow/stream_executor/cuda/cuda_driver.cc:269] failed call to cuInit: UNKNOWN ERROR (303)\n",
      "2022-05-08 16:05:07.964377: I tensorflow/stream_executor/cuda/cuda_diagnostics.cc:156] kernel driver does not appear to be running on this host (CS424460): /proc/driver/nvidia/version does not exist\n",
      "2022-05-08 16:05:07.964594: I tensorflow/core/platform/cpu_feature_guard.cc:151] This TensorFlow binary is optimized with oneAPI Deep Neural Network Library (oneDNN) to use the following CPU instructions in performance-critical operations:  AVX2 FMA\n",
      "To enable them in other operations, rebuild TensorFlow with the appropriate compiler flags.\n"
     ]
    },
    {
     "data": {
      "text/plain": [
       "('Puma_concolor_',\n",
       " 'Acinonyx_jubatus_',\n",
       " 'Lynx_canadensis_',\n",
       " 'Felis_silvestris_',\n",
       " 'Uncia_uncia_',\n",
       " 'Panthera_pardus_',\n",
       " 'Panthera_tigris_',\n",
       " 'Neofelis_nebulosa_',\n",
       " 'Herpestes_auropunctatus_',\n",
       " 'Leptonychotes_weddellii_',\n",
       " 'Hydrurga_leptonyx_',\n",
       " 'Ommatophoca_rossii_',\n",
       " 'Lobodon_carcinophaga_',\n",
       " 'Mirounga_leonina_',\n",
       " 'Mirounga_angustirostris_',\n",
       " 'Monachus_monachus_',\n",
       " 'Monachus_schauinslandi_',\n",
       " 'Phoca_fasciata_',\n",
       " 'Phoca_groenlandica_',\n",
       " 'Phoca_caspica_',\n",
       " 'Halichoerus_grypus_',\n",
       " 'Phoca_sibirica_',\n",
       " 'Phoca_largha_',\n",
       " 'Phoca_vitulina_',\n",
       " 'Phoca_hispida_',\n",
       " 'Cystophora_cristata_',\n",
       " 'Erignathus_barbatus_',\n",
       " 'Arctocephalus_forsteri_',\n",
       " 'Arctocephalus_australis_',\n",
       " 'Arctocephalus_townsendi_',\n",
       " 'Neophoca_cinerea_',\n",
       " 'Phocarctos_hookeri_',\n",
       " 'Arctocephalus_pusillus_',\n",
       " 'Otaria_byronia_',\n",
       " 'Zalophus_californianus_',\n",
       " 'Eumetopias_jubatus_',\n",
       " 'Callorhinus_ursinus_',\n",
       " 'Odobenus_rosmarus_',\n",
       " 'Enhydra_lutris_',\n",
       " 'Lontra_canadensis_',\n",
       " 'Mustela_vison_',\n",
       " 'Martes_melampus_',\n",
       " 'Martes_americana_',\n",
       " 'Gulo_gulo_',\n",
       " 'Meles_meles_',\n",
       " 'Taxidea_taxus_',\n",
       " 'Procyon_lotor_',\n",
       " 'Mephitis_mephitis_',\n",
       " 'Spilogale_putorius_',\n",
       " 'Ailurus_fulgens_',\n",
       " 'Ursus_thibetanus_',\n",
       " 'Ursus_americanus_',\n",
       " 'Helarctos_malayanus_',\n",
       " 'Ursus_arctos_',\n",
       " 'Ursus_maritimus_',\n",
       " 'Melursus_ursinus_',\n",
       " 'Tremarctos_ornatus_',\n",
       " 'Ailuropoda_melanoleuca_',\n",
       " 'Canis_latrans_',\n",
       " 'Canis_lupus_',\n",
       " 'Alopex_lagopus_',\n",
       " 'Vulpes_vulpes_')"
      ]
     },
     "execution_count": 2,
     "metadata": {},
     "output_type": "execute_result"
    }
   ],
   "source": [
    "tree = treeflow.convert_tree_to_tensor(treeflow.parse_newick(\"demo-data/carnivores.newick\"))\n",
    "tree.taxon_set"
   ]
  },
  {
   "cell_type": "code",
   "execution_count": 3,
   "id": "17586046",
   "metadata": {},
   "outputs": [
    {
     "data": {
      "text/plain": [
       "WeightedAlignment(taxon_count=62, pattern_count=5565)"
      ]
     },
     "execution_count": 3,
     "metadata": {},
     "output_type": "execute_result"
    }
   ],
   "source": [
    "alignment = treeflow.Alignment(\"demo-data/carnivores.fasta\").get_compressed_alignment()\n",
    "alignment"
   ]
  },
  {
   "cell_type": "markdown",
   "id": "da61ff27",
   "metadata": {},
   "source": [
    "Calibrations from **Hassanin, Alexandre, et al. \"Evolutionary history of Carnivora (Mammalia, Laurasiatheria) inferred from mitochondrial genomes.\" *PloS one* 16.2 (2021): e0240770.**"
   ]
  },
  {
   "cell_type": "code",
   "execution_count": null,
   "id": "47b32e99",
   "metadata": {},
   "outputs": [],
   "source": [
    "import yaml\n",
    "with open(\"demo-data/carnivore-calibrations.yaml\") as f:\n",
    "    calibration_dict = yaml.safe_load(f)\n",
    "    \n",
    "calibration_set = treeflow.MRCACalibrationSet(calibration_dict)\n",
    "calibration_set"
   ]
  },
  {
   "cell_type": "markdown",
   "id": "82fdbeaf",
   "metadata": {},
   "source": [
    "## Model specification"
   ]
  },
  {
   "cell_type": "markdown",
   "id": "5268a2fc",
   "metadata": {},
   "source": [
    "### Single kappa parameter across tree"
   ]
  },
  {
   "cell_type": "code",
   "execution_count": 4,
   "id": "3488af68",
   "metadata": {},
   "outputs": [
    {
     "name": "stderr",
     "output_type": "stream",
     "text": [
      "/home/cswa648/dev/treeflow/treeflow/distributions/tree/birthdeath/birth_death_contemporary_sampling.py:69: UserWarning: Dummy sampling\n",
      "  warnings.warn(\"Dummy sampling\")\n",
      "/home/cswa648/dev/treeflow/treeflow/tf_util/attrs.py:7: UserWarning: Temporary hotfix\n",
      "  warnings.warn(\"Temporary hotfix\")\n"
     ]
    },
    {
     "name": "stdout",
     "output_type": "stream",
     "text": [
      "WARNING:tensorflow:@custom_gradient grad_fn has 'variables' in signature, but no ResourceVariables were used on the forward pass.\n",
      "WARNING:tensorflow:@custom_gradient grad_fn has 'variables' in signature, but no ResourceVariables were used on the forward pass.\n"
     ]
    },
    {
     "name": "stderr",
     "output_type": "stream",
     "text": [
      "/home/cswa648/dev/treeflow/treeflow/distributions/leaf_ctmc.py:62: UserWarning: Dummy sampling of alignment\n",
      "  warnings.warn(\"Dummy sampling of alignment\")\n"
     ]
    },
    {
     "data": {
      "text/plain": [
       "dict_keys(['birth_rate', 'tree', 'site_gamma_shape', 'kappa', 'frequencies'])"
      ]
     },
     "execution_count": 4,
     "metadata": {},
     "output_type": "execute_result"
    }
   ],
   "source": [
    "import tensorflow as tf\n",
    "import tensorflow_probability as tfp\n",
    "from treeflow import float_constant as c\n",
    "from treeflow.evolution.substitution import HKY, get_transition_probabilities_tree\n",
    "from treeflow.distributions import DiscretizedDistribution, DiscreteParameterMixture, LeafCTMC, SampleWeighted\n",
    "\n",
    "\n",
    "site_category_count = 4\n",
    "pattern_counts = alignment.get_weights_tensor()\n",
    "subst_model = HKY()\n",
    "\n",
    "def build_sequence_dist(tree, kappa, frequencies, site_gamma_shape):\n",
    "    unrooted_tree = tree.get_unrooted_tree()\n",
    "    site_rate_distribution = DiscretizedDistribution(\n",
    "        category_count=site_category_count,\n",
    "        distribution=tfp.distributions.Gamma(concentration=site_gamma_shape, rate=site_gamma_shape),\n",
    "    )\n",
    "    transition_probs_tree = get_transition_probabilities_tree(\n",
    "        unrooted_tree,\n",
    "        subst_model,\n",
    "        rate_categories=site_rate_distribution.support,\n",
    "        frequencies=frequencies,\n",
    "        kappa=kappa\n",
    "    )\n",
    "    return SampleWeighted(\n",
    "        DiscreteParameterMixture(\n",
    "            site_rate_distribution,\n",
    "            LeafCTMC(\n",
    "                transition_probs_tree,\n",
    "                tf.expand_dims(frequencies, -2),\n",
    "            ),\n",
    "        ),\n",
    "        sample_shape=alignment.site_count,\n",
    "        weights=pattern_counts\n",
    "    )\n",
    "    \n",
    "\n",
    "base_model = tfp.distributions.JointDistributionNamed(dict(\n",
    "    birth_rate=tfp.distributions.LogNormal(c(1.0), c(1.5)),\n",
    "    tree=lambda birth_rate: treeflow.distributions.Yule(tree.taxon_count, birth_rate, name=\"tree\"),\n",
    "    kappa=tfp.distributions.LogNormal(c(0.0), c(2.0)),\n",
    "    site_gamma_shape=tfp.distributions.LogNormal(c(0.0), c(1.0)),\n",
    "    frequencies=tfp.distributions.Dirichlet(c([2.0, 2.0, 2.0, 2.0])),\n",
    "    sequences=build_sequence_dist\n",
    "))\n",
    "base_model_pinned = base_model.experimental_pin(sequences=alignment.get_encoded_sequence_tensor(tree.taxon_set))\n",
    "prior_samples = base_model_pinned.sample_unpinned()\n",
    "prior_samples.keys()"
   ]
  },
  {
   "cell_type": "code",
   "execution_count": 8,
   "id": "2d66153f",
   "metadata": {},
   "outputs": [
    {
     "name": "stderr",
     "output_type": "stream",
     "text": [
      "/home/cswa648/dev/treeflow/treeflow/tf_util/attrs.py:7: UserWarning: Temporary hotfix\n",
      "  warnings.warn(\"Temporary hotfix\")\n"
     ]
    },
    {
     "name": "stdout",
     "output_type": "stream",
     "text": [
      "WARNING:tensorflow:@custom_gradient grad_fn has 'variables' in signature, but no ResourceVariables were used on the forward pass.\n",
      "WARNING:tensorflow:@custom_gradient grad_fn has 'variables' in signature, but no ResourceVariables were used on the forward pass.\n",
      "WARNING:tensorflow:@custom_gradient grad_fn has 'variables' in signature, but no ResourceVariables were used on the forward pass.\n",
      "WARNING:tensorflow:@custom_gradient grad_fn has 'variables' in signature, but no ResourceVariables were used on the forward pass.\n",
      "WARNING:tensorflow:@custom_gradient grad_fn has 'variables' in signature, but no ResourceVariables were used on the forward pass.\n",
      "WARNING:tensorflow:@custom_gradient grad_fn has 'variables' in signature, but no ResourceVariables were used on the forward pass.\n"
     ]
    },
    {
     "data": {
      "text/plain": [
       "[<matplotlib.lines.Line2D at 0x7ff80b5a4e50>]"
      ]
     },
     "execution_count": 8,
     "metadata": {},
     "output_type": "execute_result"
    },
    {
     "data": {
      "image/png": "[encoded data removed]",
      "text/plain": [
       "<Figure size 432x288 with 1 Axes>"
      ]
     },
     "metadata": {
      "needs_background": "light"
     },
     "output_type": "display_data"
    }
   ],
   "source": [
    "from treeflow.vi import fit_fixed_topology_variational_approximation\n",
    "import matplotlib.pyplot as plt\n",
    "\n",
    "optimizer = tf.optimizers.Adam()\n",
    "num_steps= 20000\n",
    "base_approx, base_loss = fit_fixed_topology_variational_approximation(\n",
    "    base_model_pinned,\n",
    "    topologies=dict(tree=tree.topology),\n",
    "    optimizer=optimizer,\n",
    "    num_steps=num_steps,\n",
    "    trace_fn= lambda x: x.loss\n",
    ")\n",
    "plt.plot(base_loss)"
   ]
  },
  {
   "cell_type": "code",
   "execution_count": 10,
   "id": "432ca086",
   "metadata": {},
   "outputs": [
    {
     "name": "stderr",
     "output_type": "stream",
     "text": [
      "/home/cswa648/dev/treeflow/treeflow/tf_util/attrs.py:7: UserWarning: Temporary hotfix\n",
      "  warnings.warn(\"Temporary hotfix\")\n",
      "/home/cswa648/dev/treeflow/treeflow/distributions/tree/birthdeath/birth_death_contemporary_sampling.py:69: UserWarning: Dummy sampling\n",
      "  warnings.warn(\"Dummy sampling\")\n"
     ]
    },
    {
     "data": {
      "text/plain": [
       "<matplotlib.legend.Legend at 0x7ff80a77a230>"
      ]
     },
     "execution_count": 10,
     "metadata": {},
     "output_type": "execute_result"
    },
    {
     "data": {
      "image/png": "[encoded data removed]",
      "text/plain": [
       "<Figure size 432x288 with 1 Axes>"
      ]
     },
     "metadata": {
      "needs_background": "light"
     },
     "output_type": "display_data"
    }
   ],
   "source": [
    "n_samples = 1000\n",
    "base_samples = base_approx.sample(n_samples)\n",
    "prior_samples = base_model_pinned.sample_unpinned(n_samples)\n",
    "\n",
    "plt.hist(base_samples[\"kappa\"].numpy(), label=\"Posterior\", density=True)\n",
    "plt.legend()"
   ]
  },
  {
   "cell_type": "code",
   "execution_count": 17,
   "id": "e1c1f857",
   "metadata": {},
   "outputs": [
    {
     "data": {
      "text/plain": [
       "(array([  9.,  23.,  93., 171., 241., 204., 160.,  77.,  18.,   4.]),\n",
       " array([1.16578352, 1.16972377, 1.17366402, 1.17760428, 1.18154453,\n",
       "        1.18548478, 1.18942503, 1.19336528, 1.19730553, 1.20124578,\n",
       "        1.20518603]),\n",
       " <BarContainer object of 10 artists>)"
      ]
     },
     "execution_count": 17,
     "metadata": {},
     "output_type": "execute_result"
    },
    {
     "data": {
      "image/png": "[encoded data removed]",
      "text/plain": [
       "<Figure size 432x288 with 1 Axes>"
      ]
     },
     "metadata": {
      "needs_background": "light"
     },
     "output_type": "display_data"
    }
   ],
   "source": [
    "plt.hist(base_samples[\"tree\"].node_heights[:, -1].numpy())"
   ]
  },
  {
   "cell_type": "markdown",
   "id": "11863a09",
   "metadata": {},
   "source": [
    "### Per site kappa parameter"
   ]
  },
  {
   "cell_type": "code",
   "execution_count": 5,
   "id": "5e5bdff0",
   "metadata": {},
   "outputs": [
    {
     "name": "stdout",
     "output_type": "stream",
     "text": [
      "WARNING:tensorflow:@custom_gradient grad_fn has 'variables' in signature, but no ResourceVariables were used on the forward pass.\n",
      "WARNING:tensorflow:@custom_gradient grad_fn has 'variables' in signature, but no ResourceVariables were used on the forward pass.\n"
     ]
    },
    {
     "data": {
      "text/plain": [
       "dict_keys(['birth_rate', 'tree', 'site_gamma_shape', 'kappa', 'frequencies'])"
      ]
     },
     "execution_count": 5,
     "metadata": {},
     "output_type": "execute_result"
    }
   ],
   "source": [
    "def build_sequence_dist_alt(tree, kappa, frequencies, site_gamma_shape):\n",
    "    # kappa has shape (..., n_branches)\n",
    "    unrooted_tree = tree.get_unrooted_tree()\n",
    "    site_rate_distribution = DiscretizedDistribution(\n",
    "        category_count=site_category_count,\n",
    "        distribution=tfp.distributions.Gamma(concentration=site_gamma_shape, rate=site_gamma_shape),\n",
    "    )\n",
    "    frequencies_b = tf.broadcast_to(tf.expand_dims(frequencies, -2), kappa.shape + (4,))\n",
    "    transition_probs_tree = get_transition_probabilities_tree(\n",
    "        unrooted_tree,\n",
    "        subst_model,\n",
    "        rate_categories=site_rate_distribution.support,\n",
    "        frequencies=frequencies_b,\n",
    "        kappa=kappa,\n",
    "        inner_batch_rank=1,\n",
    "        batch_rank=-1 # Don't add a batch dimension for branches\n",
    "    )\n",
    "    return SampleWeighted(\n",
    "        DiscreteParameterMixture(\n",
    "            site_rate_distribution,\n",
    "            LeafCTMC(\n",
    "                transition_probs_tree,\n",
    "                tf.expand_dims(frequencies, -2),\n",
    "            ),\n",
    "        ),\n",
    "        sample_shape=alignment.site_count,\n",
    "        weights=pattern_counts\n",
    "    )\n",
    "alt_model = tfp.distributions.JointDistributionNamed(dict(\n",
    "    birth_rate=tfp.distributions.LogNormal(c(1.0), c(1.5)),\n",
    "    tree=lambda birth_rate: treeflow.distributions.Yule(tree.taxon_count, birth_rate, name=\"tree\"),\n",
    "    kappa=tfp.distributions.Sample(tfp.distributions.LogNormal(c(0.0), c(2.0)), tree.branch_lengths.shape),\n",
    "    site_gamma_shape=tfp.distributions.LogNormal(c(0.0), c(1.0)),\n",
    "    frequencies=tfp.distributions.Dirichlet(c([2.0, 2.0, 2.0, 2.0])),\n",
    "    sequences=build_sequence_dist_alt\n",
    "))\n",
    "alt_model_pinned = alt_model.experimental_pin(sequences=alignment.get_encoded_sequence_tensor(tree.taxon_set))\n",
    "prior_samples = alt_model_pinned.sample_unpinned()\n",
    "prior_samples.keys()"
   ]
  },
  {
   "cell_type": "code",
   "execution_count": 9,
   "id": "6e5dd467",
   "metadata": {},
   "outputs": [
    {
     "name": "stderr",
     "output_type": "stream",
     "text": [
      "/home/cswa648/dev/treeflow/treeflow/tf_util/attrs.py:7: UserWarning: Temporary hotfix\n",
      "  warnings.warn(\"Temporary hotfix\")\n"
     ]
    },
    {
     "name": "stdout",
     "output_type": "stream",
     "text": [
      "WARNING:tensorflow:@custom_gradient grad_fn has 'variables' in signature, but no ResourceVariables were used on the forward pass.\n",
      "WARNING:tensorflow:@custom_gradient grad_fn has 'variables' in signature, but no ResourceVariables were used on the forward pass.\n",
      "WARNING:tensorflow:@custom_gradient grad_fn has 'variables' in signature, but no ResourceVariables were used on the forward pass.\n",
      "WARNING:tensorflow:@custom_gradient grad_fn has 'variables' in signature, but no ResourceVariables were used on the forward pass.\n",
      "WARNING:tensorflow:@custom_gradient grad_fn has 'variables' in signature, but no ResourceVariables were used on the forward pass.\n",
      "WARNING:tensorflow:@custom_gradient grad_fn has 'variables' in signature, but no ResourceVariables were used on the forward pass.\n"
     ]
    },
    {
     "data": {
      "text/plain": [
       "[<matplotlib.lines.Line2D at 0x7ff80b4c7f40>]"
      ]
     },
     "execution_count": 9,
     "metadata": {},
     "output_type": "execute_result"
    },
    {
     "data": {
      "image/png": "[encoded data removed]",
      "text/plain": [
       "<Figure size 432x288 with 1 Axes>"
      ]
     },
     "metadata": {
      "needs_background": "light"
     },
     "output_type": "display_data"
    }
   ],
   "source": [
    "alt_approx, alt_loss = fit_fixed_topology_variational_approximation(\n",
    "    alt_model_pinned,\n",
    "    topologies=dict(tree=tree.topology),\n",
    "    optimizer=optimizer,\n",
    "    num_steps=num_steps,\n",
    "    trace_fn= lambda x: x.loss\n",
    ")\n",
    "plt.plot(alt_loss)"
   ]
  },
  {
   "cell_type": "code",
   "execution_count": 18,
   "id": "a0e8e455",
   "metadata": {},
   "outputs": [
    {
     "data": {
      "image/png": "[encoded data removed]",
      "text/plain": [
       "<Figure size 432x288 with 1 Axes>"
      ]
     },
     "metadata": {
      "needs_background": "light"
     },
     "output_type": "display_data"
    }
   ],
   "source": [
    "alt_samples = alt_approx.sample(n_samples)\n",
    "plt.hist(alt_samples[\"tree\"].node_heights[:, -1].numpy(), bins=50);"
   ]
  },
  {
   "cell_type": "code",
   "execution_count": 22,
   "id": "ad6fcd2a",
   "metadata": {},
   "outputs": [
    {
     "data": {
      "text/plain": [
       "[<tf.Tensor: shape=(), dtype=float64, numpy=341175.8453315826>,\n",
       " <tf.Tensor: shape=(), dtype=float64, numpy=338656.21174349566>]"
      ]
     },
     "execution_count": 22,
     "metadata": {},
     "output_type": "execute_result"
    }
   ],
   "source": [
    "[tf.reduce_mean(x[-100:]) for x in [base_loss, alt_loss]]"
   ]
  },
  {
   "cell_type": "code",
   "execution_count": 26,
   "id": "ce6f77b9",
   "metadata": {},
   "outputs": [
    {
     "data": {
      "text/html": [
       "<div>\n",
       "<style scoped>\n",
       "    .dataframe tbody tr th:only-of-type {\n",
       "        vertical-align: middle;\n",
       "    }\n",
       "\n",
       "    .dataframe tbody tr th {\n",
       "        vertical-align: top;\n",
       "    }\n",
       "\n",
       "    .dataframe thead th {\n",
       "        text-align: right;\n",
       "    }\n",
       "</style>\n",
       "<table border=\"1\" class=\"dataframe\">\n",
       "  <thead>\n",
       "    <tr style=\"text-align: right;\">\n",
       "      <th></th>\n",
       "      <th>0</th>\n",
       "      <th>1</th>\n",
       "      <th>2</th>\n",
       "      <th>3</th>\n",
       "      <th>4</th>\n",
       "      <th>5</th>\n",
       "      <th>6</th>\n",
       "      <th>7</th>\n",
       "      <th>8</th>\n",
       "      <th>9</th>\n",
       "      <th>...</th>\n",
       "      <th>112</th>\n",
       "      <th>113</th>\n",
       "      <th>114</th>\n",
       "      <th>115</th>\n",
       "      <th>116</th>\n",
       "      <th>117</th>\n",
       "      <th>118</th>\n",
       "      <th>119</th>\n",
       "      <th>120</th>\n",
       "      <th>121</th>\n",
       "    </tr>\n",
       "  </thead>\n",
       "  <tbody>\n",
       "    <tr>\n",
       "      <th>0</th>\n",
       "      <td>78.811041</td>\n",
       "      <td>37.386057</td>\n",
       "      <td>68.721898</td>\n",
       "      <td>58.955882</td>\n",
       "      <td>29.502499</td>\n",
       "      <td>102.260189</td>\n",
       "      <td>85.529051</td>\n",
       "      <td>54.088627</td>\n",
       "      <td>11.394314</td>\n",
       "      <td>66.248865</td>\n",
       "      <td>...</td>\n",
       "      <td>89.293718</td>\n",
       "      <td>41.503416</td>\n",
       "      <td>57.765521</td>\n",
       "      <td>23.333823</td>\n",
       "      <td>6.293551</td>\n",
       "      <td>0.362415</td>\n",
       "      <td>18.876719</td>\n",
       "      <td>10.589676</td>\n",
       "      <td>5.615153</td>\n",
       "      <td>0.056232</td>\n",
       "    </tr>\n",
       "    <tr>\n",
       "      <th>1</th>\n",
       "      <td>51.763252</td>\n",
       "      <td>34.556218</td>\n",
       "      <td>90.696012</td>\n",
       "      <td>50.841984</td>\n",
       "      <td>30.488527</td>\n",
       "      <td>95.069485</td>\n",
       "      <td>84.064802</td>\n",
       "      <td>56.936612</td>\n",
       "      <td>11.150776</td>\n",
       "      <td>62.896212</td>\n",
       "      <td>...</td>\n",
       "      <td>75.482491</td>\n",
       "      <td>59.214882</td>\n",
       "      <td>57.974597</td>\n",
       "      <td>28.941629</td>\n",
       "      <td>6.702225</td>\n",
       "      <td>0.039279</td>\n",
       "      <td>17.513188</td>\n",
       "      <td>8.943786</td>\n",
       "      <td>5.468083</td>\n",
       "      <td>1.972970</td>\n",
       "    </tr>\n",
       "    <tr>\n",
       "      <th>2</th>\n",
       "      <td>69.255326</td>\n",
       "      <td>37.719161</td>\n",
       "      <td>61.838235</td>\n",
       "      <td>45.729102</td>\n",
       "      <td>31.397321</td>\n",
       "      <td>106.404460</td>\n",
       "      <td>80.943702</td>\n",
       "      <td>57.373155</td>\n",
       "      <td>11.009515</td>\n",
       "      <td>62.857296</td>\n",
       "      <td>...</td>\n",
       "      <td>89.170940</td>\n",
       "      <td>131.629398</td>\n",
       "      <td>54.480005</td>\n",
       "      <td>21.852805</td>\n",
       "      <td>7.507570</td>\n",
       "      <td>0.040216</td>\n",
       "      <td>19.375074</td>\n",
       "      <td>8.562980</td>\n",
       "      <td>5.695907</td>\n",
       "      <td>0.086434</td>\n",
       "    </tr>\n",
       "    <tr>\n",
       "      <th>3</th>\n",
       "      <td>73.573702</td>\n",
       "      <td>51.071271</td>\n",
       "      <td>66.608769</td>\n",
       "      <td>48.700592</td>\n",
       "      <td>32.013484</td>\n",
       "      <td>91.338491</td>\n",
       "      <td>99.950329</td>\n",
       "      <td>69.173420</td>\n",
       "      <td>11.837545</td>\n",
       "      <td>60.545419</td>\n",
       "      <td>...</td>\n",
       "      <td>91.440115</td>\n",
       "      <td>47.122370</td>\n",
       "      <td>54.128676</td>\n",
       "      <td>26.997150</td>\n",
       "      <td>5.877806</td>\n",
       "      <td>0.210873</td>\n",
       "      <td>17.764069</td>\n",
       "      <td>10.891308</td>\n",
       "      <td>6.592884</td>\n",
       "      <td>0.043851</td>\n",
       "    </tr>\n",
       "    <tr>\n",
       "      <th>4</th>\n",
       "      <td>60.493262</td>\n",
       "      <td>45.909051</td>\n",
       "      <td>72.109916</td>\n",
       "      <td>52.248126</td>\n",
       "      <td>24.597699</td>\n",
       "      <td>89.894737</td>\n",
       "      <td>81.149118</td>\n",
       "      <td>58.579209</td>\n",
       "      <td>11.838689</td>\n",
       "      <td>61.200926</td>\n",
       "      <td>...</td>\n",
       "      <td>65.986129</td>\n",
       "      <td>113.327565</td>\n",
       "      <td>63.983616</td>\n",
       "      <td>44.054797</td>\n",
       "      <td>6.869326</td>\n",
       "      <td>0.017832</td>\n",
       "      <td>15.957542</td>\n",
       "      <td>11.452116</td>\n",
       "      <td>5.647730</td>\n",
       "      <td>0.025072</td>\n",
       "    </tr>\n",
       "    <tr>\n",
       "      <th>...</th>\n",
       "      <td>...</td>\n",
       "      <td>...</td>\n",
       "      <td>...</td>\n",
       "      <td>...</td>\n",
       "      <td>...</td>\n",
       "      <td>...</td>\n",
       "      <td>...</td>\n",
       "      <td>...</td>\n",
       "      <td>...</td>\n",
       "      <td>...</td>\n",
       "      <td>...</td>\n",
       "      <td>...</td>\n",
       "      <td>...</td>\n",
       "      <td>...</td>\n",
       "      <td>...</td>\n",
       "      <td>...</td>\n",
       "      <td>...</td>\n",
       "      <td>...</td>\n",
       "      <td>...</td>\n",
       "      <td>...</td>\n",
       "      <td>...</td>\n",
       "    </tr>\n",
       "    <tr>\n",
       "      <th>995</th>\n",
       "      <td>70.267946</td>\n",
       "      <td>44.195573</td>\n",
       "      <td>73.729464</td>\n",
       "      <td>45.513567</td>\n",
       "      <td>21.678108</td>\n",
       "      <td>119.430769</td>\n",
       "      <td>81.666347</td>\n",
       "      <td>50.603551</td>\n",
       "      <td>12.002623</td>\n",
       "      <td>60.707137</td>\n",
       "      <td>...</td>\n",
       "      <td>76.981147</td>\n",
       "      <td>186.873177</td>\n",
       "      <td>63.004395</td>\n",
       "      <td>27.402759</td>\n",
       "      <td>6.035066</td>\n",
       "      <td>0.093624</td>\n",
       "      <td>16.491849</td>\n",
       "      <td>9.041719</td>\n",
       "      <td>5.451131</td>\n",
       "      <td>0.230982</td>\n",
       "    </tr>\n",
       "    <tr>\n",
       "      <th>996</th>\n",
       "      <td>88.087614</td>\n",
       "      <td>44.651708</td>\n",
       "      <td>80.412560</td>\n",
       "      <td>57.055892</td>\n",
       "      <td>31.792892</td>\n",
       "      <td>87.210806</td>\n",
       "      <td>78.392499</td>\n",
       "      <td>57.412184</td>\n",
       "      <td>11.736553</td>\n",
       "      <td>75.964214</td>\n",
       "      <td>...</td>\n",
       "      <td>76.128017</td>\n",
       "      <td>39.750717</td>\n",
       "      <td>52.526218</td>\n",
       "      <td>21.958476</td>\n",
       "      <td>6.111427</td>\n",
       "      <td>0.035128</td>\n",
       "      <td>18.963710</td>\n",
       "      <td>11.655643</td>\n",
       "      <td>5.753183</td>\n",
       "      <td>0.483474</td>\n",
       "    </tr>\n",
       "    <tr>\n",
       "      <th>997</th>\n",
       "      <td>57.083502</td>\n",
       "      <td>45.356179</td>\n",
       "      <td>75.147886</td>\n",
       "      <td>52.846300</td>\n",
       "      <td>25.693784</td>\n",
       "      <td>161.802517</td>\n",
       "      <td>87.403061</td>\n",
       "      <td>57.006720</td>\n",
       "      <td>11.531319</td>\n",
       "      <td>40.139017</td>\n",
       "      <td>...</td>\n",
       "      <td>94.775530</td>\n",
       "      <td>69.935422</td>\n",
       "      <td>54.113033</td>\n",
       "      <td>23.472007</td>\n",
       "      <td>6.138370</td>\n",
       "      <td>0.038085</td>\n",
       "      <td>17.340087</td>\n",
       "      <td>9.677898</td>\n",
       "      <td>5.772434</td>\n",
       "      <td>7.421441</td>\n",
       "    </tr>\n",
       "    <tr>\n",
       "      <th>998</th>\n",
       "      <td>55.980327</td>\n",
       "      <td>35.176685</td>\n",
       "      <td>64.987939</td>\n",
       "      <td>45.578181</td>\n",
       "      <td>32.705231</td>\n",
       "      <td>122.395963</td>\n",
       "      <td>93.787405</td>\n",
       "      <td>71.332101</td>\n",
       "      <td>12.266570</td>\n",
       "      <td>55.297441</td>\n",
       "      <td>...</td>\n",
       "      <td>103.302185</td>\n",
       "      <td>613.085776</td>\n",
       "      <td>60.131477</td>\n",
       "      <td>32.717925</td>\n",
       "      <td>6.609118</td>\n",
       "      <td>1.486897</td>\n",
       "      <td>17.281910</td>\n",
       "      <td>10.094495</td>\n",
       "      <td>5.774682</td>\n",
       "      <td>0.087868</td>\n",
       "    </tr>\n",
       "    <tr>\n",
       "      <th>999</th>\n",
       "      <td>62.507120</td>\n",
       "      <td>43.122747</td>\n",
       "      <td>75.606516</td>\n",
       "      <td>48.237265</td>\n",
       "      <td>31.188485</td>\n",
       "      <td>86.551824</td>\n",
       "      <td>98.909289</td>\n",
       "      <td>59.362772</td>\n",
       "      <td>12.525160</td>\n",
       "      <td>49.694035</td>\n",
       "      <td>...</td>\n",
       "      <td>60.756497</td>\n",
       "      <td>70.212706</td>\n",
       "      <td>62.310804</td>\n",
       "      <td>28.445986</td>\n",
       "      <td>6.679865</td>\n",
       "      <td>0.106546</td>\n",
       "      <td>17.601760</td>\n",
       "      <td>10.208483</td>\n",
       "      <td>5.295823</td>\n",
       "      <td>0.571498</td>\n",
       "    </tr>\n",
       "  </tbody>\n",
       "</table>\n",
       "<p>1000 rows × 122 columns</p>\n",
       "</div>"
      ],
      "text/plain": [
       "           0          1          2          3          4           5    \\\n",
       "0    78.811041  37.386057  68.721898  58.955882  29.502499  102.260189   \n",
       "1    51.763252  34.556218  90.696012  50.841984  30.488527   95.069485   \n",
       "2    69.255326  37.719161  61.838235  45.729102  31.397321  106.404460   \n",
       "3    73.573702  51.071271  66.608769  48.700592  32.013484   91.338491   \n",
       "4    60.493262  45.909051  72.109916  52.248126  24.597699   89.894737   \n",
       "..         ...        ...        ...        ...        ...         ...   \n",
       "995  70.267946  44.195573  73.729464  45.513567  21.678108  119.430769   \n",
       "996  88.087614  44.651708  80.412560  57.055892  31.792892   87.210806   \n",
       "997  57.083502  45.356179  75.147886  52.846300  25.693784  161.802517   \n",
       "998  55.980327  35.176685  64.987939  45.578181  32.705231  122.395963   \n",
       "999  62.507120  43.122747  75.606516  48.237265  31.188485   86.551824   \n",
       "\n",
       "           6          7          8          9    ...         112         113  \\\n",
       "0    85.529051  54.088627  11.394314  66.248865  ...   89.293718   41.503416   \n",
       "1    84.064802  56.936612  11.150776  62.896212  ...   75.482491   59.214882   \n",
       "2    80.943702  57.373155  11.009515  62.857296  ...   89.170940  131.629398   \n",
       "3    99.950329  69.173420  11.837545  60.545419  ...   91.440115   47.122370   \n",
       "4    81.149118  58.579209  11.838689  61.200926  ...   65.986129  113.327565   \n",
       "..         ...        ...        ...        ...  ...         ...         ...   \n",
       "995  81.666347  50.603551  12.002623  60.707137  ...   76.981147  186.873177   \n",
       "996  78.392499  57.412184  11.736553  75.964214  ...   76.128017   39.750717   \n",
       "997  87.403061  57.006720  11.531319  40.139017  ...   94.775530   69.935422   \n",
       "998  93.787405  71.332101  12.266570  55.297441  ...  103.302185  613.085776   \n",
       "999  98.909289  59.362772  12.525160  49.694035  ...   60.756497   70.212706   \n",
       "\n",
       "           114        115       116       117        118        119       120  \\\n",
       "0    57.765521  23.333823  6.293551  0.362415  18.876719  10.589676  5.615153   \n",
       "1    57.974597  28.941629  6.702225  0.039279  17.513188   8.943786  5.468083   \n",
       "2    54.480005  21.852805  7.507570  0.040216  19.375074   8.562980  5.695907   \n",
       "3    54.128676  26.997150  5.877806  0.210873  17.764069  10.891308  6.592884   \n",
       "4    63.983616  44.054797  6.869326  0.017832  15.957542  11.452116  5.647730   \n",
       "..         ...        ...       ...       ...        ...        ...       ...   \n",
       "995  63.004395  27.402759  6.035066  0.093624  16.491849   9.041719  5.451131   \n",
       "996  52.526218  21.958476  6.111427  0.035128  18.963710  11.655643  5.753183   \n",
       "997  54.113033  23.472007  6.138370  0.038085  17.340087   9.677898  5.772434   \n",
       "998  60.131477  32.717925  6.609118  1.486897  17.281910  10.094495  5.774682   \n",
       "999  62.310804  28.445986  6.679865  0.106546  17.601760  10.208483  5.295823   \n",
       "\n",
       "          121  \n",
       "0    0.056232  \n",
       "1    1.972970  \n",
       "2    0.086434  \n",
       "3    0.043851  \n",
       "4    0.025072  \n",
       "..        ...  \n",
       "995  0.230982  \n",
       "996  0.483474  \n",
       "997  7.421441  \n",
       "998  0.087868  \n",
       "999  0.571498  \n",
       "\n",
       "[1000 rows x 122 columns]"
      ]
     },
     "execution_count": 26,
     "metadata": {},
     "output_type": "execute_result"
    }
   ],
   "source": [
    "kappa_df"
   ]
  },
  {
   "cell_type": "code",
   "execution_count": 33,
   "id": "60183d1a",
   "metadata": {},
   "outputs": [
    {
     "data": {
      "image/png": "[encoded data removed]",
      "text/plain": [
       "<Figure size 432x288 with 11 Axes>"
      ]
     },
     "metadata": {
      "needs_background": "light"
     },
     "output_type": "display_data"
    }
   ],
   "source": [
    "import joypy\n",
    "import numpy as np\n",
    "import pandas as pd\n",
    "\n",
    "kappa_df = pd.DataFrame(alt_samples[\"kappa\"].numpy())\n",
    "n_columns = 10\n",
    "columns = np.random.choice(kappa_df.columns, n_columns, replace=False)\n",
    "joypy.joyplot(kappa_df[columns]);"
   ]
  },
  {
   "cell_type": "markdown",
   "id": "acb40e6b",
   "metadata": {},
   "source": [
    "## Results visualisation\n"
   ]
  },
  {
   "cell_type": "markdown",
   "id": "24735a0a",
   "metadata": {},
   "source": [
    "* Use existing tree viz tools"
   ]
  }
 ],
 "metadata": {
  "kernelspec": {
   "display_name": "Python 3 (ipykernel)",
   "language": "python",
   "name": "python3"
  },
  "language_info": {
   "codemirror_mode": {
    "name": "ipython",
    "version": 3
   },
   "file_extension": ".py",
   "mimetype": "text/x-python",
   "name": "python",
   "nbconvert_exporter": "python",
   "pygments_lexer": "ipython3",
   "version": "3.10.2"
  }
 },
 "nbformat": 4,
 "nbformat_minor": 5
}
