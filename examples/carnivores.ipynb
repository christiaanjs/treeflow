{
 "cells": [
  {
   "cell_type": "markdown",
   "id": "87704f8d",
   "metadata": {},
   "source": [
    "# Treeflow example - carnivores data"
   ]
  },
  {
   "cell_type": "markdown",
   "id": "44a36356",
   "metadata": {},
   "source": [
    "Dataset from **Suchard, Marc A., and Andrew Rambaut. \"Many-core algorithms for statistical phylogenetics.\" *Bioinformatics* 25.11 (2009): 1370-1376.**\n",
    "\n",
    "Sequences accessed from [Beast examples on Github](https://github.com/beast-dev/beast-mcmc/blob/v1.10.4/examples/Benchmarks/benchmark2.xml)."
   ]
  },
  {
   "cell_type": "code",
   "execution_count": 1,
   "id": "f3290579",
   "metadata": {},
   "outputs": [
    {
     "name": "stderr",
     "output_type": "stream",
     "text": [
      "2022-07-12 20:41:47.573908: W tensorflow/stream_executor/platform/default/dso_loader.cc:64] Could not load dynamic library 'libcudart.so.11.0'; dlerror: libcudart.so.11.0: cannot open shared object file: No such file or directory\n",
      "2022-07-12 20:41:47.573925: I tensorflow/stream_executor/cuda/cudart_stub.cc:29] Ignore above cudart dlerror if you do not have a GPU set up on your machine.\n"
     ]
    }
   ],
   "source": [
    "import treeflow"
   ]
  },
  {
   "cell_type": "markdown",
   "id": "02be5f3b",
   "metadata": {},
   "source": [
    "## Read input data"
   ]
  },
  {
   "cell_type": "code",
   "execution_count": 2,
   "id": "0910f049",
   "metadata": {},
   "outputs": [
    {
     "name": "stderr",
     "output_type": "stream",
     "text": [
      "2022-07-12 20:41:49.272080: W tensorflow/stream_executor/platform/default/dso_loader.cc:64] Could not load dynamic library 'libcuda.so.1'; dlerror: libcuda.so.1: cannot open shared object file: No such file or directory\n",
      "2022-07-12 20:41:49.272099: W tensorflow/stream_executor/cuda/cuda_driver.cc:269] failed call to cuInit: UNKNOWN ERROR (303)\n",
      "2022-07-12 20:41:49.272111: I tensorflow/stream_executor/cuda/cuda_diagnostics.cc:156] kernel driver does not appear to be running on this host (CS424460): /proc/driver/nvidia/version does not exist\n",
      "2022-07-12 20:41:49.272305: I tensorflow/core/platform/cpu_feature_guard.cc:151] This TensorFlow binary is optimized with oneAPI Deep Neural Network Library (oneDNN) to use the following CPU instructions in performance-critical operations:  AVX2 FMA\n",
      "To enable them in other operations, rebuild TensorFlow with the appropriate compiler flags.\n"
     ]
    },
    {
     "data": {
      "text/plain": [
       "<tf.Tensor: shape=(61,), dtype=float64, numpy=\n",
       "array([0.05845 , 0.07205 , 0.08652 , 0.047   , 0.06448 , 0.08533 ,\n",
       "       0.12308 , 0.30126 , 0.03246 , 0.05344 , 0.05663 , 0.01815 ,\n",
       "       0.08589 , 0.08867 , 0.10523 , 0.03805 , 0.01402 , 0.01425 ,\n",
       "       0.00839 , 0.0166  , 0.01789 , 0.05223 , 0.06599 , 0.11039 ,\n",
       "       0.15421 , 0.0116  , 0.03125 , 0.04048 , 0.04165 , 0.04424 ,\n",
       "       0.04595 , 0.03913 , 0.05364 , 0.09306 , 0.20766 , 0.25459 ,\n",
       "       0.12729 , 0.15951 , 0.02638 , 0.10512 , 0.16417 , 0.17777 ,\n",
       "       0.19941 , 0.32409 , 0.12283 , 0.35432 , 0.36806 , 0.38553 ,\n",
       "       0.04165 , 0.04812 , 0.00993 , 0.05352 , 0.06244 , 0.14523 ,\n",
       "       0.19857 , 0.385531, 0.02982 , 0.05469 , 0.16975 , 0.45712 ,\n",
       "       0.46942 ])>"
      ]
     },
     "execution_count": 2,
     "metadata": {},
     "output_type": "execute_result"
    }
   ],
   "source": [
    "tree = treeflow.convert_tree_to_tensor(treeflow.parse_newick(\"demo-data/carnivores.newick\"))\n",
    "tree.node_heights"
   ]
  },
  {
   "cell_type": "code",
   "execution_count": 3,
   "id": "048851a4",
   "metadata": {},
   "outputs": [],
   "source": [
    "# beast_tree = treeflow.convert_tree_to_tensor(treeflow.parse_newick(\"../scratch/carnivores-beast.newick\"))\n",
    "# mapping_string = \"\"\"\n",
    "# \t\t   1 Acinonyx_jubatus_,\n",
    "# \t\t   2 Ailuropoda_melanoleuca_,\n",
    "# \t\t   3 Ailurus_fulgens_,\n",
    "# \t\t   4 Alopex_lagopus_,\n",
    "# \t\t   5 Arctocephalus_australis_,\n",
    "# \t\t   6 Arctocephalus_forsteri_,\n",
    "# \t\t   7 Arctocephalus_pusillus_,\n",
    "# \t\t   8 Arctocephalus_townsendi_,\n",
    "# \t\t   9 Callorhinus_ursinus_,\n",
    "# \t\t  10 Canis_latrans_,\n",
    "# \t\t  11 Canis_lupus_,\n",
    "# \t\t  12 Cystophora_cristata_,\n",
    "# \t\t  13 Enhydra_lutris_,\n",
    "# \t\t  14 Erignathus_barbatus_,\n",
    "# \t\t  15 Eumetopias_jubatus_,\n",
    "# \t\t  16 Felis_silvestris_,\n",
    "# \t\t  17 Gulo_gulo_,\n",
    "# \t\t  18 Halichoerus_grypus_,\n",
    "# \t\t  19 Helarctos_malayanus_,\n",
    "# \t\t  20 Herpestes_auropunctatus_,\n",
    "# \t\t  21 Hydrurga_leptonyx_,\n",
    "# \t\t  22 Leptonychotes_weddellii_,\n",
    "# \t\t  23 Lobodon_carcinophaga_,\n",
    "# \t\t  24 Lontra_canadensis_,\n",
    "# \t\t  25 Lynx_canadensis_,\n",
    "# \t\t  26 Martes_americana_,\n",
    "# \t\t  27 Martes_melampus_,\n",
    "# \t\t  28 Meles_meles_,\n",
    "# \t\t  29 Melursus_ursinus_,\n",
    "# \t\t  30 Mephitis_mephitis_,\n",
    "# \t\t  31 Mirounga_angustirostris_,\n",
    "# \t\t  32 Mirounga_leonina_,\n",
    "# \t\t  33 Monachus_monachus_,\n",
    "# \t\t  34 Monachus_schauinslandi_,\n",
    "# \t\t  35 Mustela_vison_,\n",
    "# \t\t  36 Neofelis_nebulosa_,\n",
    "# \t\t  37 Neophoca_cinerea_,\n",
    "# \t\t  38 Odobenus_rosmarus_,\n",
    "# \t\t  39 Ommatophoca_rossii_,\n",
    "# \t\t  40 Otaria_byronia_,\n",
    "# \t\t  41 Panthera_pardus_,\n",
    "# \t\t  42 Panthera_tigris_,\n",
    "# \t\t  43 Phoca_caspica_,\n",
    "# \t\t  44 Phoca_fasciata_,\n",
    "# \t\t  45 Phoca_groenlandica_,\n",
    "# \t\t  46 Phoca_hispida_,\n",
    "# \t\t  47 Phoca_largha_,\n",
    "# \t\t  48 Phoca_sibirica_,\n",
    "# \t\t  49 Phoca_vitulina_,\n",
    "# \t\t  50 Phocarctos_hookeri_,\n",
    "# \t\t  51 Procyon_lotor_,\n",
    "# \t\t  52 Puma_concolor_,\n",
    "# \t\t  53 Spilogale_putorius_,\n",
    "# \t\t  54 Taxidea_taxus_,\n",
    "# \t\t  55 Tremarctos_ornatus_,\n",
    "# \t\t  56 Uncia_uncia_,\n",
    "# \t\t  57 Ursus_americanus_,\n",
    "# \t\t  58 Ursus_arctos_,\n",
    "# \t\t  59 Ursus_maritimus_,\n",
    "# \t\t  60 Ursus_thibetanus_,\n",
    "# \t\t  61 Vulpes_vulpes_,\n",
    "# \t\t  62 Zalophus_californianus_\"\"\"\n",
    "# mapping_strings = mapping_string.split()\n",
    "# i = 0\n",
    "# mapping = {}\n",
    "# while i < len(mapping_strings):\n",
    "#     key = mapping_string[i]\n",
    "#     mapping[mapping_strings[i]] = mapping_strings[i+1]\n",
    "#     i += 2\n",
    "# new_taxon_set = treeflow.TupleTaxonSet([mapping[x].strip(\",\") for x in beast_tree.taxon_set])\n",
    "# beast_tree.topology._taxon_set = new_taxon_set\n",
    "# tree = beast_tree\n",
    "# new_taxon_set"
   ]
  },
  {
   "cell_type": "code",
   "execution_count": 4,
   "id": "17586046",
   "metadata": {},
   "outputs": [
    {
     "data": {
      "text/plain": [
       "WeightedAlignment(taxon_count=62, pattern_count=5565)"
      ]
     },
     "execution_count": 4,
     "metadata": {},
     "output_type": "execute_result"
    }
   ],
   "source": [
    "alignment = treeflow.Alignment(\"demo-data/carnivores.fasta\").get_compressed_alignment()\n",
    "alignment"
   ]
  },
  {
   "cell_type": "markdown",
   "id": "82fdbeaf",
   "metadata": {},
   "source": [
    "## Model specification"
   ]
  },
  {
   "cell_type": "markdown",
   "id": "5268a2fc",
   "metadata": {},
   "source": [
    "### Single kappa parameter across tree"
   ]
  },
  {
   "cell_type": "code",
   "execution_count": 5,
   "id": "3488af68",
   "metadata": {},
   "outputs": [
    {
     "name": "stderr",
     "output_type": "stream",
     "text": [
      "/home/cswa648/dev/treeflow/treeflow/distributions/tree/birthdeath/birth_death_contemporary_sampling.py:69: UserWarning: Dummy sampling\n",
      "  warnings.warn(\"Dummy sampling\")\n",
      "/home/cswa648/dev/treeflow/treeflow/tf_util/attrs.py:7: UserWarning: Temporary hotfix\n",
      "  warnings.warn(\"Temporary hotfix\")\n"
     ]
    },
    {
     "name": "stdout",
     "output_type": "stream",
     "text": [
      "WARNING:tensorflow:@custom_gradient grad_fn has 'variables' in signature, but no ResourceVariables were used on the forward pass.\n",
      "WARNING:tensorflow:@custom_gradient grad_fn has 'variables' in signature, but no ResourceVariables were used on the forward pass.\n"
     ]
    },
    {
     "name": "stderr",
     "output_type": "stream",
     "text": [
      "/home/cswa648/dev/treeflow/treeflow/distributions/leaf_ctmc.py:62: UserWarning: Dummy sampling of alignment\n",
      "  warnings.warn(\"Dummy sampling of alignment\")\n"
     ]
    },
    {
     "data": {
      "text/plain": [
       "dict_keys(['birth_rate', 'tree', 'site_gamma_shape', 'kappa', 'frequencies'])"
      ]
     },
     "execution_count": 5,
     "metadata": {},
     "output_type": "execute_result"
    }
   ],
   "source": [
    "import tensorflow as tf\n",
    "import tensorflow_probability as tfp\n",
    "from treeflow import float_constant as c\n",
    "from treeflow.evolution.substitution import HKY, get_transition_probabilities_tree\n",
    "from tensorflow_probability.python.distributions import (\n",
    "    JointDistributionNamed,\n",
    "    Gamma,\n",
    "    LogNormal,\n",
    "    Dirichlet\n",
    ")\n",
    "from treeflow.distributions import (\n",
    "    DiscretizedDistribution,\n",
    "    DiscreteParameterMixture,\n",
    "    LeafCTMC,\n",
    "    SampleWeighted,\n",
    "    Yule\n",
    ")\n",
    "\n",
    "\n",
    "site_category_count = 4\n",
    "pattern_counts = alignment.get_weights_tensor()\n",
    "subst_model = HKY()\n",
    "\n",
    "def build_sequence_dist(tree, kappa, frequencies, site_gamma_shape):\n",
    "    unrooted_tree = tree.get_unrooted_tree()\n",
    "    site_rate_distribution = DiscretizedDistribution(\n",
    "        category_count=site_category_count,\n",
    "        distribution=Gamma(concentration=site_gamma_shape, rate=site_gamma_shape),\n",
    "    )\n",
    "    transition_probs_tree = get_transition_probabilities_tree(\n",
    "        unrooted_tree,\n",
    "        subst_model,\n",
    "        rate_categories=site_rate_distribution.normalised_support,\n",
    "        frequencies=frequencies,\n",
    "        kappa=kappa\n",
    "    )\n",
    "    return SampleWeighted(\n",
    "        DiscreteParameterMixture(\n",
    "            site_rate_distribution,\n",
    "            LeafCTMC(\n",
    "                transition_probs_tree,\n",
    "                tf.expand_dims(frequencies, -2),\n",
    "            ),\n",
    "        ),\n",
    "        sample_shape=alignment.site_count,\n",
    "        weights=pattern_counts\n",
    "    )\n",
    "    \n",
    "\n",
    "base_model = tfp.distributions.JointDistributionNamed(dict(\n",
    "    birth_rate=LogNormal(c(1.0), c(1.5)),\n",
    "    tree=lambda birth_rate: Yule(tree.taxon_count, birth_rate, name=\"tree\"),\n",
    "    kappa=LogNormal(c(0.0), c(2.0)),\n",
    "    site_gamma_shape=LogNormal(c(0.0), c(1.0)),\n",
    "    frequencies=Dirichlet(c([2.0, 2.0, 2.0, 2.0])),\n",
    "    sequences=build_sequence_dist\n",
    "))\n",
    "base_model_pinned = base_model.experimental_pin(sequences=alignment.get_encoded_sequence_tensor(tree.taxon_set))\n",
    "prior_samples = base_model_pinned.sample_unpinned()\n",
    "prior_samples.keys()"
   ]
  },
  {
   "cell_type": "code",
   "execution_count": 36,
   "id": "7af15888",
   "metadata": {},
   "outputs": [
    {
     "data": {
      "text/plain": [
       "{'concentration': <tf.Tensor: shape=(4,), dtype=float64, numpy=array([2., 2., 2., 2.])>,\n",
       " 'validate_args': False,\n",
       " 'allow_nan_stats': True,\n",
       " 'force_probs_to_zero_outside_support': False,\n",
       " 'name': 'Dirichlet'}"
      ]
     },
     "execution_count": 36,
     "metadata": {},
     "output_type": "execute_result"
    }
   ],
   "source": [
    "\n",
    "base_model.model[\"frequencies\"].parameters"
   ]
  },
  {
   "cell_type": "code",
   "execution_count": 39,
   "id": "4ee26304",
   "metadata": {},
   "outputs": [
    {
     "data": {
      "text/plain": [
       "<tfp.distributions.Dirichlet 'Dirichlet' batch_shape=[] event_shape=[4] dtype=float32>"
      ]
     },
     "execution_count": 39,
     "metadata": {},
     "output_type": "execute_result"
    }
   ],
   "source": [
    "model_dist = base_model.model[\"frequencies\"]\n",
    "freq_params = { key: model_dist.parameters[key] for key in model_dist.parameter_properties() }\n",
    "tfp.experimental.util.make_trainable(type(model_dist), initial_parameters=freq_params, batch_and_event_shape=(4,))"
   ]
  },
  {
   "cell_type": "code",
   "execution_count": 44,
   "id": "84ed9f3c",
   "metadata": {},
   "outputs": [
    {
     "data": {
      "text/plain": [
       "<tf.Tensor: shape=(61,), dtype=float64, numpy=\n",
       "array([ 1.4581019 ,  1.60528278,  0.86142085,  0.98909023,  1.12900115,\n",
       "        0.81554062, -0.36995972,  0.58305777,  0.43643896,  2.81853861,\n",
       "        0.66031748, -1.31700629,  1.49089192,  1.67793146,  0.76473638,\n",
       "        0.98706856,  4.11016085,  1.80234158,  0.0216876 ,  2.55476048,\n",
       "       -0.65206896,  1.33389121,  0.39626375,  0.92392922,  0.42935233,\n",
       "       -0.52707224,  1.10021357,  3.54380428,  2.77764349,  3.25313599,\n",
       "        1.78763307,  0.99205137,  0.30802176, -0.20820336,  1.487245  ,\n",
       "        0.66491521,  1.37388057,  3.53309117, -1.09354514,  0.57671801,\n",
       "        2.49083268,  2.10594713,  0.46961255,  1.99751367, -0.63373539,\n",
       "        3.24988917,  3.04776084, 12.86237429,  1.86212526,  2.18729894,\n",
       "       -1.47926729,  1.79175947, -0.28210119,  1.00163217,  0.06024164,\n",
       "        1.68368017, -1.54596299, -0.74377285, -0.52644382,  3.61534668,\n",
       "       -0.75625739])>"
      ]
     },
     "execution_count": 44,
     "metadata": {},
     "output_type": "execute_result"
    }
   ],
   "source": [
    "from treeflow.bijectors.fixed_topology_bijector import FixedTopologyRootedTreeBijector\n",
    "from treeflow.bijectors.node_height_ratio_bijector import NodeHeightRatioChainBijector\n",
    "\n",
    "height_shape = (tree.taxon_count - 1,)\n",
    "chain_bijector = NodeHeightRatioChainBijector(tree.topology)\n",
    "tree_bijector = FixedTopologyRootedTreeBijector(tree.topology, height_bijector=chain_bijector)\n",
    "tree_loc = tree_bijector.inverse(tree)\n",
    "tree_loc"
   ]
  },
  {
   "cell_type": "code",
   "execution_count": 70,
   "id": "f24f0fd7",
   "metadata": {},
   "outputs": [
    {
     "name": "stdout",
     "output_type": "stream",
     "text": [
      "WARNING:tensorflow:@custom_gradient grad_fn has 'variables' in signature, but no ResourceVariables were used on the forward pass.\n"
     ]
    },
    {
     "name": "stderr",
     "output_type": "stream",
     "text": [
      "/home/cswa648/dev/treeflow/treeflow/tf_util/attrs.py:7: UserWarning: Temporary hotfix\n",
      "  warnings.warn(\"Temporary hotfix\")\n"
     ]
    },
    {
     "name": "stdout",
     "output_type": "stream",
     "text": [
      "WARNING:tensorflow:@custom_gradient grad_fn has 'variables' in signature, but no ResourceVariables were used on the forward pass.\n",
      "WARNING:tensorflow:@custom_gradient grad_fn has 'variables' in signature, but no ResourceVariables were used on the forward pass.\n",
      "WARNING:tensorflow:@custom_gradient grad_fn has 'variables' in signature, but no ResourceVariables were used on the forward pass.\n",
      "WARNING:tensorflow:@custom_gradient grad_fn has 'variables' in signature, but no ResourceVariables were used on the forward pass.\n",
      "WARNING:tensorflow:@custom_gradient grad_fn has 'variables' in signature, but no ResourceVariables were used on the forward pass.\n",
      "WARNING:tensorflow:@custom_gradient grad_fn has 'variables' in signature, but no ResourceVariables were used on the forward pass.\n",
      "WARNING:tensorflow:@custom_gradient grad_fn has 'variables' in signature, but no ResourceVariables were used on the forward pass.\n",
      "WARNING:tensorflow:@custom_gradient grad_fn has 'variables' in signature, but no ResourceVariables were used on the forward pass.\n",
      "WARNING:tensorflow:@custom_gradient grad_fn has 'variables' in signature, but no ResourceVariables were used on the forward pass.\n",
      "CPU times: user 54.3 s, sys: 4.65 s, total: 58.9 s\n",
      "Wall time: 15.6 s\n"
     ]
    },
    {
     "data": {
      "text/plain": [
       "[<matplotlib.lines.Line2D at 0x7f0278780520>]"
      ]
     },
     "execution_count": 70,
     "metadata": {},
     "output_type": "execute_result"
    },
    {
     "data": {
      "image/png": "[encoded data removed]",
      "text/plain": [
       "<Figure size 432x288 with 1 Axes>"
      ]
     },
     "metadata": {
      "needs_background": "light"
     },
     "output_type": "display_data"
    }
   ],
   "source": [
    "%%time\n",
    "\n",
    "from treeflow.vi.convergence_criteria import NonfiniteConvergenceCriterion\n",
    "\n",
    "def make_trainable(model_dist):\n",
    "    params = { key: model_dist.parameters[key] for key in model_dist.parameter_properties() }\n",
    "    return tfp.experimental.util.make_trainable(\n",
    "        type(model_dist),\n",
    "        initial_parameters=params,\n",
    "        batch_and_event_shape=model_dist.event_shape,\n",
    "        parameter_dtype=model_dist.dtype\n",
    "    )\n",
    "\n",
    "\n",
    "base_tree_dist = tfp.distributions.Independent(tfp.experimental.util.make_trainable(\n",
    "    tfp.distributions.Normal, dict(loc=tree_loc, scale=tf.ones_like(tree_loc*0.1)), batch_and_event_shape=height_shape, parameter_dtype=tree_loc.dtype\n",
    "), 1)\n",
    "tree_dist=tfp.distributions.TransformedDistribution(\n",
    "    distribution=base_tree_dist,\n",
    "    bijector=FixedTopologyRootedTreeBijector(tree.topology, height_bijector=chain_bijector),\n",
    ")\n",
    "\n",
    "manual_approx = tfp.distributions.JointDistributionNamed(dict(\n",
    "    birth_rate=make_trainable(base_model.model[\"birth_rate\"]),\n",
    "    kappa=make_trainable(base_model.model[\"kappa\"]),\n",
    "    site_gamma_shape=make_trainable(base_model.model[\"site_gamma_shape\"]),\n",
    "    frequencies=make_trainable(base_model.model[\"frequencies\"]),\n",
    "    tree=tree_dist\n",
    "))\n",
    "\n",
    "optimizer = tf.optimizers.Adam(learning_rate=0.001)\n",
    "loss, params = tfp.vi.fit_surrogate_posterior(\n",
    "    base_model_pinned.unnormalized_log_prob,\n",
    "    manual_approx,\n",
    "    optimizer,\n",
    "    10000,\n",
    "    convergence_criterion=NonfiniteConvergenceCriterion(),\n",
    "    trace_fn=lambda x: (x.loss, x.parameters)\n",
    ")\n",
    "plt.plot(loss.numpy())"
   ]
  },
  {
   "cell_type": "code",
   "execution_count": 56,
   "id": "432f3a83",
   "metadata": {},
   "outputs": [
    {
     "data": {
      "text/plain": [
       "(array([ 18.,  79., 197., 271., 213., 122.,  70.,  22.,   6.,   2.]),\n",
       " array([0.50661277, 0.57566538, 0.64471799, 0.7137706 , 0.78282321,\n",
       "        0.85187582, 0.92092843, 0.98998104, 1.05903365, 1.12808626,\n",
       "        1.19713887]),\n",
       " <BarContainer object of 10 artists>)"
      ]
     },
     "execution_count": 56,
     "metadata": {},
     "output_type": "execute_result"
    },
    {
     "data": {
      "image/png": "[encoded data removed]",
      "text/plain": [
       "<Figure size 432x288 with 1 Axes>"
      ]
     },
     "metadata": {
      "needs_background": "light"
     },
     "output_type": "display_data"
    }
   ],
   "source": [
    "plt.hist(manual_approx.sample(1000)[\"tree\"].node_heights[:, -1].numpy())"
   ]
  },
  {
   "cell_type": "code",
   "execution_count": null,
   "id": "2d66153f",
   "metadata": {},
   "outputs": [
    {
     "name": "stderr",
     "output_type": "stream",
     "text": [
      "/home/cswa648/dev/treeflow/treeflow/tf_util/attrs.py:7: UserWarning: Temporary hotfix\n",
      "  warnings.warn(\"Temporary hotfix\")\n"
     ]
    },
    {
     "name": "stdout",
     "output_type": "stream",
     "text": [
      "WARNING:tensorflow:@custom_gradient grad_fn has 'variables' in signature, but no ResourceVariables were used on the forward pass.\n",
      "WARNING:tensorflow:@custom_gradient grad_fn has 'variables' in signature, but no ResourceVariables were used on the forward pass.\n",
      "WARNING:tensorflow:@custom_gradient grad_fn has 'variables' in signature, but no ResourceVariables were used on the forward pass.\n",
      "WARNING:tensorflow:@custom_gradient grad_fn has 'variables' in signature, but no ResourceVariables were used on the forward pass.\n",
      "WARNING:tensorflow:@custom_gradient grad_fn has 'variables' in signature, but no ResourceVariables were used on the forward pass.\n",
      "WARNING:tensorflow:@custom_gradient grad_fn has 'variables' in signature, but no ResourceVariables were used on the forward pass.\n"
     ]
    }
   ],
   "source": [
    "%%time\n",
    "from treeflow.vi import fit_fixed_topology_variational_approximation\n",
    "import matplotlib.pyplot as plt\n",
    "\n",
    "optimizer = tf.optimizers.Adam(learning_rate=0.01)\n",
    "num_steps = 2000\n",
    "base_approx, (base_loss, base_vars) = fit_fixed_topology_variational_approximation(\n",
    "    base_model_pinned,\n",
    "    topologies=dict(tree=tree.topology),\n",
    "    optimizer=optimizer,\n",
    "    num_steps=num_steps,\n",
    "    trace_fn= lambda x: (x.loss, x.parameters),\n",
    "    init_loc=dict(tree=tree)\n",
    ")\n",
    "plt.plot(base_loss)"
   ]
  },
  {
   "cell_type": "code",
   "execution_count": 16,
   "id": "88366c48",
   "metadata": {},
   "outputs": [
    {
     "data": {
      "text/plain": [
       "<matplotlib.legend.Legend at 0x7f0271e2fb20>"
      ]
     },
     "execution_count": 16,
     "metadata": {},
     "output_type": "execute_result"
    },
    {
     "data": {
      "image/png": "[encoded data removed]",
      "text/plain": [
       "<Figure size 432x288 with 1 Axes>"
      ]
     },
     "metadata": {
      "needs_background": "light"
     },
     "output_type": "display_data"
    }
   ],
   "source": [
    "for i, var in enumerate(base_vars[2:4]):\n",
    "    plt.plot(var[:, -1].numpy(), label=str(i))\n",
    "plt.legend()"
   ]
  },
  {
   "cell_type": "code",
   "execution_count": 17,
   "id": "432ca086",
   "metadata": {},
   "outputs": [
    {
     "name": "stderr",
     "output_type": "stream",
     "text": [
      "/home/cswa648/dev/treeflow/treeflow/tf_util/attrs.py:7: UserWarning: Temporary hotfix\n",
      "  warnings.warn(\"Temporary hotfix\")\n",
      "/home/cswa648/dev/treeflow/treeflow/distributions/tree/birthdeath/birth_death_contemporary_sampling.py:69: UserWarning: Dummy sampling\n",
      "  warnings.warn(\"Dummy sampling\")\n"
     ]
    },
    {
     "data": {
      "text/plain": [
       "<matplotlib.legend.Legend at 0x7f02722d2f80>"
      ]
     },
     "execution_count": 17,
     "metadata": {},
     "output_type": "execute_result"
    },
    {
     "data": {
      "image/png": "[encoded data removed]",
      "text/plain": [
       "<Figure size 432x288 with 1 Axes>"
      ]
     },
     "metadata": {
      "needs_background": "light"
     },
     "output_type": "display_data"
    }
   ],
   "source": [
    "n_samples = 1000\n",
    "base_samples = base_approx.sample(n_samples)\n",
    "prior_samples = base_model_pinned.sample_unpinned(n_samples)\n",
    "\n",
    "plt.hist(base_samples[\"kappa\"].numpy(), label=\"Posterior\", density=True)\n",
    "plt.legend()"
   ]
  },
  {
   "cell_type": "code",
   "execution_count": 18,
   "id": "e1c1f857",
   "metadata": {},
   "outputs": [
    {
     "data": {
      "text/plain": [
       "(array([ 15.,  68., 199., 298., 268., 107.,  36.,   8.,   0.,   1.]),\n",
       " array([0.8349281 , 0.88251828, 0.93010846, 0.97769864, 1.02528881,\n",
       "        1.07287899, 1.12046917, 1.16805935, 1.21564953, 1.26323971,\n",
       "        1.31082988]),\n",
       " <BarContainer object of 10 artists>)"
      ]
     },
     "execution_count": 18,
     "metadata": {},
     "output_type": "execute_result"
    },
    {
     "data": {
      "image/png": "[encoded data removed]",
      "text/plain": [
       "<Figure size 432x288 with 1 Axes>"
      ]
     },
     "metadata": {
      "needs_background": "light"
     },
     "output_type": "display_data"
    }
   ],
   "source": [
    "plt.hist(base_samples[\"tree\"].node_heights[:, -1].numpy())"
   ]
  },
  {
   "cell_type": "code",
   "execution_count": 21,
   "id": "99dc0711",
   "metadata": {},
   "outputs": [],
   "source": [
    "from treeflow.tree.io import write_tensor_trees\n",
    "from treeflow.model.io import write_samples_to_file\n",
    "\n",
    "base_out_samples = dict(base_samples)\n",
    "base_tree_samples = base_out_samples.pop(\"tree\")\n",
    "# write_tensor_trees(\n",
    "#     \"demo-data/carnivores.newick\", base_tree_samples.branch_lengths, \"demo-out/carnivores-base-trees.nexus\"\n",
    "# )\n",
    "write_samples_to_file(\n",
    "    base_samples,\n",
    "    base_model_pinned,\n",
    "    \"demo-out/carnivores-base-samples.csv\",\n",
    "    vars=base_out_samples.keys(), tree_vars=dict(tree=base_tree_samples)\n",
    ")"
   ]
  },
  {
   "cell_type": "markdown",
   "id": "11863a09",
   "metadata": {},
   "source": [
    "### Per site kappa parameter"
   ]
  },
  {
   "cell_type": "code",
   "execution_count": null,
   "id": "5e5bdff0",
   "metadata": {},
   "outputs": [],
   "source": [
    "def build_sequence_dist_alt(tree, kappa, frequencies, site_gamma_shape):\n",
    "    # kappa has shape (..., n_branches)\n",
    "    unrooted_tree = tree.get_unrooted_tree()\n",
    "    site_rate_distribution = DiscretizedDistribution(\n",
    "        category_count=site_category_count,\n",
    "        distribution=tfp.distributions.Gamma(concentration=site_gamma_shape, rate=site_gamma_shape),\n",
    "    )\n",
    "    frequencies_b = tf.broadcast_to(tf.expand_dims(frequencies, -2), kappa.shape + (4,))\n",
    "    transition_probs_tree = get_transition_probabilities_tree(\n",
    "        unrooted_tree,\n",
    "        subst_model,\n",
    "        rate_categories=site_rate_distribution.normalised_support,\n",
    "        frequencies=frequencies_b,\n",
    "        kappa=kappa,\n",
    "        inner_batch_rank=1,\n",
    "        batch_rank=-1 # Don't add a batch dimension for branches\n",
    "    )\n",
    "    return SampleWeighted(\n",
    "        DiscreteParameterMixture(\n",
    "            site_rate_distribution,\n",
    "            LeafCTMC(\n",
    "                transition_probs_tree,\n",
    "                tf.expand_dims(frequencies, -2),\n",
    "            ),\n",
    "        ),\n",
    "        sample_shape=alignment.site_count,\n",
    "        weights=pattern_counts\n",
    "    )\n",
    "alt_model = tfp.distributions.JointDistributionNamed(dict(\n",
    "    birth_rate=tfp.distributions.LogNormal(c(1.0), c(1.5)),\n",
    "    tree=lambda birth_rate: treeflow.distributions.Yule(tree.taxon_count, birth_rate, name=\"tree\"),\n",
    "    kappa=tfp.distributions.Sample(tfp.distributions.LogNormal(c(0.0), c(2.0)), tree.branch_lengths.shape),\n",
    "    site_gamma_shape=tfp.distributions.LogNormal(c(0.0), c(1.0)),\n",
    "    frequencies=tfp.distributions.Dirichlet(c([2.0, 2.0, 2.0, 2.0])),\n",
    "    sequences=build_sequence_dist_alt\n",
    "))\n",
    "alt_model_pinned = alt_model.experimental_pin(sequences=alignment.get_encoded_sequence_tensor(tree.taxon_set))\n",
    "prior_samples = alt_model_pinned.sample_unpinned()\n",
    "prior_samples.keys()"
   ]
  },
  {
   "cell_type": "code",
   "execution_count": null,
   "id": "6e5dd467",
   "metadata": {},
   "outputs": [],
   "source": [
    "%%time\n",
    "alt_approx, alt_loss = fit_fixed_topology_variational_approximation(\n",
    "    alt_model_pinned,\n",
    "    topologies=dict(tree=tree.topology),\n",
    "    optimizer=optimizer,\n",
    "    num_steps=num_steps,\n",
    "    trace_fn= lambda x: x.loss\n",
    ")\n",
    "plt.plot(alt_loss)"
   ]
  },
  {
   "cell_type": "code",
   "execution_count": null,
   "id": "a0e8e455",
   "metadata": {},
   "outputs": [],
   "source": [
    "alt_samples = alt_approx.sample(n_samples)\n",
    "plt.hist(alt_samples[\"tree\"].node_heights[:, -1].numpy(), bins=50);"
   ]
  },
  {
   "cell_type": "code",
   "execution_count": null,
   "id": "45f2e3f9",
   "metadata": {},
   "outputs": [],
   "source": [
    "alt_out_samples = dict(alt_samples)\n",
    "alt_tree_samples = alt_out_samples.pop(\"tree\")\n",
    "write_tensor_trees(\n",
    "    \"demo-data/carnivores.newick\",\n",
    "    alt_tree_samples.branch_lengths,\n",
    "    \"demo-out/carnivores-alt-trees.nexus\",\n",
    "    branch_metadata=dict(kappa=alt_out_samples[\"kappa\"])\n",
    ")\n",
    "write_samples_to_file(\n",
    "    alt_samples, alt_model_pinned, \"demo-out/carnivores-alt-samples.csv\", vars=alt_out_samples.keys()\n",
    ")"
   ]
  },
  {
   "cell_type": "code",
   "execution_count": null,
   "id": "ad6fcd2a",
   "metadata": {},
   "outputs": [],
   "source": [
    "[tf.reduce_mean(x[-100:]) for x in [base_loss, alt_loss]]"
   ]
  },
  {
   "cell_type": "code",
   "execution_count": null,
   "id": "a87e34c1",
   "metadata": {},
   "outputs": [],
   "source": [
    "from treeflow.vi import estimate_log_ml_importance_sampling\n",
    "\n",
    "ml_n_samples = 100\n",
    "base_ml_result = estimate_log_ml_importance_sampling(base_model_pinned, base_approx, vectorize_log_prob=False, n_samples=ml_n_samples)\n",
    "alt_ml_result = estimate_log_ml_importance_sampling(alt_model_pinned, alt_approx, vectorize_log_prob=False, n_samples=ml_n_samples)\n",
    "\n",
    "dict(\n",
    "    base=base_ml_result.numpy(),\n",
    "    lineage_variation=alt_ml_result.numpy()\n",
    ")"
   ]
  },
  {
   "cell_type": "code",
   "execution_count": null,
   "id": "60183d1a",
   "metadata": {},
   "outputs": [],
   "source": [
    "import joypy\n",
    "import numpy as np\n",
    "import pandas as pd\n",
    "\n",
    "kappa_df = pd.DataFrame(alt_samples[\"kappa\"].numpy())\n",
    "n_columns = 20\n",
    "columns = np.random.choice(kappa_df.columns, n_columns, replace=False)\n",
    "joypy.joyplot(kappa_df[columns]);"
   ]
  },
  {
   "cell_type": "markdown",
   "id": "acb40e6b",
   "metadata": {},
   "source": [
    "## Results visualisation\n"
   ]
  },
  {
   "cell_type": "markdown",
   "id": "24735a0a",
   "metadata": {},
   "source": [
    "* Use existing tree viz tools"
   ]
  }
 ],
 "metadata": {
  "kernelspec": {
   "display_name": "Python 3 (ipykernel)",
   "language": "python",
   "name": "python3"
  },
  "language_info": {
   "codemirror_mode": {
    "name": "ipython",
    "version": 3
   },
   "file_extension": ".py",
   "mimetype": "text/x-python",
   "name": "python",
   "nbconvert_exporter": "python",
   "pygments_lexer": "ipython3",
   "version": "3.10.2"
  }
 },
 "nbformat": 4,
 "nbformat_minor": 5
}
