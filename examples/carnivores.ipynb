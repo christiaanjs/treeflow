{
 "cells": [
  {
   "cell_type": "markdown",
   "id": "87704f8d",
   "metadata": {},
   "source": [
    "# Treeflow example - carnivores data"
   ]
  },
  {
   "cell_type": "markdown",
   "id": "44a36356",
   "metadata": {},
   "source": [
    "Dataset from **Suchard, Marc A., and Andrew Rambaut. \"Many-core algorithms for statistical phylogenetics.\" *Bioinformatics* 25.11 (2009): 1370-1376.**\n",
    "\n",
    "Sequences accessed from [Beast examples on Github](https://github.com/beast-dev/beast-mcmc/blob/v1.10.4/examples/Benchmarks/benchmark2.xml)."
   ]
  },
  {
   "cell_type": "code",
   "execution_count": 1,
   "id": "f3290579",
   "metadata": {},
   "outputs": [
    {
     "name": "stderr",
     "output_type": "stream",
     "text": [
      "2022-05-31 23:12:30.895170: W tensorflow/stream_executor/platform/default/dso_loader.cc:64] Could not load dynamic library 'libcudart.so.11.0'; dlerror: libcudart.so.11.0: cannot open shared object file: No such file or directory\n",
      "2022-05-31 23:12:30.895186: I tensorflow/stream_executor/cuda/cudart_stub.cc:29] Ignore above cudart dlerror if you do not have a GPU set up on your machine.\n"
     ]
    }
   ],
   "source": [
    "import treeflow"
   ]
  },
  {
   "cell_type": "markdown",
   "id": "02be5f3b",
   "metadata": {},
   "source": [
    "## Read input data"
   ]
  },
  {
   "cell_type": "code",
   "execution_count": 2,
   "id": "0910f049",
   "metadata": {},
   "outputs": [
    {
     "name": "stderr",
     "output_type": "stream",
     "text": [
      "2022-05-31 23:12:32.839305: W tensorflow/stream_executor/platform/default/dso_loader.cc:64] Could not load dynamic library 'libcuda.so.1'; dlerror: libcuda.so.1: cannot open shared object file: No such file or directory\n",
      "2022-05-31 23:12:32.839538: W tensorflow/stream_executor/cuda/cuda_driver.cc:269] failed call to cuInit: UNKNOWN ERROR (303)\n",
      "2022-05-31 23:12:32.839555: I tensorflow/stream_executor/cuda/cuda_diagnostics.cc:156] kernel driver does not appear to be running on this host (CS424460): /proc/driver/nvidia/version does not exist\n",
      "2022-05-31 23:12:32.840498: I tensorflow/core/platform/cpu_feature_guard.cc:151] This TensorFlow binary is optimized with oneAPI Deep Neural Network Library (oneDNN) to use the following CPU instructions in performance-critical operations:  AVX2 FMA\n",
      "To enable them in other operations, rebuild TensorFlow with the appropriate compiler flags.\n"
     ]
    },
    {
     "data": {
      "text/plain": [
       "('Puma_concolor_',\n",
       " 'Acinonyx_jubatus_',\n",
       " 'Lynx_canadensis_',\n",
       " 'Felis_silvestris_',\n",
       " 'Uncia_uncia_',\n",
       " 'Panthera_pardus_',\n",
       " 'Panthera_tigris_',\n",
       " 'Neofelis_nebulosa_',\n",
       " 'Herpestes_auropunctatus_',\n",
       " 'Leptonychotes_weddellii_',\n",
       " 'Hydrurga_leptonyx_',\n",
       " 'Ommatophoca_rossii_',\n",
       " 'Lobodon_carcinophaga_',\n",
       " 'Mirounga_leonina_',\n",
       " 'Mirounga_angustirostris_',\n",
       " 'Monachus_monachus_',\n",
       " 'Monachus_schauinslandi_',\n",
       " 'Phoca_fasciata_',\n",
       " 'Phoca_groenlandica_',\n",
       " 'Phoca_caspica_',\n",
       " 'Halichoerus_grypus_',\n",
       " 'Phoca_sibirica_',\n",
       " 'Phoca_largha_',\n",
       " 'Phoca_vitulina_',\n",
       " 'Phoca_hispida_',\n",
       " 'Cystophora_cristata_',\n",
       " 'Erignathus_barbatus_',\n",
       " 'Arctocephalus_forsteri_',\n",
       " 'Arctocephalus_australis_',\n",
       " 'Arctocephalus_townsendi_',\n",
       " 'Neophoca_cinerea_',\n",
       " 'Phocarctos_hookeri_',\n",
       " 'Arctocephalus_pusillus_',\n",
       " 'Otaria_byronia_',\n",
       " 'Zalophus_californianus_',\n",
       " 'Eumetopias_jubatus_',\n",
       " 'Callorhinus_ursinus_',\n",
       " 'Odobenus_rosmarus_',\n",
       " 'Enhydra_lutris_',\n",
       " 'Lontra_canadensis_',\n",
       " 'Mustela_vison_',\n",
       " 'Martes_melampus_',\n",
       " 'Martes_americana_',\n",
       " 'Gulo_gulo_',\n",
       " 'Meles_meles_',\n",
       " 'Taxidea_taxus_',\n",
       " 'Procyon_lotor_',\n",
       " 'Mephitis_mephitis_',\n",
       " 'Spilogale_putorius_',\n",
       " 'Ailurus_fulgens_',\n",
       " 'Ursus_thibetanus_',\n",
       " 'Ursus_americanus_',\n",
       " 'Helarctos_malayanus_',\n",
       " 'Ursus_arctos_',\n",
       " 'Ursus_maritimus_',\n",
       " 'Melursus_ursinus_',\n",
       " 'Tremarctos_ornatus_',\n",
       " 'Ailuropoda_melanoleuca_',\n",
       " 'Canis_latrans_',\n",
       " 'Canis_lupus_',\n",
       " 'Alopex_lagopus_',\n",
       " 'Vulpes_vulpes_')"
      ]
     },
     "execution_count": 2,
     "metadata": {},
     "output_type": "execute_result"
    }
   ],
   "source": [
    "tree = treeflow.convert_tree_to_tensor(treeflow.parse_newick(\"demo-data/carnivores.newick\"))\n",
    "tree.taxon_set"
   ]
  },
  {
   "cell_type": "code",
   "execution_count": 3,
   "id": "17586046",
   "metadata": {},
   "outputs": [
    {
     "data": {
      "text/plain": [
       "WeightedAlignment(taxon_count=62, pattern_count=5565)"
      ]
     },
     "execution_count": 3,
     "metadata": {},
     "output_type": "execute_result"
    }
   ],
   "source": [
    "alignment = treeflow.Alignment(\"demo-data/carnivores.fasta\").get_compressed_alignment()\n",
    "alignment"
   ]
  },
  {
   "cell_type": "markdown",
   "id": "da61ff27",
   "metadata": {},
   "source": [
    "Calibrations from **Hassanin, Alexandre, et al. \"Evolutionary history of Carnivora (Mammalia, Laurasiatheria) inferred from mitochondrial genomes.\" *PloS one* 16.2 (2021): e0240770.**"
   ]
  },
  {
   "cell_type": "code",
   "execution_count": 4,
   "id": "47b32e99",
   "metadata": {},
   "outputs": [
    {
     "data": {
      "text/plain": [
       "MRCACalibrationSet(MRCACalibration(name='Guloninae, Mustilinae', range=(12.2, 27.6)), MRCACalibration(name='Felidae', range=(14, 20)), MRCACalibration(name='Pinnipedia', range=(19, 34)))"
      ]
     },
     "execution_count": 4,
     "metadata": {},
     "output_type": "execute_result"
    }
   ],
   "source": [
    "import yaml\n",
    "with open(\"demo-data/carnivore-calibrations.yaml\") as f:\n",
    "    calibration_dict = yaml.safe_load(f)\n",
    "    \n",
    "calibration_set = treeflow.MRCACalibrationSet(calibration_dict)\n",
    "calibration_set"
   ]
  },
  {
   "cell_type": "markdown",
   "id": "82fdbeaf",
   "metadata": {},
   "source": [
    "## Model specification"
   ]
  },
  {
   "cell_type": "markdown",
   "id": "5268a2fc",
   "metadata": {},
   "source": [
    "### Single kappa parameter across tree"
   ]
  },
  {
   "cell_type": "code",
   "execution_count": 5,
   "id": "3488af68",
   "metadata": {},
   "outputs": [
    {
     "name": "stderr",
     "output_type": "stream",
     "text": [
      "/home/cswa648/dev/treeflow/treeflow/distributions/tree/birthdeath/birth_death_contemporary_sampling.py:69: UserWarning: Dummy sampling\n",
      "  warnings.warn(\"Dummy sampling\")\n",
      "/home/cswa648/dev/treeflow/treeflow/tf_util/attrs.py:7: UserWarning: Temporary hotfix\n",
      "  warnings.warn(\"Temporary hotfix\")\n"
     ]
    },
    {
     "name": "stdout",
     "output_type": "stream",
     "text": [
      "WARNING:tensorflow:@custom_gradient grad_fn has 'variables' in signature, but no ResourceVariables were used on the forward pass.\n",
      "WARNING:tensorflow:@custom_gradient grad_fn has 'variables' in signature, but no ResourceVariables were used on the forward pass.\n"
     ]
    },
    {
     "name": "stderr",
     "output_type": "stream",
     "text": [
      "/home/cswa648/dev/treeflow/treeflow/distributions/leaf_ctmc.py:62: UserWarning: Dummy sampling of alignment\n",
      "  warnings.warn(\"Dummy sampling of alignment\")\n"
     ]
    },
    {
     "data": {
      "text/plain": [
       "dict_keys(['birth_rate', 'tree', 'site_gamma_shape', 'kappa', 'frequencies'])"
      ]
     },
     "execution_count": 5,
     "metadata": {},
     "output_type": "execute_result"
    }
   ],
   "source": [
    "import tensorflow as tf\n",
    "import tensorflow_probability as tfp\n",
    "from treeflow import float_constant as c\n",
    "from treeflow.evolution.substitution import HKY, get_transition_probabilities_tree\n",
    "from treeflow.distributions import DiscretizedDistribution, DiscreteParameterMixture, LeafCTMC, SampleWeighted\n",
    "\n",
    "\n",
    "site_category_count = 4\n",
    "pattern_counts = alignment.get_weights_tensor()\n",
    "subst_model = HKY()\n",
    "\n",
    "def build_sequence_dist(tree, kappa, frequencies, site_gamma_shape):\n",
    "    unrooted_tree = tree.get_unrooted_tree()\n",
    "    site_rate_distribution = DiscretizedDistribution(\n",
    "        category_count=site_category_count,\n",
    "        distribution=tfp.distributions.Gamma(concentration=site_gamma_shape, rate=site_gamma_shape),\n",
    "    )\n",
    "    transition_probs_tree = get_transition_probabilities_tree(\n",
    "        unrooted_tree,\n",
    "        subst_model,\n",
    "        rate_categories=site_rate_distribution.support,\n",
    "        frequencies=frequencies,\n",
    "        kappa=kappa\n",
    "    )\n",
    "    return SampleWeighted(\n",
    "        DiscreteParameterMixture(\n",
    "            site_rate_distribution,\n",
    "            LeafCTMC(\n",
    "                transition_probs_tree,\n",
    "                tf.expand_dims(frequencies, -2),\n",
    "            ),\n",
    "        ),\n",
    "        sample_shape=alignment.site_count,\n",
    "        weights=pattern_counts\n",
    "    )\n",
    "    \n",
    "\n",
    "base_model = tfp.distributions.JointDistributionNamed(dict(\n",
    "    birth_rate=tfp.distributions.LogNormal(c(1.0), c(1.5)),\n",
    "    tree=lambda birth_rate: treeflow.distributions.Yule(tree.taxon_count, birth_rate, name=\"tree\"),\n",
    "    kappa=tfp.distributions.LogNormal(c(0.0), c(2.0)),\n",
    "    site_gamma_shape=tfp.distributions.LogNormal(c(0.0), c(1.0)),\n",
    "    frequencies=tfp.distributions.Dirichlet(c([2.0, 2.0, 2.0, 2.0])),\n",
    "    sequences=build_sequence_dist\n",
    "))\n",
    "base_model_pinned = base_model.experimental_pin(sequences=alignment.get_encoded_sequence_tensor(tree.taxon_set))\n",
    "prior_samples = base_model_pinned.sample_unpinned()\n",
    "prior_samples.keys()"
   ]
  },
  {
   "cell_type": "code",
   "execution_count": 6,
   "id": "2d66153f",
   "metadata": {},
   "outputs": [
    {
     "name": "stdout",
     "output_type": "stream",
     "text": [
      "WARNING:tensorflow:From /home/cswa648/miniconda3/envs/bito/lib/python3.10/site-packages/tensorflow/python/ops/linalg/linear_operator_block_diag.py:234: LinearOperator.graph_parents (from tensorflow.python.ops.linalg.linear_operator) is deprecated and will be removed in a future version.\n",
      "Instructions for updating:\n",
      "Do not call `graph_parents`.\n"
     ]
    },
    {
     "name": "stderr",
     "output_type": "stream",
     "text": [
      "/home/cswa648/dev/treeflow/treeflow/tf_util/attrs.py:7: UserWarning: Temporary hotfix\n",
      "  warnings.warn(\"Temporary hotfix\")\n"
     ]
    },
    {
     "name": "stdout",
     "output_type": "stream",
     "text": [
      "WARNING:tensorflow:@custom_gradient grad_fn has 'variables' in signature, but no ResourceVariables were used on the forward pass.\n",
      "WARNING:tensorflow:@custom_gradient grad_fn has 'variables' in signature, but no ResourceVariables were used on the forward pass.\n",
      "WARNING:tensorflow:@custom_gradient grad_fn has 'variables' in signature, but no ResourceVariables were used on the forward pass.\n",
      "WARNING:tensorflow:@custom_gradient grad_fn has 'variables' in signature, but no ResourceVariables were used on the forward pass.\n",
      "WARNING:tensorflow:@custom_gradient grad_fn has 'variables' in signature, but no ResourceVariables were used on the forward pass.\n",
      "WARNING:tensorflow:@custom_gradient grad_fn has 'variables' in signature, but no ResourceVariables were used on the forward pass.\n"
     ]
    },
    {
     "data": {
      "text/plain": [
       "[<matplotlib.lines.Line2D at 0x7f5f1151b250>]"
      ]
     },
     "execution_count": 6,
     "metadata": {},
     "output_type": "execute_result"
    },
    {
     "data": {
      "image/png": "[encoded data removed]",
      "text/plain": [
       "<Figure size 432x288 with 1 Axes>"
      ]
     },
     "metadata": {
      "needs_background": "light"
     },
     "output_type": "display_data"
    }
   ],
   "source": [
    "from treeflow.vi import fit_fixed_topology_variational_approximation\n",
    "import matplotlib.pyplot as plt\n",
    "\n",
    "optimizer = tf.optimizers.Adam()\n",
    "num_steps= 20000\n",
    "base_approx, base_loss = fit_fixed_topology_variational_approximation(\n",
    "    base_model_pinned,\n",
    "    topologies=dict(tree=tree.topology),\n",
    "    optimizer=optimizer,\n",
    "    num_steps=num_steps,\n",
    "    trace_fn= lambda x: x.loss\n",
    ")\n",
    "plt.plot(base_loss)"
   ]
  },
  {
   "cell_type": "code",
   "execution_count": 7,
   "id": "432ca086",
   "metadata": {},
   "outputs": [
    {
     "name": "stderr",
     "output_type": "stream",
     "text": [
      "/home/cswa648/dev/treeflow/treeflow/tf_util/attrs.py:7: UserWarning: Temporary hotfix\n",
      "  warnings.warn(\"Temporary hotfix\")\n",
      "/home/cswa648/dev/treeflow/treeflow/distributions/tree/birthdeath/birth_death_contemporary_sampling.py:69: UserWarning: Dummy sampling\n",
      "  warnings.warn(\"Dummy sampling\")\n"
     ]
    },
    {
     "data": {
      "text/plain": [
       "<matplotlib.legend.Legend at 0x7f5f6100bf40>"
      ]
     },
     "execution_count": 7,
     "metadata": {},
     "output_type": "execute_result"
    },
    {
     "data": {
      "image/png": "[encoded data removed]",
      "text/plain": [
       "<Figure size 432x288 with 1 Axes>"
      ]
     },
     "metadata": {
      "needs_background": "light"
     },
     "output_type": "display_data"
    }
   ],
   "source": [
    "n_samples = 1000\n",
    "base_samples = base_approx.sample(n_samples)\n",
    "prior_samples = base_model_pinned.sample_unpinned(n_samples)\n",
    "\n",
    "plt.hist(base_samples[\"kappa\"].numpy(), label=\"Posterior\", density=True)\n",
    "plt.legend()"
   ]
  },
  {
   "cell_type": "code",
   "execution_count": 8,
   "id": "e1c1f857",
   "metadata": {},
   "outputs": [
    {
     "data": {
      "text/plain": [
       "(array([  8.,  40., 114., 191., 244., 230., 114.,  44.,  12.,   3.]),\n",
       " array([1.16489095, 1.16955259, 1.17421422, 1.17887585, 1.18353749,\n",
       "        1.18819912, 1.19286075, 1.19752239, 1.20218402, 1.20684565,\n",
       "        1.21150729]),\n",
       " <BarContainer object of 10 artists>)"
      ]
     },
     "execution_count": 8,
     "metadata": {},
     "output_type": "execute_result"
    },
    {
     "data": {
      "image/png": "[encoded data removed]",
      "text/plain": [
       "<Figure size 432x288 with 1 Axes>"
      ]
     },
     "metadata": {
      "needs_background": "light"
     },
     "output_type": "display_data"
    }
   ],
   "source": [
    "plt.hist(base_samples[\"tree\"].node_heights[:, -1].numpy())"
   ]
  },
  {
   "cell_type": "code",
   "execution_count": 21,
   "id": "56ac53e8",
   "metadata": {},
   "outputs": [],
   "source": [
    "from treeflow.tree.io import write_tensor_trees\n",
    "from treeflow.model.io import write_samples_to_file\n",
    "\n",
    "base_out_samples = dict(base_samples)\n",
    "base_tree_samples = base_out_samples.pop(\"tree\")\n",
    "write_tensor_trees(\n",
    "    \"demo-data/carnivores.newick\", base_tree_samples.branch_lengths, \"demo-out/carnivores-base-trees.nexus\"\n",
    ")\n",
    "write_samples_to_file(\n",
    "    base_samples, base_model_pinned, \"demo-out/carnivores-base-samples.csv\", vars=base_out_samples.keys()\n",
    ")"
   ]
  },
  {
   "cell_type": "markdown",
   "id": "11863a09",
   "metadata": {},
   "source": [
    "### Per site kappa parameter"
   ]
  },
  {
   "cell_type": "code",
   "execution_count": 9,
   "id": "5e5bdff0",
   "metadata": {},
   "outputs": [
    {
     "name": "stdout",
     "output_type": "stream",
     "text": [
      "WARNING:tensorflow:@custom_gradient grad_fn has 'variables' in signature, but no ResourceVariables were used on the forward pass.\n",
      "WARNING:tensorflow:@custom_gradient grad_fn has 'variables' in signature, but no ResourceVariables were used on the forward pass.\n"
     ]
    },
    {
     "name": "stderr",
     "output_type": "stream",
     "text": [
      "/home/cswa648/dev/treeflow/treeflow/distributions/leaf_ctmc.py:62: UserWarning: Dummy sampling of alignment\n",
      "  warnings.warn(\"Dummy sampling of alignment\")\n"
     ]
    },
    {
     "data": {
      "text/plain": [
       "dict_keys(['birth_rate', 'tree', 'site_gamma_shape', 'kappa', 'frequencies'])"
      ]
     },
     "execution_count": 9,
     "metadata": {},
     "output_type": "execute_result"
    }
   ],
   "source": [
    "def build_sequence_dist_alt(tree, kappa, frequencies, site_gamma_shape):\n",
    "    # kappa has shape (..., n_branches)\n",
    "    unrooted_tree = tree.get_unrooted_tree()\n",
    "    site_rate_distribution = DiscretizedDistribution(\n",
    "        category_count=site_category_count,\n",
    "        distribution=tfp.distributions.Gamma(concentration=site_gamma_shape, rate=site_gamma_shape),\n",
    "    )\n",
    "    frequencies_b = tf.broadcast_to(tf.expand_dims(frequencies, -2), kappa.shape + (4,))\n",
    "    transition_probs_tree = get_transition_probabilities_tree(\n",
    "        unrooted_tree,\n",
    "        subst_model,\n",
    "        rate_categories=site_rate_distribution.support,\n",
    "        frequencies=frequencies_b,\n",
    "        kappa=kappa,\n",
    "        inner_batch_rank=1,\n",
    "        batch_rank=-1 # Don't add a batch dimension for branches\n",
    "    )\n",
    "    return SampleWeighted(\n",
    "        DiscreteParameterMixture(\n",
    "            site_rate_distribution,\n",
    "            LeafCTMC(\n",
    "                transition_probs_tree,\n",
    "                tf.expand_dims(frequencies, -2),\n",
    "            ),\n",
    "        ),\n",
    "        sample_shape=alignment.site_count,\n",
    "        weights=pattern_counts\n",
    "    )\n",
    "alt_model = tfp.distributions.JointDistributionNamed(dict(\n",
    "    birth_rate=tfp.distributions.LogNormal(c(1.0), c(1.5)),\n",
    "    tree=lambda birth_rate: treeflow.distributions.Yule(tree.taxon_count, birth_rate, name=\"tree\"),\n",
    "    kappa=tfp.distributions.Sample(tfp.distributions.LogNormal(c(0.0), c(2.0)), tree.branch_lengths.shape),\n",
    "    site_gamma_shape=tfp.distributions.LogNormal(c(0.0), c(1.0)),\n",
    "    frequencies=tfp.distributions.Dirichlet(c([2.0, 2.0, 2.0, 2.0])),\n",
    "    sequences=build_sequence_dist_alt\n",
    "))\n",
    "alt_model_pinned = alt_model.experimental_pin(sequences=alignment.get_encoded_sequence_tensor(tree.taxon_set))\n",
    "prior_samples = alt_model_pinned.sample_unpinned()\n",
    "prior_samples.keys()"
   ]
  },
  {
   "cell_type": "code",
   "execution_count": 10,
   "id": "6e5dd467",
   "metadata": {},
   "outputs": [
    {
     "name": "stdout",
     "output_type": "stream",
     "text": [
      "WARNING:tensorflow:@custom_gradient grad_fn has 'variables' in signature, but no ResourceVariables were used on the forward pass.\n",
      "WARNING:tensorflow:@custom_gradient grad_fn has 'variables' in signature, but no ResourceVariables were used on the forward pass.\n",
      "WARNING:tensorflow:@custom_gradient grad_fn has 'variables' in signature, but no ResourceVariables were used on the forward pass.\n",
      "WARNING:tensorflow:@custom_gradient grad_fn has 'variables' in signature, but no ResourceVariables were used on the forward pass.\n",
      "WARNING:tensorflow:@custom_gradient grad_fn has 'variables' in signature, but no ResourceVariables were used on the forward pass.\n",
      "WARNING:tensorflow:@custom_gradient grad_fn has 'variables' in signature, but no ResourceVariables were used on the forward pass.\n"
     ]
    },
    {
     "data": {
      "text/plain": [
       "[<matplotlib.lines.Line2D at 0x7f5f10432860>]"
      ]
     },
     "execution_count": 10,
     "metadata": {},
     "output_type": "execute_result"
    },
    {
     "data": {
      "image/png": "[encoded data removed]",
      "text/plain": [
       "<Figure size 432x288 with 1 Axes>"
      ]
     },
     "metadata": {
      "needs_background": "light"
     },
     "output_type": "display_data"
    }
   ],
   "source": [
    "alt_approx, alt_loss = fit_fixed_topology_variational_approximation(\n",
    "    alt_model_pinned,\n",
    "    topologies=dict(tree=tree.topology),\n",
    "    optimizer=optimizer,\n",
    "    num_steps=num_steps,\n",
    "    trace_fn= lambda x: x.loss\n",
    ")\n",
    "plt.plot(alt_loss)"
   ]
  },
  {
   "cell_type": "code",
   "execution_count": 11,
   "id": "a0e8e455",
   "metadata": {},
   "outputs": [
    {
     "name": "stderr",
     "output_type": "stream",
     "text": [
      "/home/cswa648/dev/treeflow/treeflow/tf_util/attrs.py:7: UserWarning: Temporary hotfix\n",
      "  warnings.warn(\"Temporary hotfix\")\n"
     ]
    },
    {
     "data": {
      "image/png": "[encoded data removed]",
      "text/plain": [
       "<Figure size 432x288 with 1 Axes>"
      ]
     },
     "metadata": {
      "needs_background": "light"
     },
     "output_type": "display_data"
    }
   ],
   "source": [
    "alt_samples = alt_approx.sample(n_samples)\n",
    "plt.hist(alt_samples[\"tree\"].node_heights[:, -1].numpy(), bins=50);"
   ]
  },
  {
   "cell_type": "code",
   "execution_count": 22,
   "id": "f63252b9",
   "metadata": {},
   "outputs": [],
   "source": [
    "alt_out_samples = dict(alt_samples)\n",
    "alt_tree_samples = alt_out_samples.pop(\"tree\")\n",
    "write_tensor_trees(\n",
    "    \"demo-data/carnivores.newick\",\n",
    "    alt_tree_samples.branch_lengths,\n",
    "    \"demo-out/carnivores-alt-trees.nexus\",\n",
    "    branch_metadata=dict(kappa=alt_out_samples[\"kappa\"])\n",
    ")\n",
    "write_samples_to_file(\n",
    "    alt_samples, alt_model_pinned, \"demo-out/carnivores-alt-samples.csv\", vars=alt_out_samples.keys()\n",
    ")"
   ]
  },
  {
   "cell_type": "code",
   "execution_count": 23,
   "id": "75600f1d",
   "metadata": {},
   "outputs": [
    {
     "data": {
      "text/plain": [
       "<module 'treeflow.vi' from '/home/cswa648/dev/treeflow/treeflow/vi/__init__.py'>"
      ]
     },
     "execution_count": 23,
     "metadata": {},
     "output_type": "execute_result"
    }
   ],
   "source": [
    "from importlib import reload\n",
    "import treeflow.vi\n",
    "reload(treeflow.vi)"
   ]
  },
  {
   "cell_type": "code",
   "execution_count": 24,
   "id": "ad6fcd2a",
   "metadata": {},
   "outputs": [
    {
     "data": {
      "text/plain": [
       "[<tf.Tensor: shape=(), dtype=float64, numpy=341177.1346313156>,\n",
       " <tf.Tensor: shape=(), dtype=float64, numpy=338657.6796321058>]"
      ]
     },
     "execution_count": 24,
     "metadata": {},
     "output_type": "execute_result"
    }
   ],
   "source": [
    "[tf.reduce_mean(x[-100:]) for x in [base_loss, alt_loss]]"
   ]
  },
  {
   "cell_type": "code",
   "execution_count": 33,
   "id": "5ec2986c",
   "metadata": {},
   "outputs": [
    {
     "data": {
      "text/plain": [
       "{'birth_rate': TensorShape([1000]),\n",
       " 'tree': TensorflowRootedTree(node_heights=TensorShape([1000, 61]), sampling_times=TensorShape([62]), topology=TensorflowTreeTopology(parent_indices=TensorShape([122]), child_indices=TensorShape([123, 2]), preorder_indices=TensorShape([123]))),\n",
       " 'site_gamma_shape': TensorShape([1000]),\n",
       " 'kappa': TensorShape([1000]),\n",
       " 'frequencies': TensorShape([1000, 4])}"
      ]
     },
     "execution_count": 33,
     "metadata": {},
     "output_type": "execute_result"
    }
   ],
   "source": [
    "tf.nest.map_structure(lambda x: x.shape, base_samples)"
   ]
  },
  {
   "cell_type": "code",
   "execution_count": null,
   "id": "a0328719",
   "metadata": {},
   "outputs": [
    {
     "name": "stderr",
     "output_type": "stream",
     "text": [
      "2022-06-01 09:26:39.302207: W tensorflow/core/framework/cpu_allocator_impl.cc:82] Allocation of 4416384000 exceeds 10% of free system memory.\n"
     ]
    }
   ],
   "source": [
    "from treeflow.vi import estimate_log_ml_importance_sampling\n",
    "\n",
    "base_ml_result = estimate_ml_importance_sampling(base_model_pinned, base_approx)\n",
    "alt_ml_result = estimate_ml_importance_sampling(alt_model_pinned, alt_approx)\n",
    "\n",
    "dict(\n",
    "    base=base_ml_result.numpy(),\n",
    "    lineage_variation=alt_ml_result.numpy()\n",
    ")"
   ]
  },
  {
   "cell_type": "code",
   "execution_count": null,
   "id": "60183d1a",
   "metadata": {},
   "outputs": [],
   "source": [
    "import joypy\n",
    "import numpy as np\n",
    "import pandas as pd\n",
    "\n",
    "kappa_df = pd.DataFrame(alt_samples[\"kappa\"].numpy())\n",
    "n_columns = 10\n",
    "columns = np.random.choice(kappa_df.columns, n_columns, replace=False)\n",
    "joypy.joyplot(kappa_df[columns]);"
   ]
  },
  {
   "cell_type": "markdown",
   "id": "acb40e6b",
   "metadata": {},
   "source": [
    "## Results visualisation\n"
   ]
  },
  {
   "cell_type": "markdown",
   "id": "24735a0a",
   "metadata": {},
   "source": [
    "* Use existing tree viz tools"
   ]
  }
 ],
 "metadata": {
  "kernelspec": {
   "display_name": "Python 3 (ipykernel)",
   "language": "python",
   "name": "python3"
  },
  "language_info": {
   "codemirror_mode": {
    "name": "ipython",
    "version": 3
   },
   "file_extension": ".py",
   "mimetype": "text/x-python",
   "name": "python",
   "nbconvert_exporter": "python",
   "pygments_lexer": "ipython3",
   "version": "3.10.2"
  }
 },
 "nbformat": 4,
 "nbformat_minor": 5
}
